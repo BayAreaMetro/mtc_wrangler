{
 "cells": [
  {
   "cell_type": "markdown",
   "id": "8fdb4935",
   "metadata": {},
   "source": [
    "# GMNS/Network Wrangler 2.0 Workshop\n",
    "\n",
    "***Placeholder text from workshop overview:*** *Building and maintaining transportation networks for travel models is often time-consuming and error-prone. This workshop introduces the General Modeling Network Specification (GMNS), a standardized, human- and machine-readable format developed by the Zephyr Foundation with support from FHWA. GMNS enables easier sharing of routable road network files across platforms and agencies.  Participants will also explore Network Wrangler 2.0, an open-source Python tool that simplifies network editing through “Project Cards” - standardized, human- and machine-readable text files that describe proposed changes to roadway, transit, pedestrian, or bicycle infrastructure. The tool automates network updates, supports scenario management, and facilitates collaboration across agencies and software platforms.  This hands-on workshop will guide participants through building GMNS- and Network Wrangler-ready travel model networks from scratch using open-source data. Attendees will learn how to create network scenarios with Network Wrangler and perform network analysis with GMNS standard networks, including transit accessibility evaluation. Live demonstrations will showcase how these tools streamline network development and scenario management for regional transportation planning.*  \n",
    "\n",
    "\n",
    "## Workflow Overview:\n",
    "\n",
    "*Insert updata workflow*"
   ]
  },
  {
   "cell_type": "code",
   "execution_count": 1,
   "id": "fc3363e4",
   "metadata": {},
   "outputs": [],
   "source": [
    "import argparse\n",
    "import datetime\n",
    "import pathlib\n",
    "import pickle\n",
    "import pprint\n",
    "import requests\n",
    "import statistics\n",
    "import sys\n",
    "from typing import Any, Optional, Tuple, Union\n",
    "\n",
    "import networkx\n",
    "import osmnx\n",
    "import numpy as np\n",
    "import pandas as pd\n",
    "import geopandas as gpd\n",
    "import pygris\n",
    "import shapely.geometry\n",
    "\n",
    "import tableau_utils\n",
    "import network_wrangler\n",
    "from network_wrangler import WranglerLogger\n",
    "from network_wrangler.params import LAT_LON_CRS\n",
    "from network_wrangler.roadway.network import RoadwayNetwork\n",
    "from network_wrangler.roadway.io import load_roadway_from_dataframes, write_roadway\n",
    "from network_wrangler.models.gtfs.gtfs import GtfsModel\n",
    "from network_wrangler.transit.feed.feed import Feed\n",
    "from network_wrangler.transit.network import TransitNetwork\n",
    "from network_wrangler.transit.io import load_feed_from_path, write_transit, load_transit\n",
    "from network_wrangler.models.gtfs.types import RouteType\n",
    "from network_wrangler.utils.transit import \\\n",
    "  drop_transit_agency, filter_transit_by_boundary, create_feed_from_gtfs_model\n",
    "from network_wrangler.roadway.centroids import FitForCentroidConnection, add_centroid_nodes, add_centroid_connectors\n",
    "\n",
    "from visualization import *\n",
    "\n",
    "import sys\n",
    "sys.path.append('../create_baseyear_network')\n",
    "from create_mtc_network_from_OSM import(\n",
    "    stepa_standardize_attributes,\n",
    "    step1_download_osm_network,\n",
    "    step2_simplify_network_topology,\n",
    "    step3_assign_county_node_link_numbering,\n",
    "    step4_add_centroids_and_connectors,\n",
    "    step5_prepare_gtfs_transit_data,\n",
    "    step6_create_transit_network,\n",
    ")"
   ]
  },
  {
   "cell_type": "code",
   "execution_count": 2,
   "id": "649ab988",
   "metadata": {},
   "outputs": [],
   "source": [
    "OUTPUT_DIR = pathlib.Path(\"data/processed\")\n",
    "INPUT_2023GTFS = pathlib.Path(\"M:/Data/Transit/511/2023-09\")"
   ]
  },
  {
   "cell_type": "markdown",
   "id": "daa7a8ee",
   "metadata": {},
   "source": [
    "## Step 1: Download OSM network data\n",
    "Gets raw road network from OpenStreetMap"
   ]
  },
  {
   "cell_type": "code",
   "execution_count": 3,
   "id": "c095c747",
   "metadata": {},
   "outputs": [],
   "source": [
    "# Download the OSM network data for San Francisco county\n",
    "g = step1_download_osm_network(county=\"San Francisco\", output_dir=OUTPUT_DIR) "
   ]
  },
  {
   "cell_type": "markdown",
   "id": "527d713d",
   "metadata": {},
   "source": [
    "## Step 1A: Standardize attributes (and write)  \n",
    "Note: we don't keep the results of this, since we'll use version from the simplified graph  \n",
    "*VIZ: visualize complicated block - van ness with bus lanes and footway a couple blocks north of market*"
   ]
  },
  {
   "cell_type": "code",
   "execution_count": 4,
   "id": "1bb1cf3d",
   "metadata": {},
   "outputs": [
    {
     "data": {
      "text/plain": [
       "(            A        B  key  \\\n",
       " 0     1000000  1000001    0   \n",
       " 1     1000001  1024521    0   \n",
       " 2     1000001  1024568    0   \n",
       " 3     1000002  1000003    0   \n",
       " 6     1000003  1029750    0   \n",
       " ...       ...      ...  ...   \n",
       " 1027  1057288  1057289    0   \n",
       " 1028  1057289  1057288    0   \n",
       " 1029  1057316  1056476    0   \n",
       " 1030  1057637  1057638    0   \n",
       " 1031  1057638  1057637    0   \n",
       " \n",
       "                                             osm_link_id   highway oneway  \\\n",
       " 0                                             396123635   footway  False   \n",
       " 1                                              32399102   footway  False   \n",
       " 2                                              32399102   footway  False   \n",
       " 3     [661905446, 50691047, 52721870, 52527662, 5069...  motorway   True   \n",
       " 6                               [237731428, 1212176124]  motorway   True   \n",
       " ...                                                 ...       ...    ...   \n",
       " 1027                                         1213210819  elevator  False   \n",
       " 1028                                         1213210819  elevator  False   \n",
       " 1029                                         1409575394   footway  False   \n",
       " 1030                           [1424302291, 1424302292]   footway  False   \n",
       " 1031                           [1424302291, 1424302292]   footway  False   \n",
       " \n",
       "      reversed       length                                           geometry  \\\n",
       " 0       False     9.371367  LINESTRING (-122.37459 37.70854, -122.37459 37...   \n",
       " 1       False    22.590075  LINESTRING (-122.37459 37.70863, -122.3746 37....   \n",
       " 2        True   251.690233  LINESTRING (-122.37459 37.70863, -122.37483 37...   \n",
       " 3       False  3562.367768  LINESTRING (-122.3909 37.78602, -122.39069 37....   \n",
       " 6       False   426.851936  LINESTRING (-122.36469 37.81046, -122.36435 37...   \n",
       " ...       ...          ...                                                ...   \n",
       " 1027     True     0.756450  LINESTRING (-122.39857 37.7877, -122.39857 37....   \n",
       " 1028    False     0.756450  LINESTRING (-122.39857 37.7877, -122.39857 37....   \n",
       " 1029     True   100.266390  LINESTRING (-122.43812 37.80431, -122.43839 37...   \n",
       " 1030     True    30.821432  LINESTRING (-122.47794 37.72047, -122.47813 37...   \n",
       " 1031    False    30.821432  LINESTRING (-122.47804 37.72039, -122.47807 37...   \n",
       " \n",
       "       lanes_orig  ... lanes:forward lanes:backward lanes:both_ways lanes:bus  \\\n",
       " 0            NaN  ...           NaN            NaN             NaN       NaN   \n",
       " 1            NaN  ...           NaN            NaN             NaN       NaN   \n",
       " 2            NaN  ...           NaN            NaN             NaN       NaN   \n",
       " 3            5.0  ...           NaN            NaN             NaN       NaN   \n",
       " 6            5.0  ...           NaN            NaN             NaN       NaN   \n",
       " ...          ...  ...           ...            ...             ...       ...   \n",
       " 1027         NaN  ...           NaN            NaN             NaN       NaN   \n",
       " 1028         NaN  ...           NaN            NaN             NaN       NaN   \n",
       " 1029         NaN  ...           NaN            NaN             NaN       NaN   \n",
       " 1030         NaN  ...           NaN            NaN             NaN       NaN   \n",
       " 1031         NaN  ...           NaN            NaN             NaN       NaN   \n",
       " \n",
       "      lanes:bus:forward lanes:bus:backward lanes  distance ML_access ML_lanes  \n",
       " 0                  NaN                NaN     0  0.001775      None        0  \n",
       " 1                  NaN                NaN     0  0.004278      None        0  \n",
       " 2                  NaN                NaN     0  0.047669      None        0  \n",
       " 3                  NaN                NaN     5  0.674691      None        0  \n",
       " 6                  NaN                NaN     5  0.080843      None        0  \n",
       " ...                ...                ...   ...       ...       ...      ...  \n",
       " 1027               NaN                NaN     2  0.000143      None        0  \n",
       " 1028               NaN                NaN     2  0.000143      None        0  \n",
       " 1029               NaN                NaN     0  0.018990      None        0  \n",
       " 1030               NaN                NaN     0  0.005837      None        0  \n",
       " 1031               NaN                NaN     0  0.005837      None        0  \n",
       " \n",
       " [151223 rows x 43 columns],\n",
       "              osmid          Y           X  street_count            highway  \\\n",
       " 0         31843591  37.708541 -122.374589             1                NaN   \n",
       " 1        364491481  37.708625 -122.374594             3                NaN   \n",
       " 2         32927563  37.786017 -122.390902             3                NaN   \n",
       " 3       4377020523  37.810457 -122.364690             3  motorway_junction   \n",
       " 4         32927591  37.731371 -122.423671             3  motorway_junction   \n",
       " ...            ...        ...         ...           ...                ...   \n",
       " 57669  13106059071  37.778144 -122.390898             1                NaN   \n",
       " 57670  13116777773  37.762847 -122.454142             1                NaN   \n",
       " 57671  13116777789  37.761416 -122.485706             1                NaN   \n",
       " 57672  13116777788  37.761183 -122.486522             1                NaN   \n",
       " 57673  13116790685  37.761329 -122.487830             1                NaN   \n",
       " \n",
       "        ref railway                     geometry  osm_node_id         county  \\\n",
       " 0      NaN     NaN  POINT (-122.37459 37.70854)     31843591  San Francisco   \n",
       " 1      NaN     NaN  POINT (-122.37459 37.70863)    364491481  San Francisco   \n",
       " 2      NaN     NaN   POINT (-122.3909 37.78602)     32927563  San Francisco   \n",
       " 3       4B     NaN  POINT (-122.36469 37.81046)   4377020523  San Francisco   \n",
       " 4       53     NaN  POINT (-122.42367 37.73137)     32927591  San Francisco   \n",
       " ...    ...     ...                          ...          ...            ...   \n",
       " 57669  NaN     NaN   POINT (-122.3909 37.77814)  13106059071  San Francisco   \n",
       " 57670  NaN     NaN  POINT (-122.45414 37.76285)  13116777773  San Francisco   \n",
       " 57671  NaN     NaN  POINT (-122.48571 37.76142)  13116777789  San Francisco   \n",
       " 57672  NaN     NaN  POINT (-122.48652 37.76118)  13116777788  San Francisco   \n",
       " 57673  NaN     NaN  POINT (-122.48783 37.76133)  13116790685  San Francisco   \n",
       " \n",
       "        model_node_id  \n",
       " 0            1000000  \n",
       " 1            1000001  \n",
       " 2            1000002  \n",
       " 3            1000003  \n",
       " 4            1000004  \n",
       " ...              ...  \n",
       " 57669        1057669  \n",
       " 57670        1057670  \n",
       " 57671        1057671  \n",
       " 57672        1057672  \n",
       " 57673        1057673  \n",
       " \n",
       " [57674 rows x 11 columns])"
      ]
     },
     "execution_count": 4,
     "metadata": {},
     "output_type": "execute_result"
    }
   ],
   "source": [
    "stepa_standardize_attributes(g, county=\"San Francisco\", prefix=\"1a_original_\", output_dir=OUTPUT_DIR, output_formats=[\"geojson\"])"
   ]
  },
  {
   "cell_type": "markdown",
   "id": "7bf6cb41",
   "metadata": {},
   "source": [
    "## Step 2: Simplify network topology  \n",
    "Consolidates intersections while preserving connectivity"
   ]
  },
  {
   "cell_type": "code",
   "execution_count": 5,
   "id": "90c6e23e",
   "metadata": {},
   "outputs": [],
   "source": [
    "simplified_g = step2_simplify_network_topology(g, county=\"San Francisco\", output_dir=OUTPUT_DIR)"
   ]
  },
  {
   "cell_type": "markdown",
   "id": "c1b0b622",
   "metadata": {},
   "source": [
    "## Step 2A Standardize attributes and write\n",
    "*VIZ: same as 1a for contrast*"
   ]
  },
  {
   "cell_type": "code",
   "execution_count": 6,
   "id": "111093bf",
   "metadata": {},
   "outputs": [],
   "source": [
    "links_gdf, nodes_gdf = stepa_standardize_attributes(simplified_g, county=\"San Francisco\", prefix=\"2a_simplified\", output_dir=OUTPUT_DIR, output_formats=[\"geojson\"])"
   ]
  },
  {
   "cell_type": "markdown",
   "id": "0ae0e862",
   "metadata": {},
   "source": [
    "## Step 3: Assign county-specific numbering and create RoadwayNetwork object  \n",
    "This also drops columns we're done with and writes the roadway network"
   ]
  },
  {
   "cell_type": "code",
   "execution_count": 7,
   "id": "8efed577",
   "metadata": {},
   "outputs": [],
   "source": [
    "roadway_network = step3_assign_county_node_link_numbering(links_gdf, nodes_gdf, county=\"San Francisco\", output_dir=OUTPUT_DIR, output_formats=[\"geojson\"])"
   ]
  },
  {
   "cell_type": "markdown",
   "id": "a1cdf9e3",
   "metadata": {},
   "source": [
    "## Step 4: Add centroids and centroid connectors  "
   ]
  },
  {
   "cell_type": "code",
   "execution_count": 8,
   "id": "64467033",
   "metadata": {},
   "outputs": [
    {
     "name": "stderr",
     "output_type": "stream",
     "text": [
      "Error writing roadway network in geojson: One of the arguments is of incorrect type. Please provide only Geometry objects.\n"
     ]
    }
   ],
   "source": [
    "step4_add_centroids_and_connectors(roadway_network, county=\"San Francisco\", output_dir=OUTPUT_DIR, output_formats=[\"geojson\"])"
   ]
  },
  {
   "cell_type": "markdown",
   "id": "46b7938a",
   "metadata": {},
   "source": [
    "## STEP 5: Prepare GTFS transit data: Read and filter to service date, relevant operators. Creates GtfsModel object  \n",
    "This also writes the GtfsModel as GTFS"
   ]
  },
  {
   "cell_type": "code",
   "execution_count": 9,
   "id": "b8264d93",
   "metadata": {},
   "outputs": [],
   "source": [
    "gtfs_model = step5_prepare_gtfs_transit_data(county=\"San Francisco\", input_gtfs=INPUT_2023GTFS, output_dir=OUTPUT_DIR)"
   ]
  },
  {
   "cell_type": "markdown",
   "id": "0ffce2e8",
   "metadata": {},
   "source": [
    "# STEP 6: Create TransitNetwork by integrating GtfsModel with RoadwayNetwork to create a Wrangler-flavored Feed object  \n",
    "This writes the RoadwayNetwork and TransitNetwork"
   ]
  },
  {
   "cell_type": "code",
   "execution_count": 10,
   "id": "a2d642bd",
   "metadata": {},
   "outputs": [],
   "source": [
    "transit_network = step6_create_transit_network(gtfs_model, roadway_network, county=\"San Francisco\", output_dir=OUTPUT_DIR, output_formats=[\"parquet\"])"
   ]
  }
 ],
 "metadata": {
  "kernelspec": {
   "display_name": "network_wrangler",
   "language": "python",
   "name": "python3"
  },
  "language_info": {
   "codemirror_mode": {
    "name": "ipython",
    "version": 3
   },
   "file_extension": ".py",
   "mimetype": "text/x-python",
   "name": "python",
   "nbconvert_exporter": "python",
   "pygments_lexer": "ipython3",
   "version": "3.10.18"
  }
 },
 "nbformat": 4,
 "nbformat_minor": 5
}
