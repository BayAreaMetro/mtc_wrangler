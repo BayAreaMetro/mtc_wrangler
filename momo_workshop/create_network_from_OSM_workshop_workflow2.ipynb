{
 "cells": [
  {
   "cell_type": "markdown",
   "id": "8fdb4935",
   "metadata": {},
   "source": [
    "# GMNS/Network Wrangler 2.0 Workshop\n",
    "\n",
    "***Placeholder text from workshop overview:*** *Building and maintaining transportation networks for travel models is often time-consuming and error-prone. This workshop introduces the General Modeling Network Specification (GMNS), a standardized, human- and machine-readable format developed by the Zephyr Foundation with support from FHWA. GMNS enables easier sharing of routable road network files across platforms and agencies.  Participants will also explore Network Wrangler 2.0, an open-source Python tool that simplifies network editing through “Project Cards” - standardized, human- and machine-readable text files that describe proposed changes to roadway, transit, pedestrian, or bicycle infrastructure. The tool automates network updates, supports scenario management, and facilitates collaboration across agencies and software platforms.  This hands-on workshop will guide participants through building GMNS- and Network Wrangler-ready travel model networks from scratch using open-source data. Attendees will learn how to create network scenarios with Network Wrangler and perform network analysis with GMNS standard networks, including transit accessibility evaluation. Live demonstrations will showcase how these tools streamline network development and scenario management for regional transportation planning.*  \n",
    "\n",
    "\n",
    "## Workflow Overview:\n",
    "\n",
    "*Insert updata workflow*"
   ]
  },
  {
   "cell_type": "code",
   "execution_count": null,
   "id": "fc3363e4",
   "metadata": {},
   "outputs": [],
   "source": [
    "import IPython\n",
    "from IPython.display import display\n",
    "IPython.core.display.display_html('<script>IPython.notebook.trusted = true;</script>', raw=True)\n",
    "\n",
    "import argparse\n",
    "import datetime\n",
    "import pathlib\n",
    "import pickle\n",
    "import pprint\n",
    "import requests\n",
    "import statistics\n",
    "import sys\n",
    "from typing import Any, Optional, Tuple, Union\n",
    "\n",
    "import networkx\n",
    "import osmnx\n",
    "import numpy as np\n",
    "import pandas as pd\n",
    "import geopandas as gpd\n",
    "import pygris\n",
    "import shapely.geometry\n",
    "\n",
    "import folium\n",
    "from folium import plugins\n",
    "import seaborn as sns\n",
    "\n",
    "import tableau_utils\n",
    "import network_wrangler\n",
    "from network_wrangler import WranglerLogger\n",
    "from network_wrangler.params import LAT_LON_CRS\n",
    "from network_wrangler.roadway.network import RoadwayNetwork\n",
    "from network_wrangler.roadway.io import load_roadway_from_dataframes, write_roadway\n",
    "from network_wrangler.roadway.clip import clip_roadway, clip_roadway_to_dfs\n",
    "from network_wrangler.models.gtfs.gtfs import GtfsModel\n",
    "from network_wrangler.transit.feed.feed import Feed\n",
    "from network_wrangler.transit.network import TransitNetwork\n",
    "from network_wrangler.transit.io import load_feed_from_path, write_transit, load_transit\n",
    "from network_wrangler.models.gtfs.types import RouteType\n",
    "from network_wrangler.utils.transit import \\\n",
    "  drop_transit_agency, filter_transit_by_boundary, create_feed_from_gtfs_model\n",
    "from network_wrangler.roadway.centroids import FitForCentroidConnection, add_centroid_nodes, add_centroid_connectors\n",
    "\n",
    "from visualization import *\n",
    "\n",
    "import sys\n",
    "sys.path.append('../create_baseyear_network')\n",
    "from create_mtc_network_from_OSM import(\n",
    "    get_travel_model_zones,\n",
    "    stepa_standardize_attributes,\n",
    "    step1_download_osm_network,\n",
    "    step2_simplify_network_topology,\n",
    "    step3_assign_county_node_link_numbering,\n",
    "    step4_add_centroids_and_connectors,\n",
    "    step5_prepare_gtfs_transit_data,\n",
    "    step6_create_transit_network,\n",
    ")"
   ]
  },
  {
   "cell_type": "code",
   "execution_count": null,
   "id": "649ab988",
   "metadata": {},
   "outputs": [],
   "source": [
    "OUTPUT_DIR = pathlib.Path(\"output_OSM\").resolve()\n",
    "OUTPUT_DIR.mkdir(exist_ok=True)\n",
    "INPUT_2023GTFS = pathlib.Path(\"M:/Data/Transit/511/2023-09\")\n",
    "\n",
    "import getpass\n",
    "if getpass.getuser()==\"lmz\":\n",
    "    INPUT_2023GTFS = (OUTPUT_DIR / \"..\" / \"..\" / \"..\" / \"511gtfs_2023-09\").resolve()\n",
    "    print(INPUT_2023GTFS)\n",
    "\n",
    "from network_wrangler import WranglerLogger\n",
    "import pathlib\n",
    "info_log_file = OUTPUT_DIR / \"create_SF_network_info.log\"\n",
    "debug_log_file = OUTPUT_DIR / \"create_SF_network_debug.log\"\n",
    "network_wrangler.setup_logging(\n",
    "    info_log_file,\n",
    "    debug_log_file,\n",
    "    std_out_level=\"info\",\n",
    "    file_mode=\"w\"\n",
    "  )\n",
    "\n",
    "# We have custom loggers and we want to prevent their messages from being\n",
    "# processed by the root logger's handlers (if any remain)\n",
    "WranglerLogger.propagate = False\n",
    "\n",
    "# this one will just go to the debug file\n",
    "WranglerLogger.debug(\"Debug test\")\n",
    "# this will go to the console (stdout) and the info & debug files\n",
    "WranglerLogger.info(\"Info test\")"
   ]
  },
  {
   "cell_type": "code",
   "execution_count": null,
   "id": "c6d83b56",
   "metadata": {},
   "outputs": [],
   "source": [
    "# fetch travel model zones; this will save into OUTPUT_DIR/mtc_zones\n",
    "travel_model_zones = get_travel_model_zones(OUTPUT_DIR)\n",
    "print(travel_model_zones[\"TAZ\"])"
   ]
  },
  {
   "cell_type": "markdown",
   "id": "daa7a8ee",
   "metadata": {},
   "source": [
    "## Step 1: Download OSM network data\n",
    "Gets raw road network from OpenStreetMap"
   ]
  },
  {
   "cell_type": "code",
   "execution_count": null,
   "id": "c095c747",
   "metadata": {},
   "outputs": [],
   "source": [
    "# Download the OSM network data for San Francisco county\n",
    "osm_g = step1_download_osm_network(county=\"San Francisco\", output_dir=OUTPUT_DIR) "
   ]
  },
  {
   "cell_type": "code",
   "execution_count": null,
   "id": "8097d95d",
   "metadata": {},
   "outputs": [],
   "source": [
    "# Visualize the network\n",
    "fig, ax = create_osmnx_plot(osm_g)"
   ]
  },
  {
   "cell_type": "markdown",
   "id": "527d713d",
   "metadata": {},
   "source": [
    "## Step 1A: Standardize attributes (and write)  \n",
    "Note: we don't keep the results of this, since we'll use version from the simplified graph  \n",
    "*VIZ: visualize complicated block - van ness with bus lanes and footway a couple blocks north of market*"
   ]
  },
  {
   "cell_type": "code",
   "execution_count": null,
   "id": "1bb1cf3d",
   "metadata": {},
   "outputs": [],
   "source": [
    "links_unsimplified_gdf, nodes_unsimplified_gdf = stepa_standardize_attributes(\n",
    "    osm_g, \n",
    "    county=\"San Francisco\", \n",
    "    prefix=\"1a_original_\", \n",
    "    output_dir=OUTPUT_DIR,\n",
    "    output_formats=[\"geojson\"]\n",
    ")"
   ]
  },
  {
   "cell_type": "markdown",
   "id": "7bf6cb41",
   "metadata": {},
   "source": [
    "## Step 2: Simplify network topology  \n",
    "Consolidates intersections while preserving connectivity"
   ]
  },
  {
   "cell_type": "code",
   "execution_count": null,
   "id": "90c6e23e",
   "metadata": {},
   "outputs": [],
   "source": [
    "simplified_g = step2_simplify_network_topology(osm_g, county=\"San Francisco\", output_dir=OUTPUT_DIR)"
   ]
  },
  {
   "cell_type": "code",
   "execution_count": null,
   "id": "d6add601",
   "metadata": {},
   "outputs": [],
   "source": [
    "compare_original_and_simplified_networks(osm_g, simplified_g)\n",
    "plot_node_degree_changes(osm_g, simplified_g)"
   ]
  },
  {
   "cell_type": "markdown",
   "id": "c1b0b622",
   "metadata": {},
   "source": [
    "## Step 2A Standardize attributes and write\n",
    "*VIZ: same as 1a for contrast*"
   ]
  },
  {
   "cell_type": "code",
   "execution_count": null,
   "id": "111093bf",
   "metadata": {},
   "outputs": [],
   "source": [
    "links_gdf, nodes_gdf = stepa_standardize_attributes(\n",
    "    simplified_g, county=\"San Francisco\", \n",
    "    prefix=\"2a_simplified\", \n",
    "    output_dir=OUTPUT_DIR,\n",
    "    output_formats=[\"geojson\"]\n",
    ")"
   ]
  },
  {
   "cell_type": "code",
   "execution_count": null,
   "id": "5a00a1c0",
   "metadata": {},
   "outputs": [],
   "source": [
    "links_unsimplified_clip_gdf, links_clip_gdf = clip_original_and_simplified_links(links_unsimplified_gdf, links_gdf, travel_model_zones[\"TAZ\"])\n",
    "print(f\"links_unsimplified_clip_gdf has length {len(links_unsimplified_clip_gdf)}\")\n",
    "print(f\"links_clip_gdf has length {len(links_clip_gdf)}\")"
   ]
  },
  {
   "cell_type": "code",
   "execution_count": null,
   "id": "314ac095",
   "metadata": {},
   "outputs": [],
   "source": [
    "m = map_original_and_simplified_links(links_unsimplified_clip_gdf, links_clip_gdf)\n",
    "m"
   ]
  },
  {
   "cell_type": "code",
   "execution_count": null,
   "id": "b047617f",
   "metadata": {},
   "outputs": [],
   "source": [
    "links_unsimplified_gdf[\"highway\"].unique()"
   ]
  },
  {
   "cell_type": "markdown",
   "id": "0ae0e862",
   "metadata": {},
   "source": [
    "## Step 3: Assign county-specific numbering and create RoadwayNetwork object  \n",
    "This also drops columns we're done with and writes the roadway network"
   ]
  },
  {
   "cell_type": "code",
   "execution_count": null,
   "id": "8efed577",
   "metadata": {},
   "outputs": [],
   "source": [
    "roadway_network = step3_assign_county_node_link_numbering(links_gdf, nodes_gdf, county=\"San Francisco\", output_dir=OUTPUT_DIR, output_formats=[\"geojson\"])"
   ]
  },
  {
   "cell_type": "markdown",
   "id": "a1cdf9e3",
   "metadata": {},
   "source": [
    "## Step 4: Add centroids and centroid connectors  "
   ]
  },
  {
   "cell_type": "code",
   "execution_count": null,
   "id": "64467033",
   "metadata": {},
   "outputs": [],
   "source": [
    "step4_add_centroids_and_connectors(roadway_network, county=\"San Francisco\", output_dir=OUTPUT_DIR, output_formats=[\"geojson\"])"
   ]
  },
  {
   "cell_type": "code",
   "execution_count": null,
   "id": "3b3b6b1a",
   "metadata": {},
   "outputs": [],
   "source": [
    "m = create_roadway_network_map(roadway_network.links_df)\n",
    "m"
   ]
  },
  {
   "cell_type": "markdown",
   "id": "46b7938a",
   "metadata": {},
   "source": [
    "## STEP 5: Prepare GTFS transit data: Read and filter to service date, relevant operators. Creates GtfsModel object  \n",
    "This also writes the GtfsModel as GTFS"
   ]
  },
  {
   "cell_type": "code",
   "execution_count": null,
   "id": "b8264d93",
   "metadata": {},
   "outputs": [],
   "source": [
    "gtfs_model = step5_prepare_gtfs_transit_data(county=\"San Francisco\", input_gtfs=INPUT_2023GTFS, output_dir=OUTPUT_DIR)"
   ]
  },
  {
   "cell_type": "markdown",
   "id": "0ffce2e8",
   "metadata": {},
   "source": [
    "# STEP 6: Create TransitNetwork by integrating GtfsModel with RoadwayNetwork to create a Wrangler-flavored Feed object  \n",
    "This writes the RoadwayNetwork and TransitNetwork"
   ]
  },
  {
   "cell_type": "code",
   "execution_count": null,
   "id": "a2d642bd",
   "metadata": {},
   "outputs": [],
   "source": [
    "transit_network = step6_create_transit_network(gtfs_model, roadway_network, county=\"San Francisco\", output_dir=OUTPUT_DIR, output_formats=[\"parquet\"])"
   ]
  },
  {
   "cell_type": "code",
   "execution_count": null,
   "id": "9f481cff",
   "metadata": {},
   "outputs": [],
   "source": [
    "# visualize, now with rail links\n",
    "m = create_roadway_network_map(roadway_network.links_df)\n",
    "m"
   ]
  },
  {
   "cell_type": "code",
   "execution_count": null,
   "id": "df153306",
   "metadata": {},
   "outputs": [],
   "source": [
    "\n",
    "# print(f\"transit_network.feed.shapes.columns: {transit_network.feed.shapes.columns}\")\n",
    "shape_links_gdf = transit_network.feed.shapes.sort_values(by=[\"shape_id\",\"shape_pt_sequence\"]).reset_index(drop=True)\n",
    "shape_links_gdf[\"next_shape_model_node_id\"] = shape_links_gdf.groupby(\"shape_id\")[\"shape_model_node_id\"].shift(-1)\n",
    "shape_links_gdf[\"next_shape_pt_sequence\"] = shape_links_gdf.groupby(\"shape_id\")[\"shape_pt_sequence\"].shift(-1)\n",
    "# Filter to only rows that have a next node (excludes last point of each shape)\n",
    "shape_links_gdf = shape_links_gdf.loc[ shape_links_gdf[\"next_shape_model_node_id\"].notna() ]\n",
    "shape_links_gdf[\"next_shape_model_node_id\"] = shape_links_gdf[\"next_shape_model_node_id\"].astype(int)\n",
    "shape_links_gdf[\"next_shape_pt_sequence\"] = shape_links_gdf[\"next_shape_pt_sequence\"].astype(int)\n",
    "shape_links_gdf.rename(columns={\"shape_model_node_id\":\"A\", \"next_shape_model_node_id\":\"B\"}, inplace=True)\n",
    "# display(shape_links_gdf.loc[ shape_links_gdf.shape_id==\"SF:1400:20230930\", [\"route_type\",\"route_id\",\"shape_pt_sequence\",\"next_shape_pt_sequence\",\"A\",\"B\"]])\n",
    "\n",
    "# drop these columns\n",
    "shape_links_gdf.drop(columns=[\"shape_id\",\"shape_pt_lat\",\"shape_pt_lon\",\"geometry\",\"stop_id\",\"stop_name\"], inplace=True)\n",
    "# print(f\"shape_links_gdf.columns: {shape_links_gdf.columns}\")\n",
    "\n",
    "# get road network shapes\n",
    "roadnet_shapes_gdf = roadway_network.links_df\n",
    "# print(f\"roadnet_shapes_gdf.columns:{roadnet_shapes_gdf.columns}\")\n",
    "\n",
    "# join to roadway_links.shape_df\n",
    "shape_roadnet_links_gdf = gpd.GeoDataFrame(\n",
    "    pd.merge(\n",
    "        left=shape_links_gdf,\n",
    "        right=roadnet_shapes_gdf,\n",
    "        on=[\"A\",\"B\"],\n",
    "        how=\"left\",\n",
    "        indicator=True\n",
    "    ), crs=roadnet_shapes_gdf.crs\n",
    ")\n",
    "print(f\"Route ids: {shape_roadnet_links_gdf[\"route_id\"].unique()}\")\n",
    "\n",
    "create_roadway_transit_map(roadway_network.links_df, shape_roadnet_links_gdf, route_ids=[\"SF:1\",\"SF:9\",\"SF:28R\"])"
   ]
  }
 ],
 "metadata": {
  "kernelspec": {
   "display_name": "network_wrangler_py312",
   "language": "python",
   "name": "python3"
  },
  "language_info": {
   "codemirror_mode": {
    "name": "ipython",
    "version": 3
   },
   "file_extension": ".py",
   "mimetype": "text/x-python",
   "name": "python",
   "nbconvert_exporter": "python",
   "pygments_lexer": "ipython3",
   "version": "3.12.11"
  }
 },
 "nbformat": 4,
 "nbformat_minor": 5
}
