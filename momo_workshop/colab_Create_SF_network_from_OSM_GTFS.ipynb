{
  "cells": [
    {
      "cell_type": "markdown",
      "metadata": {
        "id": "view-in-github",
        "colab_type": "text"
      },
      "source": [
        "<a href=\"https://colab.research.google.com/github/BayAreaMetro/mtc_wrangler/blob/main/momo_workshop/colab_Create_SF_network_from_OSM_GTFS.ipynb\" target=\"_parent\"><img src=\"https://colab.research.google.com/assets/colab-badge.svg\" alt=\"Open In Colab\"/></a>"
      ]
    },
    {
      "cell_type": "markdown",
      "metadata": {
        "id": "83yVrP3xB1rW"
      },
      "source": [
        "# GMNS/Network Wrangler 2.0 Workshop - Building a San Francisco Network\n",
        "---\n",
        "This workshop workbook demonstrates how to use network_wrangler to create a base network from Open Streetmap (OSM) and a regional GTFS feed.\n",
        "\n",
        "In addition to using the network_wrangler library, this notebook uses the script, [`create_mtc_network_from_OSM.py`](https://github.com/BayAreaMetro/mtc_wrangler/blob/main/create_baseyear_network/create_mtc_network_from_OSM.py). The script also contains a main method and works as a standalone tool, which would be more practical for building an actual network; this demonstration just uses the python notebook in order to illustrate the output of the major steps.\n"
      ]
    },
    {
      "cell_type": "markdown",
      "metadata": {
        "id": "hmyQtrtt8GvR"
      },
      "source": [
        "# 🏞 Setup Environment"
      ]
    },
    {
      "cell_type": "markdown",
      "metadata": {
        "id": "ecPXAk2kaI_k"
      },
      "source": [
        "## Fetch code from GitHub\n",
        "\n",
        "Fetch [network_wrangler code](https://github.com/BayAreaMetro/network_wrangler/tree/centroids) and [network creation script](https://github.com/BayAreaMetro/mtc_wrangler/blob/main/create_baseyear_network/create_mtc_network_from_OSM.py).\n",
        "Currently the network_wrangler code is the centroids branch of a BayAreaMetro fork, but this will be merged into [`network_wrangler`](https://github.com/network-wrangler/network_wrangler) after review."
      ]
    },
    {
      "cell_type": "code",
      "execution_count": null,
      "metadata": {
        "id": "h1M8sWZrzPW7"
      },
      "outputs": [],
      "source": [
        "!git clone https://github.com/BayAreaMetro/network_wrangler.git\n",
        "!git clone https://github.com/BayAreaMetro/mtc_wrangler.git"
      ]
    },
    {
      "cell_type": "markdown",
      "metadata": {
        "id": "L6wpO4ez-S-n"
      },
      "source": [
        "Ensure `mtc_wrangler` code is up-to-date (we're fixing bugs!)"
      ]
    },
    {
      "cell_type": "code",
      "execution_count": null,
      "metadata": {
        "id": "vmueaMHf-bdD"
      },
      "outputs": [],
      "source": [
        "%cd /content/mtc_wrangler/\n",
        "!git pull\n",
        "print(\"Last commit for mtc_wrangler:\")\n",
        "!git log -1\n"
      ]
    },
    {
      "cell_type": "markdown",
      "metadata": {
        "id": "cvtflqVr-uxy"
      },
      "source": [
        "Ensure `network_wrangler` is on the `centroids` branch and up-to-date. Install package in editable mode."
      ]
    },
    {
      "cell_type": "code",
      "execution_count": null,
      "metadata": {
        "id": "EU478mg--4Xi"
      },
      "outputs": [],
      "source": [
        "%cd /content/network_wrangler/\n",
        "!git pull\n",
        "!git checkout centroids\n",
        "print(\"Last commit for network_wrangler on centroids branch:\")\n",
        "!git log -1"
      ]
    },
    {
      "cell_type": "markdown",
      "metadata": {
        "id": "ul2Qal9b_XiG"
      },
      "source": [
        "## Install python packages and test import\n",
        "This includes:\n",
        "* `scikit-learn` for nearest neighbor searches to match transit to roadway network,\n",
        "* `pygris` to fetch county shapefiles,\n",
        "* `mapclassify` for visualization,\n",
        "* `us` for state lookup codes\n",
        "* and local version of `network_wrangler`"
      ]
    },
    {
      "cell_type": "code",
      "execution_count": null,
      "metadata": {
        "id": "z40379AN_m1i"
      },
      "outputs": [],
      "source": [
        "%%capture python_install_cap\n",
        "!pip install scikit-learn pygris mapclassify us\n",
        "# Install Tableau package if using Tableau for visualization\n",
        "#!pip install tableauhyperapi\n",
        "%cd /content/network_wrangler/\n",
        "!pip install -e ."
      ]
    },
    {
      "cell_type": "code",
      "execution_count": null,
      "metadata": {
        "collapsed": true,
        "id": "c7bB39Vu0IDD"
      },
      "outputs": [],
      "source": [
        "# run this if you want to see the output from the python install\n",
        "print(python_install_cap)"
      ]
    },
    {
      "cell_type": "code",
      "execution_count": null,
      "metadata": {
        "id": "7kklZbYs0RYa"
      },
      "outputs": [],
      "source": [
        "import sys\n",
        "print(sys.version)\n",
        "# make sure we can import network_wrangler\n",
        "import network_wrangler\n",
        "import pprint\n",
        "print(pprint.pformat(dir(network_wrangler)))"
      ]
    },
    {
      "cell_type": "markdown",
      "metadata": {
        "id": "tPiRPky1CKlW"
      },
      "source": [
        "## 🚌 🚆 Fetch public GTFS Input files from Google Drive\n",
        "\n",
        "\n",
        "This is the regional transit feed for the San Francisco Bay Area, provided by [511 SF Bay’s Portal for Open Transit Data](https://511.org/open-data/transit). This was downloaded on October 2, 2024 via `http://api.511.org/transit/datafeeds?api_key=[my_api_key]&operator_id=RG&historic=2023-09`\n"
      ]
    },
    {
      "cell_type": "code",
      "execution_count": null,
      "metadata": {
        "id": "zZDe_eCWCJzl"
      },
      "outputs": [],
      "source": [
        "%cd /content/\n",
        "!mkdir BayArea_511gtfs_2023-09\n",
        "%cd /content/BayArea_511gtfs_2023-09\n",
        "!gdown 1wu-echoNNi5NzQh3BT4RwfnHYlUg8ZK5\n",
        "!unzip BayArea_511gtfs_2023-09.zip"
      ]
    },
    {
      "cell_type": "markdown",
      "source": [
        "## Fetch TIGER county files from Google Drive"
      ],
      "metadata": {
        "id": "S_dPr8LEyXml"
      }
    },
    {
      "cell_type": "code",
      "source": [
        "%cd /content\n",
        "!mkdir tl_2010_us_county10\n",
        "%cd /content/tl_2010_us_county10\n",
        "!gdown 1vzmweK-QysWeVWBhNAC5R-pd4jfKlzV5\n",
        "!unzip tl_2010_us_county10.zip"
      ],
      "metadata": {
        "id": "PNGMtnGQyeFY"
      },
      "execution_count": null,
      "outputs": []
    },
    {
      "cell_type": "markdown",
      "metadata": {
        "id": "xAyegiaWvmN2"
      },
      "source": [
        "## Setup Logging\n",
        "\n",
        "We have both info and debug logging. Info logs are high-level and will get reported to stdout, while debug logs are very detailed and will only be logged to the debug log file."
      ]
    },
    {
      "cell_type": "code",
      "execution_count": null,
      "metadata": {
        "collapsed": true,
        "id": "Vxi6b1AnP0Zk"
      },
      "outputs": [],
      "source": [
        "%cd /content/\n",
        "from network_wrangler import WranglerLogger\n",
        "import pathlib\n",
        "info_log_file = pathlib.Path(\"create_SF_network_info.log\")\n",
        "debug_log_file = pathlib.Path(\"create_SF_network_debug.log\")\n",
        "network_wrangler.setup_logging(\n",
        "    info_log_file,\n",
        "    debug_log_file,\n",
        "    std_out_level=\"info\",\n",
        "    file_mode=\"w\"\n",
        "  )\n",
        "\n",
        "# We have custom loggers and we want to prevent their messages from being\n",
        "# processed by the root logger's handlers (if any remain)\n",
        "WranglerLogger.propagate = False\n",
        "\n",
        "# this one will just go to the debug file\n",
        "WranglerLogger.debug(\"Debug test\")\n",
        "# this will go to the console (stdout) and the info & debug files\n",
        "WranglerLogger.info(\"Info test\")"
      ]
    },
    {
      "cell_type": "code",
      "execution_count": null,
      "metadata": {
        "id": "T0pOJCUbUO1d"
      },
      "outputs": [],
      "source": [
        "!tail /content/create_SF_network_debug.log"
      ]
    },
    {
      "cell_type": "markdown",
      "metadata": {
        "id": "2rQuPnP4wZlT"
      },
      "source": [
        "## Create output directory and import script code"
      ]
    },
    {
      "cell_type": "code",
      "execution_count": null,
      "metadata": {
        "id": "Mznf7-8axVwV"
      },
      "outputs": [],
      "source": [
        "%cd /content/mtc_wrangler/create_baseyear_network\n",
        "from create_mtc_network_from_OSM import (\n",
        "  get_travel_model_zones,\n",
        "  step1_download_osm_network,\n",
        "  stepa_standardize_attributes,\n",
        "  step2_simplify_network_topology,\n",
        "  step3_assign_county_node_link_numbering,\n",
        "  step4_add_centroids_and_connectors,\n",
        "  step5_prepare_gtfs_transit_data,\n",
        "  step6_create_transit_network\n",
        ")\n",
        "%cd /content/mtc_wrangler/momo_workshop\n",
        "from visualization import *\n",
        "\n",
        "OUTPUT_DIR = pathlib.Path(\"/content/output_SF_OSM\")\n",
        "OUTPUT_DIR.mkdir(exist_ok=True)"
      ]
    },
    {
      "cell_type": "markdown",
      "metadata": {
        "id": "KwQv1RPJrpfe"
      },
      "source": [
        "## Fetch travel model zone shapefiles\n",
        "These are being developed here: https://github.com/BayAreaMetro/tm2py-utils/tree/main/tm2py_utils/inputs/maz_taz"
      ]
    },
    {
      "cell_type": "code",
      "execution_count": null,
      "metadata": {
        "id": "YzFpoNnFr7lP"
      },
      "outputs": [],
      "source": [
        "travel_model_zones = get_travel_model_zones(OUTPUT_DIR)"
      ]
    },
    {
      "cell_type": "markdown",
      "metadata": {
        "id": "YBN3hmhjaqG2"
      },
      "source": [
        "# 🏗 Build the network!\n",
        "---\n"
      ]
    },
    {
      "cell_type": "markdown",
      "metadata": {
        "id": "bdgRhZtRwFKK"
      },
      "source": [
        "## Step 1: Download OSM network data\n",
        "\n",
        "This downloads the Open Street Map data for San Francisco county using [osmnx](https://osmnx.readthedocs.io/)"
      ]
    },
    {
      "cell_type": "code",
      "execution_count": null,
      "metadata": {
        "id": "L2D6lhn9wPgC"
      },
      "outputs": [],
      "source": [
        "# Download the OSM network data for San Francisco county\n",
        "# This can take a couple of minutes\n",
        "osm_g = step1_download_osm_network(\"San Francisco\", OUTPUT_DIR)\n",
        "print(type(osm_g))"
      ]
    },
    {
      "cell_type": "code",
      "execution_count": null,
      "metadata": {
        "id": "sh9kJ6rSZshw"
      },
      "outputs": [],
      "source": [
        "# quick plot of the network graph\n",
        "fig, ax = create_osmnx_plot(osm_g)"
      ]
    },
    {
      "cell_type": "markdown",
      "metadata": {
        "id": "B3HDaoO7zUMP"
      },
      "source": [
        "## Step 1a: standardize attributes for the roadway network\n",
        "Optionally write it, if output format arguments are specified."
      ]
    },
    {
      "cell_type": "code",
      "execution_count": null,
      "metadata": {
        "id": "8IAmEQe3zacg"
      },
      "outputs": [],
      "source": [
        "links_unsimplified_gdf, nodes_unsimplified_gdf = stepa_standardize_attributes(\n",
        "    osm_g, \"San Francisco\", \"1a_original_\", OUTPUT_DIR, []\n",
        "  )"
      ]
    },
    {
      "cell_type": "markdown",
      "metadata": {
        "id": "CIBYBcvBBemu"
      },
      "source": [
        "## Step 2: Simplify network topology\n",
        "This consolidates intersections while preserving connectivity."
      ]
    },
    {
      "cell_type": "code",
      "execution_count": null,
      "metadata": {
        "id": "EiPxjdz2DlQQ"
      },
      "outputs": [],
      "source": [
        "simplified_g = step2_simplify_network_topology(osm_g, \"San Francisco\", OUTPUT_DIR)\n",
        "print(type(osm_g))"
      ]
    },
    {
      "cell_type": "markdown",
      "metadata": {
        "id": "s7B6XFbiMm38"
      },
      "source": [
        "Summarize some of the differences between the original and simplified."
      ]
    },
    {
      "cell_type": "code",
      "execution_count": null,
      "metadata": {
        "id": "Aec4NJTiMqLG"
      },
      "outputs": [],
      "source": [
        "compare_original_and_simplified_networks(osm_g, simplified_g)\n",
        "# Plot node degree changes original vs simplified\n",
        "plot_node_degree_changes(osm_g, simplified_g)"
      ]
    },
    {
      "cell_type": "markdown",
      "metadata": {
        "id": "4YZATnabD168"
      },
      "source": [
        "## Step 2a: standardize attributes for the roadway network\n",
        "Optionally write it, if output format arguments are specified."
      ]
    },
    {
      "cell_type": "code",
      "execution_count": null,
      "metadata": {
        "id": "CHrlxR5NEPtC"
      },
      "outputs": [],
      "source": [
        "links_gdf, nodes_gdf = stepa_standardize_attributes(\n",
        "    simplified_g, \"San Francisco\",\n",
        "    prefix=\"2a_simplified\",\n",
        "    output_dir=OUTPUT_DIR,\n",
        "    output_formats=[\"geojson\"]\n",
        "  )\n"
      ]
    },
    {
      "cell_type": "code",
      "execution_count": null,
      "metadata": {
        "id": "aQyH2A3McPUd"
      },
      "outputs": [],
      "source": [
        "# clip to smaller area for visualization\n",
        "orig_links_gdf_clip, links_gdf_clip = clip_original_and_simplified_links(links_unsimplified_gdf, links_gdf, travel_model_zones[\"TAZ\"])"
      ]
    },
    {
      "cell_type": "code",
      "execution_count": null,
      "metadata": {
        "id": "uvW4XfMx_ukX"
      },
      "outputs": [],
      "source": [
        "map_original_and_simplified_links(orig_links_gdf_clip, links_gdf_clip)"
      ]
    },
    {
      "cell_type": "markdown",
      "metadata": {
        "id": "R8hWrEXyErR0"
      },
      "source": [
        "## Step 3: Assign county-specific numbering and create [RoadwayNetwork](https://bayareametro.github.io/network_wrangler/main/api/#network_wrangler.roadway.network.RoadwayNetwork) instance.\n",
        "This also drops OSM columns we've translated into standard columns and writes the roadway network"
      ]
    },
    {
      "cell_type": "code",
      "execution_count": null,
      "metadata": {
        "id": "S2yHmYTLE3gn"
      },
      "outputs": [],
      "source": [
        "roadway_network = step3_assign_county_node_link_numbering(\n",
        "    links_gdf, nodes_gdf,\n",
        "    county=\"San Francisco\",\n",
        "    output_dir=OUTPUT_DIR,\n",
        "    output_formats=[\"geojson\"]\n",
        ")"
      ]
    },
    {
      "cell_type": "markdown",
      "metadata": {
        "id": "IkWW6HaGFFrp"
      },
      "source": [
        "## Step 4: Add centroids and centroid connectors\n",
        "This modifies the roadway_network in place."
      ]
    },
    {
      "cell_type": "code",
      "execution_count": null,
      "metadata": {
        "id": "vEOySIumFKa1"
      },
      "outputs": [],
      "source": [
        "step4_add_centroids_and_connectors(\n",
        "    roadway_network,\n",
        "    county=\"San Francisco\",\n",
        "    output_dir=OUTPUT_DIR,\n",
        "    output_formats=[\"geojson\"]\n",
        ")"
      ]
    },
    {
      "cell_type": "code",
      "execution_count": null,
      "metadata": {
        "id": "G3DVbxjhSd2S"
      },
      "outputs": [],
      "source": [
        "# Let's take a look\n",
        "# bbox_name arg can specify clipping area (one of 'SF_downtown''SF_financial_district''SF_mission')\n",
        "# If none passed, will show SF\n",
        "create_roadway_network_map(roadway_network.links_df, bbox_name=\"SF_downtown\")"
      ]
    },
    {
      "cell_type": "markdown",
      "metadata": {
        "id": "_nZEqCXeFpq7"
      },
      "source": [
        "## Step 5: Prepare GTFS transit data\n",
        "Read and filter to service date, relevant operators. Creates [GtfsModel](https://bayareametro.github.io/network_wrangler/main/api_transit/#network_wrangler.models.gtfs.gtfs.GtfsModel) instance.\n",
        "\n",
        "This is a bit noisy because there are a lot of operators in the Bay Area to get dropped.  It may have been more prudent to just add SF Muni 🚍, BART 🚝 and Caltrain 🚈 directly, but the underlying code was written to scale for the region.\n"
      ]
    },
    {
      "cell_type": "code",
      "execution_count": null,
      "metadata": {
        "id": "CZTnprn4GjwL"
      },
      "outputs": [],
      "source": [
        "gtfs_model = step5_prepare_gtfs_transit_data(\n",
        "    county=\"San Francisco\",\n",
        "    input_gtfs=pathlib.Path(\"/content/BayArea_511gtfs_2023-09\"),\n",
        "    output_dir=OUTPUT_DIR\n",
        ")"
      ]
    },
    {
      "cell_type": "markdown",
      "metadata": {
        "id": "-IsJj66rG44j"
      },
      "source": [
        "## Step 6: Create TransitNetwork by integrating GtfsModel with RoadwayNetwork\n",
        "This updates the tables in the [GtfsModel](https://bayareametro.github.io/network_wrangler/main/api_transit/#network_wrangler.models.gtfs.gtfs.GtfsModel) instance so they're wrangler-flavored, where nodes refer to the [RoadwayNetwork](https://bayareametro.github.io/network_wrangler/main/api/#network_wrangler.roadway.network.RoadwayNetwork)  instance. For bus routes, this means \"snapping\" stops to existing nodes; for other types of transit, this means creating nodes and links in the roadway network that transit-specific. With this done, a Wrangler-flavored [Feed](https://bayareametro.github.io/network_wrangler/main/api_transit/#network_wrangler.transit.feed.feed.Feed) instance can be created and incorporated into a [TransitNetwork](https://bayareametro.github.io/network_wrangler/main/api/#network_wrangler.transit.network.TransitNetwork) instance.\n"
      ]
    },
    {
      "cell_type": "code",
      "execution_count": null,
      "metadata": {
        "id": "Qwrryb_0H945"
      },
      "outputs": [],
      "source": [
        "transit_network, shape_links_gdf = step6_create_transit_network(\n",
        "    gtfs_model,\n",
        "    roadway_network,\n",
        "    county=\"San Francisco\",\n",
        "    output_dir=OUTPUT_DIR,\n",
        "    output_formats=[\"geojson\"]\n",
        ")"
      ]
    },
    {
      "cell_type": "code",
      "source": [
        "# Visualize roadway network with transit links\n",
        "# bbox_name arg can specify clipping area (one of 'SF_downtown''SF_financial_district''SF_mission')\n",
        "# If none passed, will show SF\n",
        "create_roadway_network_map(roadway_network.links_df, bbox_name=\"SF_downtown\")"
      ],
      "metadata": {
        "id": "OBNHhqk3bUms"
      },
      "execution_count": null,
      "outputs": []
    },
    {
      "cell_type": "code",
      "source": [
        "# Now we're ready to view the transit shape links. It's overwhelming to include all lines in the map, so choose some\n",
        "print(f\"Route ids: {shape_links_gdf[\"route_id\"].unique()}\")\n",
        "print(f\"{type(shape_links_gdf)=}\")\n",
        "print(f\"shape_links_gdf.dtypes=\\n{shape_links_gdf.dtypes}\")\n",
        "# Again, bbox_name arg can specify clipping area (one of 'SF_downtown''SF_financial_district''SF_mission')\n",
        "create_roadway_transit_map(\n",
        "    roadway_network.links_df,\n",
        "    shape_links_gdf,\n",
        "    route_ids=[\"SF:30\",\"SF:45\"],\n",
        "    bbox_name=\"SF_downtown\"\n",
        ")"
      ],
      "metadata": {
        "id": "I3-BbHH-4LbH"
      },
      "execution_count": null,
      "outputs": []
    },
    {
      "cell_type": "markdown",
      "metadata": {
        "id": "wRjFCX4SKD9i"
      },
      "source": [
        "## Step 7: Create [Scenario](https://bayareametro.github.io/network_wrangler/main/api/#network_wrangler.scenario.Scenario)\n",
        "\n",
        "This is ready for for project cards to be applied, so a future scenario (and alternative scenarios) can be created.\n",
        "\n",
        "We didn't have time to create project cards for this network, so Sijia will demo project cards creation and application from work done for UDOT.\n"
      ]
    },
    {
      "cell_type": "code",
      "execution_count": null,
      "metadata": {
        "id": "Of_Nr9J-KHYG"
      },
      "outputs": [],
      "source": [
        "my_scenario = network_wrangler.scenario.create_scenario(\n",
        "    base_scenario = {\n",
        "        \"road_net\": roadway_network,\n",
        "        \"transit_net\": transit_network,\n",
        "        \"applied_projects\": [],\n",
        "        \"conflicts\": {}\n",
        "    },\n",
        ")\n",
        "\n",
        "# write it to disk\n",
        "scenario_dir = OUTPUT_DIR / \"7_wrangler_scenario\"\n",
        "scenario_dir.mkdir(exist_ok=True)\n",
        "my_scenario.write(\n",
        "    path=scenario_dir,\n",
        "    name=\"mtc_2023\",\n",
        "    roadway_file_format=\"geojson\",\n",
        "    roadway_true_shape=True\n",
        ")\n",
        "WranglerLogger.info(f\"Wrote scenario to {scenario_dir}\")\n"
      ]
    }
  ],
  "metadata": {
    "colab": {
      "provenance": [],
      "collapsed_sections": [
        "hmyQtrtt8GvR",
        "ecPXAk2kaI_k",
        "ul2Qal9b_XiG"
      ],
      "toc_visible": true,
      "include_colab_link": true
    },
    "kernelspec": {
      "display_name": "Python 3",
      "name": "python3"
    },
    "language_info": {
      "name": "python"
    }
  },
  "nbformat": 4,
  "nbformat_minor": 0
}