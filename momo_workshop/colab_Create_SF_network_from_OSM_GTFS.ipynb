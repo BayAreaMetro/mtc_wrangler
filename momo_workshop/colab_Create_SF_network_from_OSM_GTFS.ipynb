{
  "nbformat": 4,
  "nbformat_minor": 0,
  "metadata": {
    "colab": {
      "provenance": [],
      "authorship_tag": "ABX9TyNVdE7kpnSyqziq696anWF6",
      "include_colab_link": true
    },
    "kernelspec": {
      "name": "python3",
      "display_name": "Python 3"
    },
    "language_info": {
      "name": "python"
    }
  },
  "cells": [
    {
      "cell_type": "markdown",
      "metadata": {
        "id": "view-in-github",
        "colab_type": "text"
      },
      "source": [
        "<a href=\"https://colab.research.google.com/github/BayAreaMetro/mtc_wrangler/blob/main/momo_workshop/colab_Create_SF_network_from_OSM_GTFS.ipynb\" target=\"_parent\"><img src=\"https://colab.research.google.com/assets/colab-badge.svg\" alt=\"Open In Colab\"/></a>"
      ]
    },
    {
      "cell_type": "markdown",
      "source": [
        "# Set Up Environment\n",
        "\n",
        "Fetch [network_wrangler code](https://github.com/BayAreaMetro/network_wrangler/tree/centroids) and [network creation script](https://github.com/BayAreaMetro/mtc_wrangler/blob/main/create_baseyear_network/create_mtc_network_from_OSM.py).\n",
        "Currently the network_wrangler code is the centroids branch of a BayAreaMetro fork, but this will be merged into [`network_wrangler`](https://github.com/network-wrangler/network_wrangler) after review."
      ],
      "metadata": {
        "id": "hmyQtrtt8GvR"
      }
    },
    {
      "cell_type": "code",
      "execution_count": 1,
      "metadata": {
        "colab": {
          "base_uri": "https://localhost:8080/"
        },
        "id": "h1M8sWZrzPW7",
        "outputId": "a283e625-1f77-4462-f3a0-0dfcc90f6015"
      },
      "outputs": [
        {
          "output_type": "stream",
          "name": "stdout",
          "text": [
            "Cloning into 'network_wrangler'...\n",
            "remote: Enumerating objects: 4233, done.\u001b[K\n",
            "remote: Counting objects: 100% (1172/1172), done.\u001b[K\n",
            "remote: Compressing objects: 100% (422/422), done.\u001b[K\n",
            "remote: Total 4233 (delta 863), reused 757 (delta 750), pack-reused 3061 (from 2)\u001b[K\n",
            "Receiving objects: 100% (4233/4233), 95.84 MiB | 14.10 MiB/s, done.\n",
            "Resolving deltas: 100% (2696/2696), done.\n",
            "Cloning into 'mtc_wrangler'...\n",
            "remote: Enumerating objects: 459, done.\u001b[K\n",
            "remote: Counting objects: 100% (14/14), done.\u001b[K\n",
            "remote: Compressing objects: 100% (11/11), done.\u001b[K\n",
            "remote: Total 459 (delta 5), reused 9 (delta 3), pack-reused 445 (from 1)\u001b[K\n",
            "Receiving objects: 100% (459/459), 12.11 MiB | 13.32 MiB/s, done.\n",
            "Resolving deltas: 100% (295/295), done.\n"
          ]
        }
      ],
      "source": [
        "!git clone https://github.com/BayAreaMetro/network_wrangler.git\n",
        "!git clone https://github.com/BayAreaMetro/mtc_wrangler.git"
      ]
    },
    {
      "cell_type": "markdown",
      "source": [
        "Ensure `mtc_wrangler` code is up-to-date (we're fixing bugs!)"
      ],
      "metadata": {
        "id": "L6wpO4ez-S-n"
      }
    },
    {
      "cell_type": "code",
      "source": [
        "%cd /content/mtc_wrangler/\n",
        "!git pull\n",
        "print(\"Last commit for mtc_wrangler:\")\n",
        "!git log -1\n"
      ],
      "metadata": {
        "colab": {
          "base_uri": "https://localhost:8080/"
        },
        "id": "vmueaMHf-bdD",
        "outputId": "822d0630-70c6-44b8-be20-e2c71314b1cb"
      },
      "execution_count": 2,
      "outputs": [
        {
          "output_type": "stream",
          "name": "stdout",
          "text": [
            "/content/mtc_wrangler\n",
            "Already up to date.\n",
            "Last commit for mtc_wrangler:\n",
            "\u001b[33mcommit 7a0692753886a864bc4ef1c8cae100ade96fd008\u001b[m\u001b[33m (\u001b[m\u001b[1;36mHEAD -> \u001b[m\u001b[1;32mmain\u001b[m\u001b[33m, \u001b[m\u001b[1;31morigin/main\u001b[m\u001b[33m, \u001b[m\u001b[1;31morigin/HEAD\u001b[m\u001b[33m)\u001b[m\n",
            "Author: Lisa Zorn <lzorn@bayareametro.gov>\n",
            "Date:   Thu Sep 11 13:48:06 2025 -0700\n",
            "\n",
            "    Args-based variables aren't const so don't have in all-caps\n"
          ]
        }
      ]
    },
    {
      "cell_type": "markdown",
      "source": [
        "Ensure `network_wrangler` is on the `centroids` branch and up-to-date. Install package in editable mode."
      ],
      "metadata": {
        "id": "cvtflqVr-uxy"
      }
    },
    {
      "cell_type": "code",
      "source": [
        "%cd /content/network_wrangler/\n",
        "!git pull\n",
        "!git checkout centroids\n",
        "print(\"Last commit for network_wrangler on centroids branch:\")\n",
        "!git log -1"
      ],
      "metadata": {
        "colab": {
          "base_uri": "https://localhost:8080/"
        },
        "id": "EU478mg--4Xi",
        "outputId": "c2235292-dece-4723-eaf1-611ca9c6870a"
      },
      "execution_count": 3,
      "outputs": [
        {
          "output_type": "stream",
          "name": "stdout",
          "text": [
            "/content/network_wrangler\n",
            "Already up to date.\n",
            "Branch 'centroids' set up to track remote branch 'centroids' from 'origin'.\n",
            "Switched to a new branch 'centroids'\n",
            "Last commit for network_wrangler on centroids branch:\n",
            "\u001b[33mcommit 7adcd500637fc18016e0e1d770fdfa1f08c3e188\u001b[m\u001b[33m (\u001b[m\u001b[1;36mHEAD -> \u001b[m\u001b[1;32mcentroids\u001b[m\u001b[33m, \u001b[m\u001b[1;31morigin/centroids\u001b[m\u001b[33m)\u001b[m\n",
            "Author: Lisa Zorn <lzorn@bayareametro.gov>\n",
            "Date:   Thu Sep 11 15:36:23 2025 -0700\n",
            "\n",
            "    Fix import for python 3.12\n"
          ]
        }
      ]
    },
    {
      "cell_type": "markdown",
      "source": [
        "# Install python packages and test import\n",
        "This includes `scikit-learn`, `pygris`, and local version of `network_wrangler`"
      ],
      "metadata": {
        "id": "ul2Qal9b_XiG"
      }
    },
    {
      "cell_type": "code",
      "source": [
        "%%capture python_install_cap\n",
        "!pip install scikit-learn pygris\n",
        "# Install Tableau package if using Tableau for visualization\n",
        "#!pip install tableauhyperapi\n",
        "%cd /content/network_wrangler/\n",
        "!pip install -e ."
      ],
      "metadata": {
        "id": "z40379AN_m1i"
      },
      "execution_count": 4,
      "outputs": []
    },
    {
      "cell_type": "code",
      "source": [
        "# run this if you want to see the output from the python install\n",
        "print(python_install_cap)"
      ],
      "metadata": {
        "colab": {
          "base_uri": "https://localhost:8080/"
        },
        "collapsed": true,
        "id": "c7bB39Vu0IDD",
        "outputId": "bce1205f-d64c-446d-c876-838394f5c258"
      },
      "execution_count": 5,
      "outputs": [
        {
          "output_type": "stream",
          "name": "stdout",
          "text": [
            "Requirement already satisfied: scikit-learn in /usr/local/lib/python3.12/dist-packages (1.6.1)\n",
            "Collecting pygris\n",
            "  Downloading pygris-0.2.0-py3-none-any.whl.metadata (2.3 kB)\n",
            "Requirement already satisfied: numpy>=1.19.5 in /usr/local/lib/python3.12/dist-packages (from scikit-learn) (2.0.2)\n",
            "Requirement already satisfied: scipy>=1.6.0 in /usr/local/lib/python3.12/dist-packages (from scikit-learn) (1.16.1)\n",
            "Requirement already satisfied: joblib>=1.2.0 in /usr/local/lib/python3.12/dist-packages (from scikit-learn) (1.5.2)\n",
            "Requirement already satisfied: threadpoolctl>=3.1.0 in /usr/local/lib/python3.12/dist-packages (from scikit-learn) (3.6.0)\n",
            "Requirement already satisfied: geopandas>=0.9 in /usr/local/lib/python3.12/dist-packages (from pygris) (1.1.1)\n",
            "Requirement already satisfied: requests in /usr/local/lib/python3.12/dist-packages (from pygris) (2.32.4)\n",
            "Collecting appdirs (from pygris)\n",
            "  Downloading appdirs-1.4.4-py2.py3-none-any.whl.metadata (9.0 kB)\n",
            "Requirement already satisfied: pyogrio>=0.7.2 in /usr/local/lib/python3.12/dist-packages (from geopandas>=0.9->pygris) (0.11.1)\n",
            "Requirement already satisfied: packaging in /usr/local/lib/python3.12/dist-packages (from geopandas>=0.9->pygris) (25.0)\n",
            "Requirement already satisfied: pandas>=2.0.0 in /usr/local/lib/python3.12/dist-packages (from geopandas>=0.9->pygris) (2.2.2)\n",
            "Requirement already satisfied: pyproj>=3.5.0 in /usr/local/lib/python3.12/dist-packages (from geopandas>=0.9->pygris) (3.7.2)\n",
            "Requirement already satisfied: shapely>=2.0.0 in /usr/local/lib/python3.12/dist-packages (from geopandas>=0.9->pygris) (2.1.1)\n",
            "Requirement already satisfied: charset_normalizer<4,>=2 in /usr/local/lib/python3.12/dist-packages (from requests->pygris) (3.4.3)\n",
            "Requirement already satisfied: idna<4,>=2.5 in /usr/local/lib/python3.12/dist-packages (from requests->pygris) (3.10)\n",
            "Requirement already satisfied: urllib3<3,>=1.21.1 in /usr/local/lib/python3.12/dist-packages (from requests->pygris) (2.5.0)\n",
            "Requirement already satisfied: certifi>=2017.4.17 in /usr/local/lib/python3.12/dist-packages (from requests->pygris) (2025.8.3)\n",
            "Requirement already satisfied: python-dateutil>=2.8.2 in /usr/local/lib/python3.12/dist-packages (from pandas>=2.0.0->geopandas>=0.9->pygris) (2.9.0.post0)\n",
            "Requirement already satisfied: pytz>=2020.1 in /usr/local/lib/python3.12/dist-packages (from pandas>=2.0.0->geopandas>=0.9->pygris) (2025.2)\n",
            "Requirement already satisfied: tzdata>=2022.7 in /usr/local/lib/python3.12/dist-packages (from pandas>=2.0.0->geopandas>=0.9->pygris) (2025.2)\n",
            "Requirement already satisfied: six>=1.5 in /usr/local/lib/python3.12/dist-packages (from python-dateutil>=2.8.2->pandas>=2.0.0->geopandas>=0.9->pygris) (1.17.0)\n",
            "Downloading pygris-0.2.0-py3-none-any.whl (57 kB)\n",
            "\u001b[?25l   \u001b[90m━━━━━━━━━━━━━━━━━━━━━━━━━━━━━━━━━━━━━━━━\u001b[0m \u001b[32m0.0/57.5 kB\u001b[0m \u001b[31m?\u001b[0m eta \u001b[36m-:--:--\u001b[0m\r\u001b[2K   \u001b[90m━━━━━━━━━━━━━━━━━━━━━━━━━━━━━━━━━━━━━━━━\u001b[0m \u001b[32m57.5/57.5 kB\u001b[0m \u001b[31m2.5 MB/s\u001b[0m eta \u001b[36m0:00:00\u001b[0m\n",
            "\u001b[?25hDownloading appdirs-1.4.4-py2.py3-none-any.whl (9.6 kB)\n",
            "Installing collected packages: appdirs, pygris\n",
            "Successfully installed appdirs-1.4.4 pygris-0.2.0\n",
            "/content/network_wrangler\n",
            "Obtaining file:///content/network_wrangler\n",
            "  Installing build dependencies ... \u001b[?25l\u001b[?25hdone\n",
            "  Checking if build backend supports build_editable ... \u001b[?25l\u001b[?25hdone\n",
            "  Getting requirements to build editable ... \u001b[?25l\u001b[?25hdone\n",
            "  Preparing editable metadata (pyproject.toml) ... \u001b[?25l\u001b[?25hdone\n",
            "Collecting fiona>=1.10.1 (from network-wrangler==1.0b3)\n",
            "  Downloading fiona-1.10.1-cp312-cp312-manylinux_2_17_x86_64.manylinux2014_x86_64.whl.metadata (56 kB)\n",
            "\u001b[?25l     \u001b[90m━━━━━━━━━━━━━━━━━━━━━━━━━━━━━━━━━━━━━━━━\u001b[0m \u001b[32m0.0/56.6 kB\u001b[0m \u001b[31m?\u001b[0m eta \u001b[36m-:--:--\u001b[0m\r\u001b[2K     \u001b[90m━━━━━━━━━━━━━━━━━━━━━━━━━━━━━━━━━━━━━━━━\u001b[0m \u001b[32m56.6/56.6 kB\u001b[0m \u001b[31m2.1 MB/s\u001b[0m eta \u001b[36m0:00:00\u001b[0m\n",
            "\u001b[?25hRequirement already satisfied: geographiclib>=2.0 in /usr/local/lib/python3.12/dist-packages (from network-wrangler==1.0b3) (2.1)\n",
            "Collecting geojson>=3.1.0 (from network-wrangler==1.0b3)\n",
            "  Downloading geojson-3.2.0-py3-none-any.whl.metadata (16 kB)\n",
            "Requirement already satisfied: geopandas>=1.0.1 in /usr/local/lib/python3.12/dist-packages (from network-wrangler==1.0b3) (1.1.1)\n",
            "Collecting ijson>=3.3.0 (from network-wrangler==1.0b3)\n",
            "  Downloading ijson-3.4.0-cp312-cp312-manylinux_2_17_x86_64.manylinux2014_x86_64.whl.metadata (21 kB)\n",
            "Collecting osmnx>=1.9.3 (from network-wrangler==1.0b3)\n",
            "  Downloading osmnx-2.0.6-py3-none-any.whl.metadata (4.9 kB)\n",
            "Collecting pandas>=2.2.3 (from network-wrangler==1.0b3)\n",
            "  Downloading pandas-2.3.2-cp312-cp312-manylinux_2_17_x86_64.manylinux2014_x86_64.whl.metadata (91 kB)\n",
            "\u001b[?25l     \u001b[90m━━━━━━━━━━━━━━━━━━━━━━━━━━━━━━━━━━━━━━━━\u001b[0m \u001b[32m0.0/91.2 kB\u001b[0m \u001b[31m?\u001b[0m eta \u001b[36m-:--:--\u001b[0m\r\u001b[2K     \u001b[90m━━━━━━━━━━━━━━━━━━━━━━━━━━━━━━━━━━━━━━━━\u001b[0m \u001b[32m91.2/91.2 kB\u001b[0m \u001b[31m4.6 MB/s\u001b[0m eta \u001b[36m0:00:00\u001b[0m\n",
            "\u001b[?25hCollecting pandera>=0.24.0 (from pandera[geopandas,pandas]>=0.24.0->network-wrangler==1.0b3)\n",
            "  Downloading pandera-0.26.1-py3-none-any.whl.metadata (10 kB)\n",
            "Collecting projectcard>=0.3.3 (from network-wrangler==1.0b3)\n",
            "  Downloading projectcard-0.3.3-py3-none-any.whl.metadata (16 kB)\n",
            "Collecting psutil>=6.0.0 (from network-wrangler==1.0b3)\n",
            "  Downloading psutil-7.0.0-cp36-abi3-manylinux_2_12_x86_64.manylinux2010_x86_64.manylinux_2_17_x86_64.manylinux2014_x86_64.whl.metadata (22 kB)\n",
            "Requirement already satisfied: pyarrow>=17.0.0 in /usr/local/lib/python3.12/dist-packages (from network-wrangler==1.0b3) (18.1.0)\n",
            "Requirement already satisfied: pydantic>=2.9.2 in /usr/local/lib/python3.12/dist-packages (from network-wrangler==1.0b3) (2.11.7)\n",
            "Requirement already satisfied: pyogrio>=0.9.0 in /usr/local/lib/python3.12/dist-packages (from network-wrangler==1.0b3) (0.11.1)\n",
            "Requirement already satisfied: pyyaml>=6.0.2 in /usr/local/lib/python3.12/dist-packages (from network-wrangler==1.0b3) (6.0.2)\n",
            "Requirement already satisfied: typing-extensions>=4.12.2 in /usr/local/lib/python3.12/dist-packages (from network-wrangler==1.0b3) (4.15.0)\n",
            "Requirement already satisfied: attrs>=19.2.0 in /usr/local/lib/python3.12/dist-packages (from fiona>=1.10.1->network-wrangler==1.0b3) (25.3.0)\n",
            "Requirement already satisfied: certifi in /usr/local/lib/python3.12/dist-packages (from fiona>=1.10.1->network-wrangler==1.0b3) (2025.8.3)\n",
            "Requirement already satisfied: click~=8.0 in /usr/local/lib/python3.12/dist-packages (from fiona>=1.10.1->network-wrangler==1.0b3) (8.2.1)\n",
            "Collecting click-plugins>=1.0 (from fiona>=1.10.1->network-wrangler==1.0b3)\n",
            "  Downloading click_plugins-1.1.1.2-py2.py3-none-any.whl.metadata (6.5 kB)\n",
            "Collecting cligj>=0.5 (from fiona>=1.10.1->network-wrangler==1.0b3)\n",
            "  Downloading cligj-0.7.2-py3-none-any.whl.metadata (5.0 kB)\n",
            "Requirement already satisfied: numpy>=1.24 in /usr/local/lib/python3.12/dist-packages (from geopandas>=1.0.1->network-wrangler==1.0b3) (2.0.2)\n",
            "Requirement already satisfied: packaging in /usr/local/lib/python3.12/dist-packages (from geopandas>=1.0.1->network-wrangler==1.0b3) (25.0)\n",
            "Requirement already satisfied: pyproj>=3.5.0 in /usr/local/lib/python3.12/dist-packages (from geopandas>=1.0.1->network-wrangler==1.0b3) (3.7.2)\n",
            "Requirement already satisfied: shapely>=2.0.0 in /usr/local/lib/python3.12/dist-packages (from geopandas>=1.0.1->network-wrangler==1.0b3) (2.1.1)\n",
            "Requirement already satisfied: networkx>=2.5 in /usr/local/lib/python3.12/dist-packages (from osmnx>=1.9.3->network-wrangler==1.0b3) (3.5)\n",
            "Requirement already satisfied: requests>=2.27 in /usr/local/lib/python3.12/dist-packages (from osmnx>=1.9.3->network-wrangler==1.0b3) (2.32.4)\n",
            "Requirement already satisfied: python-dateutil>=2.8.2 in /usr/local/lib/python3.12/dist-packages (from pandas>=2.2.3->network-wrangler==1.0b3) (2.9.0.post0)\n",
            "Requirement already satisfied: pytz>=2020.1 in /usr/local/lib/python3.12/dist-packages (from pandas>=2.2.3->network-wrangler==1.0b3) (2025.2)\n",
            "Requirement already satisfied: tzdata>=2022.7 in /usr/local/lib/python3.12/dist-packages (from pandas>=2.2.3->network-wrangler==1.0b3) (2025.2)\n",
            "Requirement already satisfied: typeguard in /usr/local/lib/python3.12/dist-packages (from pandera>=0.24.0->pandera[geopandas,pandas]>=0.24.0->network-wrangler==1.0b3) (4.4.4)\n",
            "Collecting typing_inspect>=0.6.0 (from pandera>=0.24.0->pandera[geopandas,pandas]>=0.24.0->network-wrangler==1.0b3)\n",
            "  Downloading typing_inspect-0.9.0-py3-none-any.whl.metadata (1.5 kB)\n",
            "Collecting geopandas>=1.0.1 (from network-wrangler==1.0b3)\n",
            "  Downloading geopandas-1.0.1-py3-none-any.whl.metadata (2.2 kB)\n",
            "Collecting jsonref (from projectcard>=0.3.3->network-wrangler==1.0b3)\n",
            "  Downloading jsonref-1.1.0-py3-none-any.whl.metadata (2.7 kB)\n",
            "Requirement already satisfied: jsonschema in /usr/local/lib/python3.12/dist-packages (from projectcard>=0.3.3->network-wrangler==1.0b3) (4.25.1)\n",
            "Requirement already satisfied: tabulate in /usr/local/lib/python3.12/dist-packages (from projectcard>=0.3.3->network-wrangler==1.0b3) (0.9.0)\n",
            "Requirement already satisfied: ruff in /usr/local/lib/python3.12/dist-packages (from projectcard>=0.3.3->network-wrangler==1.0b3) (0.12.12)\n",
            "Requirement already satisfied: toml in /usr/local/lib/python3.12/dist-packages (from projectcard>=0.3.3->network-wrangler==1.0b3) (0.10.2)\n",
            "Requirement already satisfied: annotated-types>=0.6.0 in /usr/local/lib/python3.12/dist-packages (from pydantic>=2.9.2->network-wrangler==1.0b3) (0.7.0)\n",
            "Requirement already satisfied: pydantic-core==2.33.2 in /usr/local/lib/python3.12/dist-packages (from pydantic>=2.9.2->network-wrangler==1.0b3) (2.33.2)\n",
            "Requirement already satisfied: typing-inspection>=0.4.0 in /usr/local/lib/python3.12/dist-packages (from pydantic>=2.9.2->network-wrangler==1.0b3) (0.4.1)\n",
            "Requirement already satisfied: six>=1.5 in /usr/local/lib/python3.12/dist-packages (from python-dateutil>=2.8.2->pandas>=2.2.3->network-wrangler==1.0b3) (1.17.0)\n",
            "Requirement already satisfied: charset_normalizer<4,>=2 in /usr/local/lib/python3.12/dist-packages (from requests>=2.27->osmnx>=1.9.3->network-wrangler==1.0b3) (3.4.3)\n",
            "Requirement already satisfied: idna<4,>=2.5 in /usr/local/lib/python3.12/dist-packages (from requests>=2.27->osmnx>=1.9.3->network-wrangler==1.0b3) (3.10)\n",
            "Requirement already satisfied: urllib3<3,>=1.21.1 in /usr/local/lib/python3.12/dist-packages (from requests>=2.27->osmnx>=1.9.3->network-wrangler==1.0b3) (2.5.0)\n",
            "Collecting mypy-extensions>=0.3.0 (from typing_inspect>=0.6.0->pandera>=0.24.0->pandera[geopandas,pandas]>=0.24.0->network-wrangler==1.0b3)\n",
            "  Downloading mypy_extensions-1.1.0-py3-none-any.whl.metadata (1.1 kB)\n",
            "Requirement already satisfied: jsonschema-specifications>=2023.03.6 in /usr/local/lib/python3.12/dist-packages (from jsonschema->projectcard>=0.3.3->network-wrangler==1.0b3) (2025.4.1)\n",
            "Requirement already satisfied: referencing>=0.28.4 in /usr/local/lib/python3.12/dist-packages (from jsonschema->projectcard>=0.3.3->network-wrangler==1.0b3) (0.36.2)\n",
            "Requirement already satisfied: rpds-py>=0.7.1 in /usr/local/lib/python3.12/dist-packages (from jsonschema->projectcard>=0.3.3->network-wrangler==1.0b3) (0.27.1)\n",
            "Downloading fiona-1.10.1-cp312-cp312-manylinux_2_17_x86_64.manylinux2014_x86_64.whl (17.2 MB)\n",
            "\u001b[?25l   \u001b[90m━━━━━━━━━━━━━━━━━━━━━━━━━━━━━━━━━━━━━━━━\u001b[0m \u001b[32m0.0/17.2 MB\u001b[0m \u001b[31m?\u001b[0m eta \u001b[36m-:--:--\u001b[0m\r\u001b[2K   \u001b[91m━━━\u001b[0m\u001b[91m╸\u001b[0m\u001b[90m━━━━━━━━━━━━━━━━━━━━━━━━━━━━━━━━━━━━\u001b[0m \u001b[32m1.5/17.2 MB\u001b[0m \u001b[31m46.4 MB/s\u001b[0m eta \u001b[36m0:00:01\u001b[0m\r\u001b[2K   \u001b[91m━━━━━━━━━━━━\u001b[0m\u001b[90m╺\u001b[0m\u001b[90m━━━━━━━━━━━━━━━━━━━━━━━━━━━\u001b[0m \u001b[32m5.3/17.2 MB\u001b[0m \u001b[31m76.3 MB/s\u001b[0m eta \u001b[36m0:00:01\u001b[0m\r\u001b[2K   \u001b[91m━━━━━━━━━━━━━━━━━━━\u001b[0m\u001b[90m╺\u001b[0m\u001b[90m━━━━━━━━━━━━━━━━━━━━\u001b[0m \u001b[32m8.4/17.2 MB\u001b[0m \u001b[31m96.1 MB/s\u001b[0m eta \u001b[36m0:00:01\u001b[0m\r\u001b[2K   \u001b[91m━━━━━━━━━━━━━━━━━━━\u001b[0m\u001b[90m╺\u001b[0m\u001b[90m━━━━━━━━━━━━━━━━━━━━\u001b[0m \u001b[32m8.4/17.2 MB\u001b[0m \u001b[31m96.1 MB/s\u001b[0m eta \u001b[36m0:00:01\u001b[0m\r\u001b[2K   \u001b[91m━━━━━━━━━━━━━━━━━━━\u001b[0m\u001b[90m╺\u001b[0m\u001b[90m━━━━━━━━━━━━━━━━━━━━\u001b[0m \u001b[32m8.4/17.2 MB\u001b[0m \u001b[31m96.1 MB/s\u001b[0m eta \u001b[36m0:00:01\u001b[0m\r\u001b[2K   \u001b[91m━━━━━━━━━━━━━━━━━━━━━━━━━━\u001b[0m\u001b[91m╸\u001b[0m\u001b[90m━━━━━━━━━━━━━\u001b[0m \u001b[32m11.5/17.2 MB\u001b[0m \u001b[31m62.2 MB/s\u001b[0m eta \u001b[36m0:00:01\u001b[0m\r\u001b[2K   \u001b[91m━━━━━━━━━━━━━━━━━━━━━━━━━━━━━━━\u001b[0m\u001b[91m╸\u001b[0m\u001b[90m━━━━━━━━\u001b[0m \u001b[32m13.6/17.2 MB\u001b[0m \u001b[31m56.4 MB/s\u001b[0m eta \u001b[36m0:00:01\u001b[0m\r\u001b[2K   \u001b[91m━━━━━━━━━━━━━━━━━━━━━━━━━━━━━━━━━━\u001b[0m\u001b[90m╺\u001b[0m\u001b[90m━━━━━\u001b[0m \u001b[32m14.7/17.2 MB\u001b[0m \u001b[31m46.1 MB/s\u001b[0m eta \u001b[36m0:00:01\u001b[0m\r\u001b[2K   \u001b[91m━━━━━━━━━━━━━━━━━━━━━━━━━━━━━━━━━━━━━━━\u001b[0m\u001b[90m╺\u001b[0m \u001b[32m16.9/17.2 MB\u001b[0m \u001b[31m42.2 MB/s\u001b[0m eta \u001b[36m0:00:01\u001b[0m\r\u001b[2K   \u001b[91m━━━━━━━━━━━━━━━━━━━━━━━━━━━━━━━━━━━━━━━\u001b[0m\u001b[91m╸\u001b[0m \u001b[32m17.2/17.2 MB\u001b[0m \u001b[31m41.9 MB/s\u001b[0m eta \u001b[36m0:00:01\u001b[0m\r\u001b[2K   \u001b[90m━━━━━━━━━━━━━━━━━━━━━━━━━━━━━━━━━━━━━━━━\u001b[0m \u001b[32m17.2/17.2 MB\u001b[0m \u001b[31m34.4 MB/s\u001b[0m eta \u001b[36m0:00:00\u001b[0m\n",
            "\u001b[?25hDownloading geojson-3.2.0-py3-none-any.whl (15 kB)\n",
            "Downloading ijson-3.4.0-cp312-cp312-manylinux_2_17_x86_64.manylinux2014_x86_64.whl (148 kB)\n",
            "\u001b[?25l   \u001b[90m━━━━━━━━━━━━━━━━━━━━━━━━━━━━━━━━━━━━━━━━\u001b[0m \u001b[32m0.0/148.3 kB\u001b[0m \u001b[31m?\u001b[0m eta \u001b[36m-:--:--\u001b[0m\r\u001b[2K   \u001b[90m━━━━━━━━━━━━━━━━━━━━━━━━━━━━━━━━━━━━━━━━\u001b[0m \u001b[32m148.3/148.3 kB\u001b[0m \u001b[31m11.3 MB/s\u001b[0m eta \u001b[36m0:00:00\u001b[0m\n",
            "\u001b[?25hDownloading osmnx-2.0.6-py3-none-any.whl (101 kB)\n",
            "\u001b[?25l   \u001b[90m━━━━━━━━━━━━━━━━━━━━━━━━━━━━━━━━━━━━━━━━\u001b[0m \u001b[32m0.0/101.5 kB\u001b[0m \u001b[31m?\u001b[0m eta \u001b[36m-:--:--\u001b[0m\r\u001b[2K   \u001b[90m━━━━━━━━━━━━━━━━━━━━━━━━━━━━━━━━━━━━━━━━\u001b[0m \u001b[32m101.5/101.5 kB\u001b[0m \u001b[31m9.0 MB/s\u001b[0m eta \u001b[36m0:00:00\u001b[0m\n",
            "\u001b[?25hDownloading pandas-2.3.2-cp312-cp312-manylinux_2_17_x86_64.manylinux2014_x86_64.whl (12.0 MB)\n",
            "\u001b[?25l   \u001b[90m━━━━━━━━━━━━━━━━━━━━━━━━━━━━━━━━━━━━━━━━\u001b[0m \u001b[32m0.0/12.0 MB\u001b[0m \u001b[31m?\u001b[0m eta \u001b[36m-:--:--\u001b[0m\r\u001b[2K   \u001b[91m━━━━━━━━━━━━━━━━━━━━\u001b[0m\u001b[91m╸\u001b[0m\u001b[90m━━━━━━━━━━━━━━━━━━━\u001b[0m \u001b[32m6.3/12.0 MB\u001b[0m \u001b[31m188.8 MB/s\u001b[0m eta \u001b[36m0:00:01\u001b[0m\r\u001b[2K   \u001b[91m━━━━━━━━━━━━━━━━━━━━━━━━━━━━━━━━━━━━━━\u001b[0m\u001b[91m╸\u001b[0m\u001b[90m━\u001b[0m \u001b[32m11.6/12.0 MB\u001b[0m \u001b[31m172.3 MB/s\u001b[0m eta \u001b[36m0:00:01\u001b[0m\r\u001b[2K   \u001b[91m━━━━━━━━━━━━━━━━━━━━━━━━━━━━━━━━━━━━━━━\u001b[0m\u001b[91m╸\u001b[0m \u001b[32m12.0/12.0 MB\u001b[0m \u001b[31m163.1 MB/s\u001b[0m eta \u001b[36m0:00:01\u001b[0m\r\u001b[2K   \u001b[91m━━━━━━━━━━━━━━━━━━━━━━━━━━━━━━━━━━━━━━━\u001b[0m\u001b[91m╸\u001b[0m \u001b[32m12.0/12.0 MB\u001b[0m \u001b[31m163.1 MB/s\u001b[0m eta \u001b[36m0:00:01\u001b[0m\r\u001b[2K   \u001b[91m━━━━━━━━━━━━━━━━━━━━━━━━━━━━━━━━━━━━━━━\u001b[0m\u001b[91m╸\u001b[0m \u001b[32m12.0/12.0 MB\u001b[0m \u001b[31m163.1 MB/s\u001b[0m eta \u001b[36m0:00:01\u001b[0m\r\u001b[2K   \u001b[91m━━━━━━━━━━━━━━━━━━━━━━━━━━━━━━━━━━━━━━━\u001b[0m\u001b[91m╸\u001b[0m \u001b[32m12.0/12.0 MB\u001b[0m \u001b[31m163.1 MB/s\u001b[0m eta \u001b[36m0:00:01\u001b[0m\r\u001b[2K   \u001b[90m━━━━━━━━━━━━━━━━━━━━━━━━━━━━━━━━━━━━━━━━\u001b[0m \u001b[32m12.0/12.0 MB\u001b[0m \u001b[31m44.2 MB/s\u001b[0m eta \u001b[36m0:00:00\u001b[0m\n",
            "\u001b[?25hDownloading pandera-0.26.1-py3-none-any.whl (292 kB)\n",
            "\u001b[?25l   \u001b[90m━━━━━━━━━━━━━━━━━━━━━━━━━━━━━━━━━━━━━━━━\u001b[0m \u001b[32m0.0/292.9 kB\u001b[0m \u001b[31m?\u001b[0m eta \u001b[36m-:--:--\u001b[0m\r\u001b[2K   \u001b[90m━━━━━━━━━━━━━━━━━━━━━━━━━━━━━━━━━━━━━━━━\u001b[0m \u001b[32m292.9/292.9 kB\u001b[0m \u001b[31m12.2 MB/s\u001b[0m eta \u001b[36m0:00:00\u001b[0m\n",
            "\u001b[?25hDownloading geopandas-1.0.1-py3-none-any.whl (323 kB)\n",
            "\u001b[?25l   \u001b[90m━━━━━━━━━━━━━━━━━━━━━━━━━━━━━━━━━━━━━━━━\u001b[0m \u001b[32m0.0/323.6 kB\u001b[0m \u001b[31m?\u001b[0m eta \u001b[36m-:--:--\u001b[0m\r\u001b[2K   \u001b[90m━━━━━━━━━━━━━━━━━━━━━━━━━━━━━━━━━━━━━━━━\u001b[0m \u001b[32m323.6/323.6 kB\u001b[0m \u001b[31m17.3 MB/s\u001b[0m eta \u001b[36m0:00:00\u001b[0m\n",
            "\u001b[?25hDownloading projectcard-0.3.3-py3-none-any.whl (77 kB)\n",
            "\u001b[?25l   \u001b[90m━━━━━━━━━━━━━━━━━━━━━━━━━━━━━━━━━━━━━━━━\u001b[0m \u001b[32m0.0/77.3 kB\u001b[0m \u001b[31m?\u001b[0m eta \u001b[36m-:--:--\u001b[0m\r\u001b[2K   \u001b[90m━━━━━━━━━━━━━━━━━━━━━━━━━━━━━━━━━━━━━━━━\u001b[0m \u001b[32m77.3/77.3 kB\u001b[0m \u001b[31m5.7 MB/s\u001b[0m eta \u001b[36m0:00:00\u001b[0m\n",
            "\u001b[?25hDownloading psutil-7.0.0-cp36-abi3-manylinux_2_12_x86_64.manylinux2010_x86_64.manylinux_2_17_x86_64.manylinux2014_x86_64.whl (277 kB)\n",
            "\u001b[?25l   \u001b[90m━━━━━━━━━━━━━━━━━━━━━━━━━━━━━━━━━━━━━━━━\u001b[0m \u001b[32m0.0/278.0 kB\u001b[0m \u001b[31m?\u001b[0m eta \u001b[36m-:--:--\u001b[0m\r\u001b[2K   \u001b[90m━━━━━━━━━━━━━━━━━━━━━━━━━━━━━━━━━━━━━━━━\u001b[0m \u001b[32m278.0/278.0 kB\u001b[0m \u001b[31m22.4 MB/s\u001b[0m eta \u001b[36m0:00:00\u001b[0m\n",
            "\u001b[?25hDownloading click_plugins-1.1.1.2-py2.py3-none-any.whl (11 kB)\n",
            "Downloading cligj-0.7.2-py3-none-any.whl (7.1 kB)\n",
            "Downloading typing_inspect-0.9.0-py3-none-any.whl (8.8 kB)\n",
            "Downloading jsonref-1.1.0-py3-none-any.whl (9.4 kB)\n",
            "Downloading mypy_extensions-1.1.0-py3-none-any.whl (5.0 kB)\n",
            "Building wheels for collected packages: network-wrangler\n",
            "  Building editable for network-wrangler (pyproject.toml) ... \u001b[?25l\u001b[?25hdone\n",
            "  Created wheel for network-wrangler: filename=network_wrangler-1.0b3-0.editable-py3-none-any.whl size=22560 sha256=690d2f78f1295706dec7b487716ef6104c0cfcb26d1832d9f7afa1a8ea49eb34\n",
            "  Stored in directory: /tmp/pip-ephem-wheel-cache-yvbn3ltv/wheels/84/e5/eb/036b3569f67616a207c14ba6b53bebf085973b2179fc08ae17\n",
            "Successfully built network-wrangler\n",
            "Installing collected packages: psutil, mypy-extensions, jsonref, ijson, geojson, cligj, click-plugins, typing_inspect, pandas, fiona, pandera, geopandas, projectcard, osmnx, network-wrangler\n",
            "  Attempting uninstall: psutil\n",
            "    Found existing installation: psutil 5.9.5\n",
            "    Uninstalling psutil-5.9.5:\n",
            "      Successfully uninstalled psutil-5.9.5\n",
            "  Attempting uninstall: pandas\n",
            "    Found existing installation: pandas 2.2.2\n",
            "    Uninstalling pandas-2.2.2:\n",
            "      Successfully uninstalled pandas-2.2.2\n",
            "  Attempting uninstall: geopandas\n",
            "    Found existing installation: geopandas 1.1.1\n",
            "    Uninstalling geopandas-1.1.1:\n",
            "      Successfully uninstalled geopandas-1.1.1\n",
            "\u001b[31mERROR: pip's dependency resolver does not currently take into account all the packages that are installed. This behaviour is the source of the following dependency conflicts.\n",
            "google-colab 1.0.0 requires pandas==2.2.2, but you have pandas 2.3.2 which is incompatible.\n",
            "dask-cudf-cu12 25.6.0 requires pandas<2.2.4dev0,>=2.0, but you have pandas 2.3.2 which is incompatible.\n",
            "cudf-cu12 25.6.0 requires pandas<2.2.4dev0,>=2.0, but you have pandas 2.3.2 which is incompatible.\u001b[0m\u001b[31m\n",
            "\u001b[0mSuccessfully installed click-plugins-1.1.1.2 cligj-0.7.2 fiona-1.10.1 geojson-3.2.0 geopandas-1.0.1 ijson-3.4.0 jsonref-1.1.0 mypy-extensions-1.1.0 network-wrangler-1.0b3 osmnx-2.0.6 pandas-2.3.2 pandera-0.26.1 projectcard-0.3.3 psutil-7.0.0 typing_inspect-0.9.0\n",
            "\n"
          ]
        }
      ]
    },
    {
      "cell_type": "code",
      "source": [
        "# make sure we can import network_wrangler\n",
        "import network_wrangler\n",
        "import pprint\n",
        "print(pprint.pformat(dir(network_wrangler)))"
      ],
      "metadata": {
        "colab": {
          "base_uri": "https://localhost:8080/"
        },
        "id": "7kklZbYs0RYa",
        "outputId": "ac571d31-fba2-4c8b-9e3d-2b510d0fc51f"
      },
      "execution_count": 6,
      "outputs": [
        {
          "output_type": "stream",
          "name": "stderr",
          "text": [
            "/content/network_wrangler/network_wrangler/utils/utils.py:54: SyntaxWarning: invalid escape sequence '\\ '\n",
            "  return re.sub(\"[\\ ]+\", delimiter, text)\n"
          ]
        },
        {
          "output_type": "stream",
          "name": "stdout",
          "text": [
            "['DictQueryAccessor',\n",
            " 'Isin_dict',\n",
            " 'MIN_PROJECT_CARD_SCHEMA_VERSION',\n",
            " 'MIN_ROADWAY_NETWORK_SCHEMA_VERSION',\n",
            " 'MIN_TRANSIT_NETWORK_SCHEMA_VERSION',\n",
            " 'Scenario',\n",
            " 'SelectionError',\n",
            " 'TARGET_PROJECT_CARD_SCHEMA_VERSION',\n",
            " 'TARGET_ROADWAY_NETWORK_SCHEMA_VERSION',\n",
            " 'TARGET_TRANSIT_NETWORK_SCHEMA_VERSION',\n",
            " 'WranglerLogger',\n",
            " '__all__',\n",
            " '__builtins__',\n",
            " '__cached__',\n",
            " '__doc__',\n",
            " '__file__',\n",
            " '__loader__',\n",
            " '__name__',\n",
            " '__package__',\n",
            " '__path__',\n",
            " '__spec__',\n",
            " '__version__',\n",
            " 'configs',\n",
            " 'create_scenario',\n",
            " 'dfHash',\n",
            " 'dict_to_query',\n",
            " 'errors',\n",
            " 'hashlib',\n",
            " 'isin_dict',\n",
            " 'load_roadway',\n",
            " 'load_roadway_from_dataframes',\n",
            " 'load_roadway_from_dir',\n",
            " 'load_scenario',\n",
            " 'load_transit',\n",
            " 'load_wrangler_config',\n",
            " 'logger',\n",
            " 'models',\n",
            " 'params',\n",
            " 'pd',\n",
            " 'roadway',\n",
            " 'scenario',\n",
            " 'setup_logging',\n",
            " 'time',\n",
            " 'transit',\n",
            " 'utils',\n",
            " 'warnings',\n",
            " 'write_roadway',\n",
            " 'write_transit']\n"
          ]
        }
      ]
    },
    {
      "cell_type": "markdown",
      "source": [
        "# Fetch public GTFS Input files from Google Drive\n",
        "This is the regional transit feed for the San Francisco Bay Area, provided by [511 SF Bay’s Portal for Open Transit Data](https://511.org/open-data/transit). This was downloaded on October 2, 2024 via `http://api.511.org/transit/datafeeds?api_key=[my_api_key]&operator_id=RG&historic=2023-09`\n"
      ],
      "metadata": {
        "id": "tPiRPky1CKlW"
      }
    },
    {
      "cell_type": "code",
      "source": [
        "%cd /content/\n",
        "!mkdir BayArea_511gtfs_2023-09\n",
        "%cd /content/BayArea_511gtfs_2023-09\n",
        "!gdown 1wu-echoNNi5NzQh3BT4RwfnHYlUg8ZK5\n",
        "!unzip BayArea_511gtfs_2023-09.zip"
      ],
      "metadata": {
        "colab": {
          "base_uri": "https://localhost:8080/"
        },
        "id": "zZDe_eCWCJzl",
        "outputId": "aadb4d35-12f4-4cc6-deb3-71186f9caad7"
      },
      "execution_count": 7,
      "outputs": [
        {
          "output_type": "stream",
          "name": "stdout",
          "text": [
            "/content\n",
            "/content/BayArea_511gtfs_2023-09\n",
            "Downloading...\n",
            "From (original): https://drive.google.com/uc?id=1wu-echoNNi5NzQh3BT4RwfnHYlUg8ZK5\n",
            "From (redirected): https://drive.google.com/uc?id=1wu-echoNNi5NzQh3BT4RwfnHYlUg8ZK5&confirm=t&uuid=3d7ba87b-539f-4254-996a-6e05dcbfc830\n",
            "To: /content/BayArea_511gtfs_2023-09/BayArea_511gtfs_2023-09.zip\n",
            "100% 123M/123M [00:00<00:00, 161MB/s]\n",
            "Archive:  BayArea_511gtfs_2023-09.zip\n",
            "  inflating: routes.txt              \n",
            "  inflating: stops.txt               \n",
            "  inflating: pathways.txt            \n",
            "  inflating: shapes.txt              \n",
            "  inflating: transfers.txt           \n",
            "  inflating: directions.txt          \n",
            "  inflating: calendar_dates.txt      \n",
            "  inflating: agency.txt              \n",
            "  inflating: levels.txt              \n",
            "  inflating: trips.txt               \n",
            "  inflating: stop_times.txt          \n"
          ]
        }
      ]
    },
    {
      "cell_type": "code",
      "source": [
        "%cd /content/\n",
        "from network_wrangler import WranglerLogger\n",
        "import pathlib\n",
        "info_log_file = pathlib.Path(\"create_SF_network_info.log\")\n",
        "debug_log_file = pathlib.Path(\"create_SF_network_debug.log\")\n",
        "network_wrangler.setup_logging(\n",
        "    info_log_file,\n",
        "    debug_log_file,\n",
        "    std_out_level=\"info\",\n",
        "    file_mode=\"w\"\n",
        "  )\n",
        "\n",
        "# We have custom loggers and we want to prevent their messages from being\n",
        "# processed by the root logger's handlers (if any remain)\n",
        "WranglerLogger.propagate = False\n",
        "\n",
        "# this one will just go to the debug file\n",
        "WranglerLogger.debug(\"Debug test\")\n",
        "# this will go to the console (stdout) and the info & debug files\n",
        "WranglerLogger.info(\"Info test\")"
      ],
      "metadata": {
        "colab": {
          "base_uri": "https://localhost:8080/"
        },
        "collapsed": true,
        "id": "Vxi6b1AnP0Zk",
        "outputId": "b5ef4008-fb9a-436c-d488-a0d606d9e31e"
      },
      "execution_count": 20,
      "outputs": [
        {
          "output_type": "stream",
          "name": "stdout",
          "text": [
            "/content\n",
            "2025-09-12 00:27:06, INFO: Info test\n"
          ]
        }
      ]
    },
    {
      "cell_type": "code",
      "source": [
        "!tail /content/create_SF_network_debug.log"
      ],
      "metadata": {
        "colab": {
          "base_uri": "https://localhost:8080/"
        },
        "id": "T0pOJCUbUO1d",
        "outputId": "b82a613b-4ba3-4253-dae1-9cb5fb81639e"
      },
      "execution_count": 21,
      "outputs": [
        {
          "output_type": "stream",
          "name": "stdout",
          "text": [
            "2025-09-12 00:27:06, DEBUG: Debug test\n",
            "2025-09-12 00:27:06, INFO: Info test\n"
          ]
        }
      ]
    }
  ]
}