{
  "nbformat": 4,
  "nbformat_minor": 0,
  "metadata": {
    "colab": {
      "provenance": [],
      "collapsed_sections": [
        "hmyQtrtt8GvR",
        "ul2Qal9b_XiG"
      ],
      "authorship_tag": "ABX9TyNPTW2lU0NIO2bbEswyL17Q",
      "include_colab_link": true
    },
    "kernelspec": {
      "name": "python3",
      "display_name": "Python 3"
    },
    "language_info": {
      "name": "python"
    }
  },
  "cells": [
    {
      "cell_type": "markdown",
      "metadata": {
        "id": "view-in-github",
        "colab_type": "text"
      },
      "source": [
        "<a href=\"https://colab.research.google.com/github/BayAreaMetro/mtc_wrangler/blob/main/momo_workshop/colab_Create_SF_network_from_OSM_GTFS.ipynb\" target=\"_parent\"><img src=\"https://colab.research.google.com/assets/colab-badge.svg\" alt=\"Open In Colab\"/></a>"
      ]
    },
    {
      "cell_type": "markdown",
      "source": [
        "# GMNS/Network Wrangler 2.0 Workshop - Building a San Francisco Network\n",
        "\n",
        "This workshop workbook demonstrates how to use network_wrangler to create a base network from Open Streetmap (OSM) and a regional GTFS feed.\n",
        "\n",
        "In addition to using the network_wrangler library, this notebook uses the script, [`create_mtc_network_from_OSM.py`](https://github.com/BayAreaMetro/mtc_wrangler/blob/main/create_baseyear_network/create_mtc_network_from_OSM.py). The script also contains a main method and works as a standalone tool, which would be more practical for building an actual network; this demonstration just uses the python notebook in order to illustrate the output of the major steps.\n"
      ],
      "metadata": {
        "id": "83yVrP3xB1rW"
      }
    },
    {
      "cell_type": "markdown",
      "source": [
        "## Setup Environment\n",
        "\n",
        "Fetch [network_wrangler code](https://github.com/BayAreaMetro/network_wrangler/tree/centroids) and [network creation script](https://github.com/BayAreaMetro/mtc_wrangler/blob/main/create_baseyear_network/create_mtc_network_from_OSM.py).\n",
        "Currently the network_wrangler code is the centroids branch of a BayAreaMetro fork, but this will be merged into [`network_wrangler`](https://github.com/network-wrangler/network_wrangler) after review."
      ],
      "metadata": {
        "id": "hmyQtrtt8GvR"
      }
    },
    {
      "cell_type": "code",
      "execution_count": 1,
      "metadata": {
        "colab": {
          "base_uri": "https://localhost:8080/"
        },
        "id": "h1M8sWZrzPW7",
        "outputId": "35e104dc-5b11-47f3-db14-0b62e940351c"
      },
      "outputs": [
        {
          "output_type": "stream",
          "name": "stdout",
          "text": [
            "Cloning into 'network_wrangler'...\n",
            "remote: Enumerating objects: 4242, done.\u001b[K\n",
            "remote: Counting objects: 100% (1181/1181), done.\u001b[K\n",
            "remote: Compressing objects: 100% (426/426), done.\u001b[K\n",
            "remote: Total 4242 (delta 870), reused 767 (delta 755), pack-reused 3061 (from 2)\u001b[K\n",
            "Receiving objects: 100% (4242/4242), 95.84 MiB | 9.60 MiB/s, done.\n",
            "Resolving deltas: 100% (2703/2703), done.\n",
            "Cloning into 'mtc_wrangler'...\n",
            "remote: Enumerating objects: 470, done.\u001b[K\n",
            "remote: Counting objects: 100% (25/25), done.\u001b[K\n",
            "remote: Compressing objects: 100% (20/20), done.\u001b[K\n",
            "remote: Total 470 (delta 10), reused 15 (delta 5), pack-reused 445 (from 1)\u001b[K\n",
            "Receiving objects: 100% (470/470), 12.12 MiB | 10.04 MiB/s, done.\n",
            "Resolving deltas: 100% (300/300), done.\n"
          ]
        }
      ],
      "source": [
        "!git clone https://github.com/BayAreaMetro/network_wrangler.git\n",
        "!git clone https://github.com/BayAreaMetro/mtc_wrangler.git"
      ]
    },
    {
      "cell_type": "markdown",
      "source": [
        "Ensure `mtc_wrangler` code is up-to-date (we're fixing bugs!)"
      ],
      "metadata": {
        "id": "L6wpO4ez-S-n"
      }
    },
    {
      "cell_type": "code",
      "source": [
        "%cd /content/mtc_wrangler/\n",
        "!git pull\n",
        "print(\"Last commit for mtc_wrangler:\")\n",
        "!git log -1\n"
      ],
      "metadata": {
        "colab": {
          "base_uri": "https://localhost:8080/"
        },
        "id": "vmueaMHf-bdD",
        "outputId": "34a2e4fe-5764-4be5-a0fe-ea6a7332a19e"
      },
      "execution_count": 2,
      "outputs": [
        {
          "output_type": "stream",
          "name": "stdout",
          "text": [
            "/content/mtc_wrangler\n",
            "Already up to date.\n",
            "Last commit for mtc_wrangler:\n",
            "\u001b[33mcommit 9cbfdce196804f4615913edd59c51d6bbcc461e6\u001b[m\u001b[33m (\u001b[m\u001b[1;36mHEAD -> \u001b[m\u001b[1;32mmain\u001b[m\u001b[33m, \u001b[m\u001b[1;31morigin/main\u001b[m\u001b[33m, \u001b[m\u001b[1;31morigin/HEAD\u001b[m\u001b[33m)\u001b[m\n",
            "Author: jdahren <jahrenholtz@bayareametro.gov>\n",
            "Date:   Thu Sep 11 20:16:21 2025 -0700\n",
            "\n",
            "    Notebook with basic updated workflow\n"
          ]
        }
      ]
    },
    {
      "cell_type": "markdown",
      "source": [
        "Ensure `network_wrangler` is on the `centroids` branch and up-to-date. Install package in editable mode."
      ],
      "metadata": {
        "id": "cvtflqVr-uxy"
      }
    },
    {
      "cell_type": "code",
      "source": [
        "%cd /content/network_wrangler/\n",
        "!git pull\n",
        "!git checkout centroids\n",
        "print(\"Last commit for network_wrangler on centroids branch:\")\n",
        "!git log -1"
      ],
      "metadata": {
        "colab": {
          "base_uri": "https://localhost:8080/"
        },
        "id": "EU478mg--4Xi",
        "outputId": "31072e8a-f09a-4751-d36f-70e903c56cc7"
      },
      "execution_count": 3,
      "outputs": [
        {
          "output_type": "stream",
          "name": "stdout",
          "text": [
            "/content/network_wrangler\n",
            "Already up to date.\n",
            "Branch 'centroids' set up to track remote branch 'centroids' from 'origin'.\n",
            "Switched to a new branch 'centroids'\n",
            "Last commit for network_wrangler on centroids branch:\n",
            "\u001b[33mcommit 949460d90feb5379f7129c1dc7422564d2ba8a8d\u001b[m\u001b[33m (\u001b[m\u001b[1;36mHEAD -> \u001b[m\u001b[1;32mcentroids\u001b[m\u001b[33m, \u001b[m\u001b[1;31morigin/centroids\u001b[m\u001b[33m)\u001b[m\n",
            "Merge: 7adcd50 aeaab3f\n",
            "Author: Lisa Zorn <lzorn@bayareametro.gov>\n",
            "Date:   Thu Sep 11 18:01:28 2025 -0700\n",
            "\n",
            "    Merge remote-tracking branch 'origin/main' into centroids\n"
          ]
        }
      ]
    },
    {
      "cell_type": "markdown",
      "source": [
        "## Install python packages and test import\n",
        "This includes `scikit-learn`, `pygris`, and local version of `network_wrangler`"
      ],
      "metadata": {
        "id": "ul2Qal9b_XiG"
      }
    },
    {
      "cell_type": "code",
      "source": [
        "%%capture python_install_cap\n",
        "!pip install scikit-learn pygris\n",
        "# Install Tableau package if using Tableau for visualization\n",
        "#!pip install tableauhyperapi\n",
        "%cd /content/network_wrangler/\n",
        "!pip install -e ."
      ],
      "metadata": {
        "id": "z40379AN_m1i"
      },
      "execution_count": 4,
      "outputs": []
    },
    {
      "cell_type": "code",
      "source": [
        "# run this if you want to see the output from the python install\n",
        "print(python_install_cap)"
      ],
      "metadata": {
        "colab": {
          "base_uri": "https://localhost:8080/"
        },
        "collapsed": true,
        "id": "c7bB39Vu0IDD",
        "outputId": "fb5322db-38f2-4d04-bc26-7e6fe917784f"
      },
      "execution_count": 5,
      "outputs": [
        {
          "output_type": "stream",
          "name": "stdout",
          "text": [
            "Requirement already satisfied: scikit-learn in /usr/local/lib/python3.12/dist-packages (1.6.1)\n",
            "Collecting pygris\n",
            "  Downloading pygris-0.2.0-py3-none-any.whl.metadata (2.3 kB)\n",
            "Requirement already satisfied: numpy>=1.19.5 in /usr/local/lib/python3.12/dist-packages (from scikit-learn) (2.0.2)\n",
            "Requirement already satisfied: scipy>=1.6.0 in /usr/local/lib/python3.12/dist-packages (from scikit-learn) (1.16.1)\n",
            "Requirement already satisfied: joblib>=1.2.0 in /usr/local/lib/python3.12/dist-packages (from scikit-learn) (1.5.2)\n",
            "Requirement already satisfied: threadpoolctl>=3.1.0 in /usr/local/lib/python3.12/dist-packages (from scikit-learn) (3.6.0)\n",
            "Requirement already satisfied: geopandas>=0.9 in /usr/local/lib/python3.12/dist-packages (from pygris) (1.1.1)\n",
            "Requirement already satisfied: requests in /usr/local/lib/python3.12/dist-packages (from pygris) (2.32.4)\n",
            "Collecting appdirs (from pygris)\n",
            "  Downloading appdirs-1.4.4-py2.py3-none-any.whl.metadata (9.0 kB)\n",
            "Requirement already satisfied: pyogrio>=0.7.2 in /usr/local/lib/python3.12/dist-packages (from geopandas>=0.9->pygris) (0.11.1)\n",
            "Requirement already satisfied: packaging in /usr/local/lib/python3.12/dist-packages (from geopandas>=0.9->pygris) (25.0)\n",
            "Requirement already satisfied: pandas>=2.0.0 in /usr/local/lib/python3.12/dist-packages (from geopandas>=0.9->pygris) (2.2.2)\n",
            "Requirement already satisfied: pyproj>=3.5.0 in /usr/local/lib/python3.12/dist-packages (from geopandas>=0.9->pygris) (3.7.2)\n",
            "Requirement already satisfied: shapely>=2.0.0 in /usr/local/lib/python3.12/dist-packages (from geopandas>=0.9->pygris) (2.1.1)\n",
            "Requirement already satisfied: charset_normalizer<4,>=2 in /usr/local/lib/python3.12/dist-packages (from requests->pygris) (3.4.3)\n",
            "Requirement already satisfied: idna<4,>=2.5 in /usr/local/lib/python3.12/dist-packages (from requests->pygris) (3.10)\n",
            "Requirement already satisfied: urllib3<3,>=1.21.1 in /usr/local/lib/python3.12/dist-packages (from requests->pygris) (2.5.0)\n",
            "Requirement already satisfied: certifi>=2017.4.17 in /usr/local/lib/python3.12/dist-packages (from requests->pygris) (2025.8.3)\n",
            "Requirement already satisfied: python-dateutil>=2.8.2 in /usr/local/lib/python3.12/dist-packages (from pandas>=2.0.0->geopandas>=0.9->pygris) (2.9.0.post0)\n",
            "Requirement already satisfied: pytz>=2020.1 in /usr/local/lib/python3.12/dist-packages (from pandas>=2.0.0->geopandas>=0.9->pygris) (2025.2)\n",
            "Requirement already satisfied: tzdata>=2022.7 in /usr/local/lib/python3.12/dist-packages (from pandas>=2.0.0->geopandas>=0.9->pygris) (2025.2)\n",
            "Requirement already satisfied: six>=1.5 in /usr/local/lib/python3.12/dist-packages (from python-dateutil>=2.8.2->pandas>=2.0.0->geopandas>=0.9->pygris) (1.17.0)\n",
            "Downloading pygris-0.2.0-py3-none-any.whl (57 kB)\n",
            "\u001b[?25l   \u001b[90m━━━━━━━━━━━━━━━━━━━━━━━━━━━━━━━━━━━━━━━━\u001b[0m \u001b[32m0.0/57.5 kB\u001b[0m \u001b[31m?\u001b[0m eta \u001b[36m-:--:--\u001b[0m\r\u001b[2K   \u001b[90m━━━━━━━━━━━━━━━━━━━━━━━━━━━━━━━━━━━━━━━━\u001b[0m \u001b[32m57.5/57.5 kB\u001b[0m \u001b[31m3.9 MB/s\u001b[0m eta \u001b[36m0:00:00\u001b[0m\n",
            "\u001b[?25hDownloading appdirs-1.4.4-py2.py3-none-any.whl (9.6 kB)\n",
            "Installing collected packages: appdirs, pygris\n",
            "Successfully installed appdirs-1.4.4 pygris-0.2.0\n",
            "/content/network_wrangler\n",
            "Obtaining file:///content/network_wrangler\n",
            "  Installing build dependencies ... \u001b[?25l\u001b[?25hdone\n",
            "  Checking if build backend supports build_editable ... \u001b[?25l\u001b[?25hdone\n",
            "  Getting requirements to build editable ... \u001b[?25l\u001b[?25hdone\n",
            "  Preparing editable metadata (pyproject.toml) ... \u001b[?25l\u001b[?25hdone\n",
            "Collecting fiona>=1.10.1 (from network-wrangler==1.0b3)\n",
            "  Downloading fiona-1.10.1-cp312-cp312-manylinux_2_17_x86_64.manylinux2014_x86_64.whl.metadata (56 kB)\n",
            "\u001b[?25l     \u001b[90m━━━━━━━━━━━━━━━━━━━━━━━━━━━━━━━━━━━━━━━━\u001b[0m \u001b[32m0.0/56.6 kB\u001b[0m \u001b[31m?\u001b[0m eta \u001b[36m-:--:--\u001b[0m\r\u001b[2K     \u001b[90m━━━━━━━━━━━━━━━━━━━━━━━━━━━━━━━━━━━━━━━━\u001b[0m \u001b[32m56.6/56.6 kB\u001b[0m \u001b[31m3.1 MB/s\u001b[0m eta \u001b[36m0:00:00\u001b[0m\n",
            "\u001b[?25hRequirement already satisfied: geographiclib>=2.0 in /usr/local/lib/python3.12/dist-packages (from network-wrangler==1.0b3) (2.1)\n",
            "Collecting geojson>=3.1.0 (from network-wrangler==1.0b3)\n",
            "  Downloading geojson-3.2.0-py3-none-any.whl.metadata (16 kB)\n",
            "Requirement already satisfied: geopandas>=1.0.1 in /usr/local/lib/python3.12/dist-packages (from network-wrangler==1.0b3) (1.1.1)\n",
            "Collecting ijson>=3.3.0 (from network-wrangler==1.0b3)\n",
            "  Downloading ijson-3.4.0-cp312-cp312-manylinux_2_17_x86_64.manylinux2014_x86_64.whl.metadata (21 kB)\n",
            "Collecting osmnx>=1.9.3 (from network-wrangler==1.0b3)\n",
            "  Downloading osmnx-2.0.6-py3-none-any.whl.metadata (4.9 kB)\n",
            "Collecting pandas>=2.2.3 (from network-wrangler==1.0b3)\n",
            "  Downloading pandas-2.3.2-cp312-cp312-manylinux_2_17_x86_64.manylinux2014_x86_64.whl.metadata (91 kB)\n",
            "\u001b[?25l     \u001b[90m━━━━━━━━━━━━━━━━━━━━━━━━━━━━━━━━━━━━━━━━\u001b[0m \u001b[32m0.0/91.2 kB\u001b[0m \u001b[31m?\u001b[0m eta \u001b[36m-:--:--\u001b[0m\r\u001b[2K     \u001b[90m━━━━━━━━━━━━━━━━━━━━━━━━━━━━━━━━━━━━━━━━\u001b[0m \u001b[32m91.2/91.2 kB\u001b[0m \u001b[31m6.1 MB/s\u001b[0m eta \u001b[36m0:00:00\u001b[0m\n",
            "\u001b[?25hCollecting pandera>=0.24.0 (from pandera[geopandas,pandas]>=0.24.0->network-wrangler==1.0b3)\n",
            "  Downloading pandera-0.26.1-py3-none-any.whl.metadata (10 kB)\n",
            "Collecting projectcard>=0.3.3 (from network-wrangler==1.0b3)\n",
            "  Downloading projectcard-0.3.3-py3-none-any.whl.metadata (16 kB)\n",
            "Collecting psutil>=6.0.0 (from network-wrangler==1.0b3)\n",
            "  Downloading psutil-7.0.0-cp36-abi3-manylinux_2_12_x86_64.manylinux2010_x86_64.manylinux_2_17_x86_64.manylinux2014_x86_64.whl.metadata (22 kB)\n",
            "Requirement already satisfied: pyarrow>=17.0.0 in /usr/local/lib/python3.12/dist-packages (from network-wrangler==1.0b3) (18.1.0)\n",
            "Requirement already satisfied: pydantic>=2.9.2 in /usr/local/lib/python3.12/dist-packages (from network-wrangler==1.0b3) (2.11.7)\n",
            "Requirement already satisfied: pyogrio>=0.9.0 in /usr/local/lib/python3.12/dist-packages (from network-wrangler==1.0b3) (0.11.1)\n",
            "Requirement already satisfied: pyyaml>=6.0.2 in /usr/local/lib/python3.12/dist-packages (from network-wrangler==1.0b3) (6.0.2)\n",
            "Requirement already satisfied: typing-extensions>=4.12.2 in /usr/local/lib/python3.12/dist-packages (from network-wrangler==1.0b3) (4.15.0)\n",
            "Requirement already satisfied: attrs>=19.2.0 in /usr/local/lib/python3.12/dist-packages (from fiona>=1.10.1->network-wrangler==1.0b3) (25.3.0)\n",
            "Requirement already satisfied: certifi in /usr/local/lib/python3.12/dist-packages (from fiona>=1.10.1->network-wrangler==1.0b3) (2025.8.3)\n",
            "Requirement already satisfied: click~=8.0 in /usr/local/lib/python3.12/dist-packages (from fiona>=1.10.1->network-wrangler==1.0b3) (8.2.1)\n",
            "Collecting click-plugins>=1.0 (from fiona>=1.10.1->network-wrangler==1.0b3)\n",
            "  Downloading click_plugins-1.1.1.2-py2.py3-none-any.whl.metadata (6.5 kB)\n",
            "Collecting cligj>=0.5 (from fiona>=1.10.1->network-wrangler==1.0b3)\n",
            "  Downloading cligj-0.7.2-py3-none-any.whl.metadata (5.0 kB)\n",
            "Requirement already satisfied: numpy>=1.24 in /usr/local/lib/python3.12/dist-packages (from geopandas>=1.0.1->network-wrangler==1.0b3) (2.0.2)\n",
            "Requirement already satisfied: packaging in /usr/local/lib/python3.12/dist-packages (from geopandas>=1.0.1->network-wrangler==1.0b3) (25.0)\n",
            "Requirement already satisfied: pyproj>=3.5.0 in /usr/local/lib/python3.12/dist-packages (from geopandas>=1.0.1->network-wrangler==1.0b3) (3.7.2)\n",
            "Requirement already satisfied: shapely>=2.0.0 in /usr/local/lib/python3.12/dist-packages (from geopandas>=1.0.1->network-wrangler==1.0b3) (2.1.1)\n",
            "Requirement already satisfied: networkx>=2.5 in /usr/local/lib/python3.12/dist-packages (from osmnx>=1.9.3->network-wrangler==1.0b3) (3.5)\n",
            "Requirement already satisfied: requests>=2.27 in /usr/local/lib/python3.12/dist-packages (from osmnx>=1.9.3->network-wrangler==1.0b3) (2.32.4)\n",
            "Requirement already satisfied: python-dateutil>=2.8.2 in /usr/local/lib/python3.12/dist-packages (from pandas>=2.2.3->network-wrangler==1.0b3) (2.9.0.post0)\n",
            "Requirement already satisfied: pytz>=2020.1 in /usr/local/lib/python3.12/dist-packages (from pandas>=2.2.3->network-wrangler==1.0b3) (2025.2)\n",
            "Requirement already satisfied: tzdata>=2022.7 in /usr/local/lib/python3.12/dist-packages (from pandas>=2.2.3->network-wrangler==1.0b3) (2025.2)\n",
            "Requirement already satisfied: typeguard in /usr/local/lib/python3.12/dist-packages (from pandera>=0.24.0->pandera[geopandas,pandas]>=0.24.0->network-wrangler==1.0b3) (4.4.4)\n",
            "Collecting typing_inspect>=0.6.0 (from pandera>=0.24.0->pandera[geopandas,pandas]>=0.24.0->network-wrangler==1.0b3)\n",
            "  Downloading typing_inspect-0.9.0-py3-none-any.whl.metadata (1.5 kB)\n",
            "Collecting geopandas>=1.0.1 (from network-wrangler==1.0b3)\n",
            "  Downloading geopandas-1.0.1-py3-none-any.whl.metadata (2.2 kB)\n",
            "Collecting jsonref (from projectcard>=0.3.3->network-wrangler==1.0b3)\n",
            "  Downloading jsonref-1.1.0-py3-none-any.whl.metadata (2.7 kB)\n",
            "Requirement already satisfied: jsonschema in /usr/local/lib/python3.12/dist-packages (from projectcard>=0.3.3->network-wrangler==1.0b3) (4.25.1)\n",
            "Requirement already satisfied: tabulate in /usr/local/lib/python3.12/dist-packages (from projectcard>=0.3.3->network-wrangler==1.0b3) (0.9.0)\n",
            "Requirement already satisfied: ruff in /usr/local/lib/python3.12/dist-packages (from projectcard>=0.3.3->network-wrangler==1.0b3) (0.12.12)\n",
            "Requirement already satisfied: toml in /usr/local/lib/python3.12/dist-packages (from projectcard>=0.3.3->network-wrangler==1.0b3) (0.10.2)\n",
            "Requirement already satisfied: annotated-types>=0.6.0 in /usr/local/lib/python3.12/dist-packages (from pydantic>=2.9.2->network-wrangler==1.0b3) (0.7.0)\n",
            "Requirement already satisfied: pydantic-core==2.33.2 in /usr/local/lib/python3.12/dist-packages (from pydantic>=2.9.2->network-wrangler==1.0b3) (2.33.2)\n",
            "Requirement already satisfied: typing-inspection>=0.4.0 in /usr/local/lib/python3.12/dist-packages (from pydantic>=2.9.2->network-wrangler==1.0b3) (0.4.1)\n",
            "Requirement already satisfied: six>=1.5 in /usr/local/lib/python3.12/dist-packages (from python-dateutil>=2.8.2->pandas>=2.2.3->network-wrangler==1.0b3) (1.17.0)\n",
            "Requirement already satisfied: charset_normalizer<4,>=2 in /usr/local/lib/python3.12/dist-packages (from requests>=2.27->osmnx>=1.9.3->network-wrangler==1.0b3) (3.4.3)\n",
            "Requirement already satisfied: idna<4,>=2.5 in /usr/local/lib/python3.12/dist-packages (from requests>=2.27->osmnx>=1.9.3->network-wrangler==1.0b3) (3.10)\n",
            "Requirement already satisfied: urllib3<3,>=1.21.1 in /usr/local/lib/python3.12/dist-packages (from requests>=2.27->osmnx>=1.9.3->network-wrangler==1.0b3) (2.5.0)\n",
            "Collecting mypy-extensions>=0.3.0 (from typing_inspect>=0.6.0->pandera>=0.24.0->pandera[geopandas,pandas]>=0.24.0->network-wrangler==1.0b3)\n",
            "  Downloading mypy_extensions-1.1.0-py3-none-any.whl.metadata (1.1 kB)\n",
            "Requirement already satisfied: jsonschema-specifications>=2023.03.6 in /usr/local/lib/python3.12/dist-packages (from jsonschema->projectcard>=0.3.3->network-wrangler==1.0b3) (2025.4.1)\n",
            "Requirement already satisfied: referencing>=0.28.4 in /usr/local/lib/python3.12/dist-packages (from jsonschema->projectcard>=0.3.3->network-wrangler==1.0b3) (0.36.2)\n",
            "Requirement already satisfied: rpds-py>=0.7.1 in /usr/local/lib/python3.12/dist-packages (from jsonschema->projectcard>=0.3.3->network-wrangler==1.0b3) (0.27.1)\n",
            "Downloading fiona-1.10.1-cp312-cp312-manylinux_2_17_x86_64.manylinux2014_x86_64.whl (17.2 MB)\n",
            "\u001b[?25l   \u001b[90m━━━━━━━━━━━━━━━━━━━━━━━━━━━━━━━━━━━━━━━━\u001b[0m \u001b[32m0.0/17.2 MB\u001b[0m \u001b[31m?\u001b[0m eta \u001b[36m-:--:--\u001b[0m\r\u001b[2K   \u001b[91m━━━━━━━\u001b[0m\u001b[90m╺\u001b[0m\u001b[90m━━━━━━━━━━━━━━━━━━━━━━━━━━━━━━━━\u001b[0m \u001b[32m3.0/17.2 MB\u001b[0m \u001b[31m88.2 MB/s\u001b[0m eta \u001b[36m0:00:01\u001b[0m\r\u001b[2K   \u001b[91m━━━━━━━━━━━━━━━━━\u001b[0m\u001b[90m╺\u001b[0m\u001b[90m━━━━━━━━━━━━━━━━━━━━━━\u001b[0m \u001b[32m7.5/17.2 MB\u001b[0m \u001b[31m105.3 MB/s\u001b[0m eta \u001b[36m0:00:01\u001b[0m\r\u001b[2K   \u001b[91m━━━━━━━━━━━━━━━━━━━━━━━━━━\u001b[0m\u001b[91m╸\u001b[0m\u001b[90m━━━━━━━━━━━━━\u001b[0m \u001b[32m11.5/17.2 MB\u001b[0m \u001b[31m112.6 MB/s\u001b[0m eta \u001b[36m0:00:01\u001b[0m\r\u001b[2K   \u001b[91m━━━━━━━━━━━━━━━━━━━━━━━━━━━━━━━━━━━━━\u001b[0m\u001b[91m╸\u001b[0m\u001b[90m━━\u001b[0m \u001b[32m16.1/17.2 MB\u001b[0m \u001b[31m120.1 MB/s\u001b[0m eta \u001b[36m0:00:01\u001b[0m\r\u001b[2K   \u001b[91m━━━━━━━━━━━━━━━━━━━━━━━━━━━━━━━━━━━━━━━\u001b[0m\u001b[91m╸\u001b[0m \u001b[32m17.2/17.2 MB\u001b[0m \u001b[31m115.3 MB/s\u001b[0m eta \u001b[36m0:00:01\u001b[0m\r\u001b[2K   \u001b[91m━━━━━━━━━━━━━━━━━━━━━━━━━━━━━━━━━━━━━━━\u001b[0m\u001b[91m╸\u001b[0m \u001b[32m17.2/17.2 MB\u001b[0m \u001b[31m115.3 MB/s\u001b[0m eta \u001b[36m0:00:01\u001b[0m\r\u001b[2K   \u001b[91m━━━━━━━━━━━━━━━━━━━━━━━━━━━━━━━━━━━━━━━\u001b[0m\u001b[91m╸\u001b[0m \u001b[32m17.2/17.2 MB\u001b[0m \u001b[31m115.3 MB/s\u001b[0m eta \u001b[36m0:00:01\u001b[0m\r\u001b[2K   \u001b[90m━━━━━━━━━━━━━━━━━━━━━━━━━━━━━━━━━━━━━━━━\u001b[0m \u001b[32m17.2/17.2 MB\u001b[0m \u001b[31m53.4 MB/s\u001b[0m eta \u001b[36m0:00:00\u001b[0m\n",
            "\u001b[?25hDownloading geojson-3.2.0-py3-none-any.whl (15 kB)\n",
            "Downloading ijson-3.4.0-cp312-cp312-manylinux_2_17_x86_64.manylinux2014_x86_64.whl (148 kB)\n",
            "\u001b[?25l   \u001b[90m━━━━━━━━━━━━━━━━━━━━━━━━━━━━━━━━━━━━━━━━\u001b[0m \u001b[32m0.0/148.3 kB\u001b[0m \u001b[31m?\u001b[0m eta \u001b[36m-:--:--\u001b[0m\r\u001b[2K   \u001b[90m━━━━━━━━━━━━━━━━━━━━━━━━━━━━━━━━━━━━━━━━\u001b[0m \u001b[32m148.3/148.3 kB\u001b[0m \u001b[31m9.7 MB/s\u001b[0m eta \u001b[36m0:00:00\u001b[0m\n",
            "\u001b[?25hDownloading osmnx-2.0.6-py3-none-any.whl (101 kB)\n",
            "\u001b[?25l   \u001b[90m━━━━━━━━━━━━━━━━━━━━━━━━━━━━━━━━━━━━━━━━\u001b[0m \u001b[32m0.0/101.5 kB\u001b[0m \u001b[31m?\u001b[0m eta \u001b[36m-:--:--\u001b[0m\r\u001b[2K   \u001b[90m━━━━━━━━━━━━━━━━━━━━━━━━━━━━━━━━━━━━━━━━\u001b[0m \u001b[32m101.5/101.5 kB\u001b[0m \u001b[31m6.7 MB/s\u001b[0m eta \u001b[36m0:00:00\u001b[0m\n",
            "\u001b[?25hDownloading pandas-2.3.2-cp312-cp312-manylinux_2_17_x86_64.manylinux2014_x86_64.whl (12.0 MB)\n",
            "\u001b[?25l   \u001b[90m━━━━━━━━━━━━━━━━━━━━━━━━━━━━━━━━━━━━━━━━\u001b[0m \u001b[32m0.0/12.0 MB\u001b[0m \u001b[31m?\u001b[0m eta \u001b[36m-:--:--\u001b[0m\r\u001b[2K   \u001b[91m━━━━━━━━━━━━━\u001b[0m\u001b[90m╺\u001b[0m\u001b[90m━━━━━━━━━━━━━━━━━━━━━━━━━━\u001b[0m \u001b[32m4.0/12.0 MB\u001b[0m \u001b[31m106.2 MB/s\u001b[0m eta \u001b[36m0:00:01\u001b[0m\r\u001b[2K   \u001b[91m━━━━━━━━━━━━━━━━━━━━━━━━━━\u001b[0m\u001b[91m╸\u001b[0m\u001b[90m━━━━━━━━━━━━━\u001b[0m \u001b[32m8.0/12.0 MB\u001b[0m \u001b[31m108.6 MB/s\u001b[0m eta \u001b[36m0:00:01\u001b[0m\r\u001b[2K   \u001b[91m━━━━━━━━━━━━━━━━━━━━━━━━━━━━━━━━━━\u001b[0m\u001b[91m╸\u001b[0m\u001b[90m━━━━━\u001b[0m \u001b[32m10.4/12.0 MB\u001b[0m \u001b[31m94.3 MB/s\u001b[0m eta \u001b[36m0:00:01\u001b[0m\r\u001b[2K   \u001b[91m━━━━━━━━━━━━━━━━━━━━━━━━━━━━━━━━━━━━━━━\u001b[0m\u001b[91m╸\u001b[0m \u001b[32m12.0/12.0 MB\u001b[0m \u001b[31m92.4 MB/s\u001b[0m eta \u001b[36m0:00:01\u001b[0m\r\u001b[2K   \u001b[91m━━━━━━━━━━━━━━━━━━━━━━━━━━━━━━━━━━━━━━━\u001b[0m\u001b[91m╸\u001b[0m \u001b[32m12.0/12.0 MB\u001b[0m \u001b[31m92.4 MB/s\u001b[0m eta \u001b[36m0:00:01\u001b[0m\r\u001b[2K   \u001b[90m━━━━━━━━━━━━━━━━━━━━━━━━━━━━━━━━━━━━━━━━\u001b[0m \u001b[32m12.0/12.0 MB\u001b[0m \u001b[31m53.0 MB/s\u001b[0m eta \u001b[36m0:00:00\u001b[0m\n",
            "\u001b[?25hDownloading pandera-0.26.1-py3-none-any.whl (292 kB)\n",
            "\u001b[?25l   \u001b[90m━━━━━━━━━━━━━━━━━━━━━━━━━━━━━━━━━━━━━━━━\u001b[0m \u001b[32m0.0/292.9 kB\u001b[0m \u001b[31m?\u001b[0m eta \u001b[36m-:--:--\u001b[0m\r\u001b[2K   \u001b[90m━━━━━━━━━━━━━━━━━━━━━━━━━━━━━━━━━━━━━━━━\u001b[0m \u001b[32m292.9/292.9 kB\u001b[0m \u001b[31m19.1 MB/s\u001b[0m eta \u001b[36m0:00:00\u001b[0m\n",
            "\u001b[?25hDownloading geopandas-1.0.1-py3-none-any.whl (323 kB)\n",
            "\u001b[?25l   \u001b[90m━━━━━━━━━━━━━━━━━━━━━━━━━━━━━━━━━━━━━━━━\u001b[0m \u001b[32m0.0/323.6 kB\u001b[0m \u001b[31m?\u001b[0m eta \u001b[36m-:--:--\u001b[0m\r\u001b[2K   \u001b[90m━━━━━━━━━━━━━━━━━━━━━━━━━━━━━━━━━━━━━━━━\u001b[0m \u001b[32m323.6/323.6 kB\u001b[0m \u001b[31m22.4 MB/s\u001b[0m eta \u001b[36m0:00:00\u001b[0m\n",
            "\u001b[?25hDownloading projectcard-0.3.3-py3-none-any.whl (77 kB)\n",
            "\u001b[?25l   \u001b[90m━━━━━━━━━━━━━━━━━━━━━━━━━━━━━━━━━━━━━━━━\u001b[0m \u001b[32m0.0/77.3 kB\u001b[0m \u001b[31m?\u001b[0m eta \u001b[36m-:--:--\u001b[0m\r\u001b[2K   \u001b[90m━━━━━━━━━━━━━━━━━━━━━━━━━━━━━━━━━━━━━━━━\u001b[0m \u001b[32m77.3/77.3 kB\u001b[0m \u001b[31m5.2 MB/s\u001b[0m eta \u001b[36m0:00:00\u001b[0m\n",
            "\u001b[?25hDownloading psutil-7.0.0-cp36-abi3-manylinux_2_12_x86_64.manylinux2010_x86_64.manylinux_2_17_x86_64.manylinux2014_x86_64.whl (277 kB)\n",
            "\u001b[?25l   \u001b[90m━━━━━━━━━━━━━━━━━━━━━━━━━━━━━━━━━━━━━━━━\u001b[0m \u001b[32m0.0/278.0 kB\u001b[0m \u001b[31m?\u001b[0m eta \u001b[36m-:--:--\u001b[0m\r\u001b[2K   \u001b[90m━━━━━━━━━━━━━━━━━━━━━━━━━━━━━━━━━━━━━━━━\u001b[0m \u001b[32m278.0/278.0 kB\u001b[0m \u001b[31m18.3 MB/s\u001b[0m eta \u001b[36m0:00:00\u001b[0m\n",
            "\u001b[?25hDownloading click_plugins-1.1.1.2-py2.py3-none-any.whl (11 kB)\n",
            "Downloading cligj-0.7.2-py3-none-any.whl (7.1 kB)\n",
            "Downloading typing_inspect-0.9.0-py3-none-any.whl (8.8 kB)\n",
            "Downloading jsonref-1.1.0-py3-none-any.whl (9.4 kB)\n",
            "Downloading mypy_extensions-1.1.0-py3-none-any.whl (5.0 kB)\n",
            "Building wheels for collected packages: network-wrangler\n",
            "  Building editable for network-wrangler (pyproject.toml) ... \u001b[?25l\u001b[?25hdone\n",
            "  Created wheel for network-wrangler: filename=network_wrangler-1.0b3-0.editable-py3-none-any.whl size=22560 sha256=9bf8eb0853a01ba6448df385825d13aa35fa0376ddb46187a80d43b0a0d39d37\n",
            "  Stored in directory: /tmp/pip-ephem-wheel-cache-kt8f_ru7/wheels/84/e5/eb/036b3569f67616a207c14ba6b53bebf085973b2179fc08ae17\n",
            "Successfully built network-wrangler\n",
            "Installing collected packages: psutil, mypy-extensions, jsonref, ijson, geojson, cligj, click-plugins, typing_inspect, pandas, fiona, pandera, geopandas, projectcard, osmnx, network-wrangler\n",
            "  Attempting uninstall: psutil\n",
            "    Found existing installation: psutil 5.9.5\n",
            "    Uninstalling psutil-5.9.5:\n",
            "      Successfully uninstalled psutil-5.9.5\n",
            "  Attempting uninstall: pandas\n",
            "    Found existing installation: pandas 2.2.2\n",
            "    Uninstalling pandas-2.2.2:\n",
            "      Successfully uninstalled pandas-2.2.2\n",
            "  Attempting uninstall: geopandas\n",
            "    Found existing installation: geopandas 1.1.1\n",
            "    Uninstalling geopandas-1.1.1:\n",
            "      Successfully uninstalled geopandas-1.1.1\n",
            "\u001b[31mERROR: pip's dependency resolver does not currently take into account all the packages that are installed. This behaviour is the source of the following dependency conflicts.\n",
            "google-colab 1.0.0 requires pandas==2.2.2, but you have pandas 2.3.2 which is incompatible.\n",
            "dask-cudf-cu12 25.6.0 requires pandas<2.2.4dev0,>=2.0, but you have pandas 2.3.2 which is incompatible.\n",
            "cudf-cu12 25.6.0 requires pandas<2.2.4dev0,>=2.0, but you have pandas 2.3.2 which is incompatible.\u001b[0m\u001b[31m\n",
            "\u001b[0mSuccessfully installed click-plugins-1.1.1.2 cligj-0.7.2 fiona-1.10.1 geojson-3.2.0 geopandas-1.0.1 ijson-3.4.0 jsonref-1.1.0 mypy-extensions-1.1.0 network-wrangler-1.0b3 osmnx-2.0.6 pandas-2.3.2 pandera-0.26.1 projectcard-0.3.3 psutil-7.0.0 typing_inspect-0.9.0\n",
            "\n"
          ]
        }
      ]
    },
    {
      "cell_type": "code",
      "source": [
        "# make sure we can import network_wrangler\n",
        "import network_wrangler\n",
        "import pprint\n",
        "print(pprint.pformat(dir(network_wrangler)))"
      ],
      "metadata": {
        "colab": {
          "base_uri": "https://localhost:8080/"
        },
        "id": "7kklZbYs0RYa",
        "outputId": "8d91d781-7ebc-4ca6-d7c7-fbf310365a6e"
      },
      "execution_count": 6,
      "outputs": [
        {
          "output_type": "stream",
          "name": "stderr",
          "text": [
            "/content/network_wrangler/network_wrangler/utils/utils.py:54: SyntaxWarning: invalid escape sequence '\\ '\n",
            "  return re.sub(\"[\\ ]+\", delimiter, text)\n"
          ]
        },
        {
          "output_type": "stream",
          "name": "stdout",
          "text": [
            "['DictQueryAccessor',\n",
            " 'Isin_dict',\n",
            " 'MIN_PROJECT_CARD_SCHEMA_VERSION',\n",
            " 'MIN_ROADWAY_NETWORK_SCHEMA_VERSION',\n",
            " 'MIN_TRANSIT_NETWORK_SCHEMA_VERSION',\n",
            " 'Scenario',\n",
            " 'SelectionError',\n",
            " 'TARGET_PROJECT_CARD_SCHEMA_VERSION',\n",
            " 'TARGET_ROADWAY_NETWORK_SCHEMA_VERSION',\n",
            " 'TARGET_TRANSIT_NETWORK_SCHEMA_VERSION',\n",
            " 'WranglerLogger',\n",
            " '__all__',\n",
            " '__builtins__',\n",
            " '__cached__',\n",
            " '__doc__',\n",
            " '__file__',\n",
            " '__loader__',\n",
            " '__name__',\n",
            " '__package__',\n",
            " '__path__',\n",
            " '__spec__',\n",
            " '__version__',\n",
            " 'configs',\n",
            " 'create_scenario',\n",
            " 'dfHash',\n",
            " 'dict_to_query',\n",
            " 'errors',\n",
            " 'hashlib',\n",
            " 'isin_dict',\n",
            " 'load_roadway',\n",
            " 'load_roadway_from_dataframes',\n",
            " 'load_roadway_from_dir',\n",
            " 'load_scenario',\n",
            " 'load_transit',\n",
            " 'load_wrangler_config',\n",
            " 'logger',\n",
            " 'models',\n",
            " 'params',\n",
            " 'pd',\n",
            " 'roadway',\n",
            " 'scenario',\n",
            " 'setup_logging',\n",
            " 'time',\n",
            " 'transit',\n",
            " 'utils',\n",
            " 'warnings',\n",
            " 'write_roadway',\n",
            " 'write_transit']\n"
          ]
        }
      ]
    },
    {
      "cell_type": "markdown",
      "source": [
        "## Fetch public GTFS Input files from Google Drive\n",
        "This is the regional transit feed for the San Francisco Bay Area, provided by [511 SF Bay’s Portal for Open Transit Data](https://511.org/open-data/transit). This was downloaded on October 2, 2024 via `http://api.511.org/transit/datafeeds?api_key=[my_api_key]&operator_id=RG&historic=2023-09`\n"
      ],
      "metadata": {
        "id": "tPiRPky1CKlW"
      }
    },
    {
      "cell_type": "code",
      "source": [
        "%cd /content/\n",
        "!mkdir BayArea_511gtfs_2023-09\n",
        "%cd /content/BayArea_511gtfs_2023-09\n",
        "!gdown 1wu-echoNNi5NzQh3BT4RwfnHYlUg8ZK5\n",
        "!unzip BayArea_511gtfs_2023-09.zip"
      ],
      "metadata": {
        "colab": {
          "base_uri": "https://localhost:8080/"
        },
        "id": "zZDe_eCWCJzl",
        "outputId": "4dcde806-6d91-4291-b38b-debdc1466d69"
      },
      "execution_count": 7,
      "outputs": [
        {
          "output_type": "stream",
          "name": "stdout",
          "text": [
            "/content\n",
            "/content/BayArea_511gtfs_2023-09\n",
            "Downloading...\n",
            "From (original): https://drive.google.com/uc?id=1wu-echoNNi5NzQh3BT4RwfnHYlUg8ZK5\n",
            "From (redirected): https://drive.google.com/uc?id=1wu-echoNNi5NzQh3BT4RwfnHYlUg8ZK5&confirm=t&uuid=03c21a49-4c6d-424c-afe4-17f8b8c49292\n",
            "To: /content/BayArea_511gtfs_2023-09/BayArea_511gtfs_2023-09.zip\n",
            "100% 123M/123M [00:01<00:00, 86.0MB/s]\n",
            "Archive:  BayArea_511gtfs_2023-09.zip\n",
            "  inflating: routes.txt              \n",
            "  inflating: stops.txt               \n",
            "  inflating: pathways.txt            \n",
            "  inflating: shapes.txt              \n",
            "  inflating: transfers.txt           \n",
            "  inflating: directions.txt          \n",
            "  inflating: calendar_dates.txt      \n",
            "  inflating: agency.txt              \n",
            "  inflating: levels.txt              \n",
            "  inflating: trips.txt               \n",
            "  inflating: stop_times.txt          \n"
          ]
        }
      ]
    },
    {
      "cell_type": "markdown",
      "source": [
        "## Setup Logging\n",
        "We have both info and debug logging. Info logs are high-level and will get reported to stdout, while debug logs are very detailed and will only be logged to the debug log file."
      ],
      "metadata": {
        "id": "xAyegiaWvmN2"
      }
    },
    {
      "cell_type": "code",
      "source": [
        "%cd /content/\n",
        "from network_wrangler import WranglerLogger\n",
        "import pathlib\n",
        "info_log_file = pathlib.Path(\"create_SF_network_info.log\")\n",
        "debug_log_file = pathlib.Path(\"create_SF_network_debug.log\")\n",
        "network_wrangler.setup_logging(\n",
        "    info_log_file,\n",
        "    debug_log_file,\n",
        "    std_out_level=\"info\",\n",
        "    file_mode=\"w\"\n",
        "  )\n",
        "\n",
        "# We have custom loggers and we want to prevent their messages from being\n",
        "# processed by the root logger's handlers (if any remain)\n",
        "WranglerLogger.propagate = False\n",
        "\n",
        "# this one will just go to the debug file\n",
        "WranglerLogger.debug(\"Debug test\")\n",
        "# this will go to the console (stdout) and the info & debug files\n",
        "WranglerLogger.info(\"Info test\")"
      ],
      "metadata": {
        "colab": {
          "base_uri": "https://localhost:8080/"
        },
        "collapsed": true,
        "id": "Vxi6b1AnP0Zk",
        "outputId": "a00ef391-f5b8-40a5-88d9-375f65204907"
      },
      "execution_count": 8,
      "outputs": [
        {
          "output_type": "stream",
          "name": "stdout",
          "text": [
            "/content\n",
            "2025-09-12 04:27:13, INFO: Info test\n"
          ]
        }
      ]
    },
    {
      "cell_type": "code",
      "source": [
        "!tail /content/create_SF_network_debug.log"
      ],
      "metadata": {
        "colab": {
          "base_uri": "https://localhost:8080/"
        },
        "id": "T0pOJCUbUO1d",
        "outputId": "b3f74f84-1210-4063-ade2-852842008cad"
      },
      "execution_count": 9,
      "outputs": [
        {
          "output_type": "stream",
          "name": "stdout",
          "text": [
            "2025-09-12 04:27:13, DEBUG: Debug test\n",
            "2025-09-12 04:27:13, INFO: Info test\n"
          ]
        }
      ]
    },
    {
      "cell_type": "markdown",
      "source": [
        "## Create output directory and import script code"
      ],
      "metadata": {
        "id": "2rQuPnP4wZlT"
      }
    },
    {
      "cell_type": "code",
      "source": [
        "%cd /content/mtc_wrangler/create_baseyear_network\n",
        "from create_mtc_network_from_OSM import (\n",
        "  step1_download_osm_network,\n",
        "  stepa_standardize_attributes,\n",
        "  step2_simplify_network_topology,\n",
        "  step3_assign_county_node_link_numbering,\n",
        "  step4_add_centroids_and_connectors,\n",
        "  step5_prepare_gtfs_transit_data,\n",
        "  step6_create_transit_network\n",
        ")\n",
        "%cd /content/mtc_wrangler/momo_workshop\n",
        "from visualization import *\n",
        "\n",
        "OUTPUT_DIR = pathlib.Path(\"/content/output_SF_OSM\")\n",
        "OUTPUT_DIR.mkdir(exist_ok=True)"
      ],
      "metadata": {
        "colab": {
          "base_uri": "https://localhost:8080/"
        },
        "id": "Mznf7-8axVwV",
        "outputId": "66a98f6d-a56e-457c-8ea2-9f3919de0ea4"
      },
      "execution_count": 11,
      "outputs": [
        {
          "output_type": "stream",
          "name": "stdout",
          "text": [
            "/content/mtc_wrangler/create_baseyear_network\n",
            "/content/mtc_wrangler/momo_workshop\n"
          ]
        }
      ]
    },
    {
      "cell_type": "markdown",
      "source": [
        "## Step 1: Download OSM network data\n",
        "\n",
        "This downloads the Open Street Map data for San Francisco county using [osmnx](https://osmnx.readthedocs.io/)"
      ],
      "metadata": {
        "id": "bdgRhZtRwFKK"
      }
    },
    {
      "cell_type": "code",
      "source": [
        "# Download the OSM network data for San Francisco county\n",
        "osm_g = step1_download_osm_network(\"San Francisco\", OUTPUT_DIR)\n",
        "print(type(osm_g))"
      ],
      "metadata": {
        "colab": {
          "base_uri": "https://localhost:8080/"
        },
        "id": "L2D6lhn9wPgC",
        "outputId": "f9716a13-129f-483a-cdd7-be4aab41dd26"
      },
      "execution_count": 12,
      "outputs": [
        {
          "output_type": "stream",
          "name": "stdout",
          "text": [
            "2025-09-12 04:29:36, INFO: ======= STEP 1: Download OSM network for San Francisco =======\n",
            "2025-09-12 04:29:36, INFO: Downloading network for San Francisco...\n",
            "2025-09-12 04:31:05, INFO: Cached OSM graph to /content/output_SF_OSM/1_graph_OSM_SanFrancisco.pkl\n",
            "2025-09-12 04:31:05, INFO: Downloaded graph has 169,335 edges and 57,674 nodes\n",
            "<class 'networkx.classes.multidigraph.MultiDiGraph'>\n"
          ]
        }
      ]
    },
    {
      "cell_type": "markdown",
      "source": [
        "## Step 1a: standardize attributes for the roadway network\n",
        "Optionally write it, if output format arguments are specified."
      ],
      "metadata": {
        "id": "B3HDaoO7zUMP"
      }
    },
    {
      "cell_type": "code",
      "source": [
        "links_unsimplified_gdf, nodes_unsimplified_gdf = stepa_standardize_attributes(\n",
        "    osm_g, \"San Francisco\", \"1a_original_\", OUTPUT_DIR, []\n",
        "  )"
      ],
      "metadata": {
        "colab": {
          "base_uri": "https://localhost:8080/"
        },
        "id": "8IAmEQe3zacg",
        "outputId": "c56792f5-6d19-4a9b-cae7-e7169c539c0b"
      },
      "execution_count": 13,
      "outputs": [
        {
          "output_type": "stream",
          "name": "stdout",
          "text": [
            "2025-09-12 04:31:50, INFO: ======= STEP 1a: Standardize attributes for San Francisco =======\n",
            "2025-09-12 04:32:07, INFO: After converting to gdfs, len(edges_gdf)=169,335 and len(nodes_gdf)=57,674\n",
            "2025-09-12 04:32:07, INFO: links_gdf has 169,020 links after dropping loop links (with u==v)\n",
            "2025-09-12 04:32:20, INFO: Filling 146,843 links with missing lane counts using highway type mapping\n",
            "2025-09-12 04:32:21, INFO: Found 224 links with missing lanes, assuming 1 lane\n",
            "2025-09-12 04:32:21, INFO: After standardize_lanes_value:\n",
            "lanes\n",
            "0    91610\n",
            "1    65072\n",
            "2    10212\n",
            "3     1772\n",
            "4      260\n",
            "5       91\n",
            "6        3\n",
            "Name: count, dtype: int64\n",
            "2025-09-12 04:32:21, INFO: buslanes:\n",
            "buslanes\n",
            "0    168522\n",
            "1       498\n",
            "Name: count, dtype: int64\n",
            "2025-09-12 04:32:21, INFO: Handling links with duplicate (A,B)\n",
            "2025-09-12 04:32:21, INFO: Removing 16,746 nameless service links\n"
          ]
        }
      ]
    },
    {
      "cell_type": "markdown",
      "source": [
        "## Step 2: Simplify network topology\n",
        "This consolidates intersections while preserving connectivity."
      ],
      "metadata": {
        "id": "CIBYBcvBBemu"
      }
    },
    {
      "cell_type": "code",
      "source": [
        "simplified_g = step2_simplify_network_topology(osm_g, \"San Francisco\", OUTPUT_DIR)\n",
        "print(type(osm_g))"
      ],
      "metadata": {
        "colab": {
          "base_uri": "https://localhost:8080/"
        },
        "id": "EiPxjdz2DlQQ",
        "outputId": "c45199f6-d7b1-4fbf-ed82-88502714f165"
      },
      "execution_count": 16,
      "outputs": [
        {
          "output_type": "stream",
          "name": "stdout",
          "text": [
            "2025-09-12 04:33:30, INFO: ======= STEP 2: Simplify network topology for San Francisco =======\n",
            "2025-09-12 04:33:41, INFO: Simplifying with tolerance=20 feet...\n",
            "2025-09-12 04:34:53, INFO: Cached simplified graph to /content/output_SF_OSM/2_graph_OSM_SanFrancisco_simplified20.pkl\n",
            "2025-09-12 04:34:54, INFO: Simplified graph has 91,669 edges and 25,662 nodes\n",
            "<class 'networkx.classes.multidigraph.MultiDiGraph'>\n"
          ]
        }
      ]
    },
    {
      "cell_type": "markdown",
      "source": [
        "Summarize some of the differences between the original and simplified."
      ],
      "metadata": {
        "id": "s7B6XFbiMm38"
      }
    },
    {
      "cell_type": "code",
      "source": [
        "compare_original_and_simplified_networks(osm_g, simplified_g)\n",
        "# Plot node degree changes original vs simplified\n",
        "plot_node_degree_changes(osm_g, simplified_g)"
      ],
      "metadata": {
        "colab": {
          "base_uri": "https://localhost:8080/",
          "height": 929
        },
        "id": "Aec4NJTiMqLG",
        "outputId": "f8c2dc0d-1e59-4be1-c57f-de3021871792"
      },
      "execution_count": 18,
      "outputs": [
        {
          "output_type": "stream",
          "name": "stdout",
          "text": [
            "=== Network Comparison: Original OSM vs Simplified OSM ===\n",
            "\n",
            "📊 BASIC STATISTICS\n",
            "Nodes: 57,674 → 25,662 (44.5% remaining)\n",
            "Edges: 169,335 → 91,669 (54.1% remaining)\n",
            "Nodes removed: 32,012 (55.5%)\n",
            "Edges removed: 77,666 (45.9%)\n",
            "\n",
            "🔗 CONNECTIVITY ANALYSIS\n",
            "Average degree: 5.87 → 7.14\n",
            "Max degree: 16 → 46\n",
            "\n",
            "Degree 2 nodes (typical street continuation): 6,502 → 4,000\n",
            "Degree 3 nodes (T-intersections): 1,543 → 839\n",
            "Degree 4+ nodes (complex intersections): 49,547 → 20,795\n",
            "\n",
            "📏 EDGE LENGTH ANALYSIS\n",
            "Average edge length: 42.8m → 209.4m\n",
            "Total network length: 7253.1km → 19199.2km\n",
            "Shortest edge: 0.0m → 12.2m\n",
            "Longest edge: 3697.1m → 12131.6m\n"
          ]
        },
        {
          "output_type": "display_data",
          "data": {
            "text/plain": [
              "<Figure size 1200x600 with 1 Axes>"
            ],
            "image/png": "[encoded data removed]"
          },
          "metadata": {}
        }
      ]
    },
    {
      "cell_type": "markdown",
      "source": [
        "# Step 2a: standardize attributes for the roadway network\n",
        "Optionally write it, if output format arguments are specified."
      ],
      "metadata": {
        "id": "4YZATnabD168"
      }
    },
    {
      "cell_type": "code",
      "source": [
        "links_gdf, nodes_gdf = stepa_standardize_attributes(\n",
        "    simplified_g, \"San Francisco\",\n",
        "    prefix=\"2a_simplified\",\n",
        "    output_dir=OUTPUT_DIR,\n",
        "    output_formats=[\"geojson\"]\n",
        "  )\n"
      ],
      "metadata": {
        "colab": {
          "base_uri": "https://localhost:8080/"
        },
        "id": "CHrlxR5NEPtC",
        "outputId": "0042afec-6c2d-473a-8c7d-d176b664c9a7"
      },
      "execution_count": 19,
      "outputs": [
        {
          "output_type": "stream",
          "name": "stdout",
          "text": [
            "2025-09-12 04:35:35, INFO: ======= STEP 2a: Standardize attributes for San Francisco =======\n",
            "2025-09-12 04:35:46, INFO: After converting to gdfs, len(edges_gdf)=91,669 and len(nodes_gdf)=25,662\n",
            "2025-09-12 04:35:46, INFO: links_gdf has 91,354 links after dropping loop links (with u==v)\n",
            "2025-09-12 04:35:52, INFO: Filling 77,569 links with missing lane counts using highway type mapping\n",
            "2025-09-12 04:35:53, INFO: Found 183 links with missing lanes, assuming 1 lane\n",
            "2025-09-12 04:35:53, INFO: After standardize_lanes_value:\n",
            "lanes\n",
            "1    42990\n",
            "0    39849\n",
            "2     4681\n",
            "3     3506\n",
            "4      243\n",
            "5       83\n",
            "6        2\n",
            "Name: count, dtype: int64\n",
            "2025-09-12 04:35:53, INFO: buslanes:\n",
            "buslanes\n",
            "0    91133\n",
            "1      221\n",
            "Name: count, dtype: int64\n",
            "2025-09-12 04:35:53, INFO: Handling links with duplicate (A,B)\n",
            "2025-09-12 04:35:53, INFO: Removing 11,130 nameless service links\n",
            "2025-09-12 04:36:01, INFO: Wrote /content/output_SF_OSM/2a_simplifiedSanFrancisco_links.geojson\n",
            "2025-09-12 04:36:02, INFO: Wrote /content/output_SF_OSM/2a_simplifiedSanFrancisco_nodes.geojson\n"
          ]
        }
      ]
    },
    {
      "cell_type": "markdown",
      "source": [
        "## Step 3: Assign county-specific numbering and create [RoadwayNetwork](https://bayareametro.github.io/network_wrangler/main/api/#network_wrangler.roadway.network.RoadwayNetwork) instance.\n",
        "This also drops OSM columns we've translated into standard columns and writes the roadway network"
      ],
      "metadata": {
        "id": "R8hWrEXyErR0"
      }
    },
    {
      "cell_type": "code",
      "source": [
        "roadway_network = step3_assign_county_node_link_numbering(\n",
        "    links_gdf, nodes_gdf,\n",
        "    county=\"San Francisco\",\n",
        "    output_dir=OUTPUT_DIR,\n",
        "    output_formats=[\"geojson\"]\n",
        ")"
      ],
      "metadata": {
        "colab": {
          "base_uri": "https://localhost:8080/"
        },
        "id": "S2yHmYTLE3gn",
        "outputId": "faecd577-5a6a-4382-a137-2453c7d0cf03"
      },
      "execution_count": 20,
      "outputs": [
        {
          "output_type": "stream",
          "name": "stdout",
          "text": [
            "2025-09-12 04:36:02, INFO: ======= STEP 3: Create roadway network with county numbering for San Francisco =======\n",
            "2025-09-12 04:36:15, INFO: Saved roadway network in geojson format\n",
            "2025-09-12 04:36:15, INFO: Created roadway network with 64637 links and 25662 nodes\n"
          ]
        }
      ]
    },
    {
      "cell_type": "markdown",
      "source": [
        "## Step 4: Add centroids and centroid connectors\n",
        "This modifies the roadway_network in place."
      ],
      "metadata": {
        "id": "IkWW6HaGFFrp"
      }
    },
    {
      "cell_type": "code",
      "source": [
        "step4_add_centroids_and_connectors(\n",
        "    roadway_network,\n",
        "    county=\"San Francisco\",\n",
        "    output_dir=OUTPUT_DIR,\n",
        "    output_formats=[\"geojson\"]\n",
        ")"
      ],
      "metadata": {
        "colab": {
          "base_uri": "https://localhost:8080/"
        },
        "id": "vEOySIumFKa1",
        "outputId": "5c599b7b-c69b-4e60-df52-640b1b9f64a6"
      },
      "execution_count": 21,
      "outputs": [
        {
          "output_type": "stream",
          "name": "stdout",
          "text": [
            "2025-09-12 04:36:15, INFO: ======= STEP 4: Create centroids and centroid connectors for San Francisco =======\n",
            "2025-09-12 04:36:15, INFO: Looking for MTC zones files in /content/output_SF_OSM/mtc_zones\n",
            "2025-09-12 04:36:16, INFO: Succeeded downloading /content/output_SF_OSM/mtc_zones/mazs_tazs_county_2.5.csv\n",
            "2025-09-12 04:36:20, INFO: Succeeded downloading /content/output_SF_OSM/mtc_zones/mazs_TM2_2_5.shp\n",
            "2025-09-12 04:36:20, INFO: Read MAZ shapefile from /content/output_SF_OSM/mtc_zones/mazs_TM2_2_5.shp\n",
            "2025-09-12 04:36:23, INFO: Succeeded downloading /content/output_SF_OSM/mtc_zones/tazs_TM2_2_5.shp\n",
            "2025-09-12 04:36:24, INFO: Read TAZ shapefile from /content/output_SF_OSM/mtc_zones/tazs_TM2_2_5.shp\n",
            "2025-09-12 04:36:24, INFO: Filtered MAZ to San Francisco: 4,153 rows\n",
            "2025-09-12 04:36:24, INFO: Filtered TAZ to San Francisco: 635 rows\n",
            "2025-09-12 04:36:24, INFO: Added node centroids for TAZ: increased size of nodes_df from 25,662 to 26,297\n",
            "2025-09-12 04:36:24, INFO: Adding centroid connectors for zone:TAZ and mode:drive\n",
            "2025-09-12 04:36:41, INFO: Selected 2,536 centroid connectors for 635 TAZs\n",
            "2025-09-12 04:36:43, INFO: Added centroid connectors to roadway network\n",
            "2025-09-12 04:36:43, INFO: num_connectors added per TAZ (target:4):\n",
            "num_connectors\n",
            "4    634\n",
            "0      1\n",
            "Name: count, dtype: int64\n",
            "2025-09-12 04:36:45, INFO: Added node centroids for MAZ: increased size of nodes_df from 26,297 to 30,450\n",
            "2025-09-12 04:36:45, INFO: Adding centroid connectors for zone:MAZ and mode:walk\n",
            "2025-09-12 04:37:19, INFO: Selected 8,294 centroid connectors for 4,153 MAZs\n",
            "2025-09-12 04:37:21, INFO: Added centroid connectors to roadway network\n",
            "2025-09-12 04:37:21, INFO: num_connectors added per MAZ (target:2):\n",
            "num_connectors\n",
            "2    4144\n",
            "1       6\n",
            "0       3\n",
            "Name: count, dtype: int64\n",
            "2025-09-12 04:37:22, ERROR: Error writing roadway network in geojson: One of the arguments is of incorrect type. Please provide only Geometry objects.\n"
          ]
        }
      ]
    },
    {
      "cell_type": "markdown",
      "source": [
        "## Step 5: Prepare GTFS transit data\n",
        "Read and filter to service date, relevant operators. Creates [GtfsModel](https://bayareametro.github.io/network_wrangler/main/api_transit/#network_wrangler.models.gtfs.gtfs.GtfsModel) instance.\n"
      ],
      "metadata": {
        "id": "_nZEqCXeFpq7"
      }
    },
    {
      "cell_type": "code",
      "source": [
        "gtfs_model = step5_prepare_gtfs_transit_data(\n",
        "    county=\"San Francisco\",\n",
        "    input_gtfs=pathlib.Path(\"/content/BayArea_511gtfs_2023-09\"),\n",
        "    output_dir=OUTPUT_DIR\n",
        ")"
      ],
      "metadata": {
        "colab": {
          "base_uri": "https://localhost:8080/"
        },
        "id": "CZTnprn4GjwL",
        "outputId": "0b92949b-9aec-42b0-93e2-acf0e8416969"
      },
      "execution_count": 22,
      "outputs": [
        {
          "output_type": "stream",
          "name": "stdout",
          "text": [
            "2025-09-12 04:37:22, INFO: ======= STEP 5: Preparing GTFS transit data for San Francisco =======\n",
            "2025-09-12 04:37:22, INFO: Loading GTFS feed for September 27, 2023...\n",
            "2025-09-12 04:37:25, INFO: Reading GTFS feed tables from /content/BayArea_511gtfs_2023-09\n",
            "2025-09-12 04:37:59, INFO: Initializing agency\n",
            "2025-09-12 04:37:59, INFO: Initializing routes\n",
            "2025-09-12 04:37:59, INFO: Initializing shapes\n",
            "2025-09-12 04:38:01, INFO: Initializing stops\n",
            "2025-09-12 04:38:01, INFO: Initializing trips\n",
            "2025-09-12 04:38:02, INFO: Initializing stop_times\n",
            "2025-09-12 04:41:19, INFO: Filtering feed to 29,509 service_ids\n",
            "2025-09-12 04:41:23, INFO: Filtered trips from 320,483 to 29,509\n",
            "2025-09-12 04:41:30, INFO: Preserving 160 parent stations referenced by kept stops\n",
            "2025-09-12 04:41:30, INFO: All stop_times entries have valid stop_ids after filtering\n",
            "2025-09-12 04:41:31, INFO: Initializing agency\n",
            "2025-09-12 04:41:31, INFO: Initializing routes\n",
            "2025-09-12 04:41:31, INFO: Initializing shapes\n",
            "2025-09-12 04:41:31, INFO: Initializing stops\n",
            "2025-09-12 04:41:32, INFO: Initializing trips\n",
            "2025-09-12 04:41:32, INFO: Initializing stop_times\n",
            "2025-09-12 04:41:37, INFO: Keeping agencies for San Francisco: ['SF', 'BA', 'CT']\n",
            "2025-09-12 04:41:37, INFO: Removing transit data for agency/agencies: ['UC']\n",
            "2025-09-12 04:41:37, INFO: Removed: 5 routes, 312 trips, 8,193 stop_times, 157 stops\n",
            "2025-09-12 04:41:37, INFO: Remaining: 631 routes, 29,197 trips, 19,818 stops\n",
            "2025-09-12 04:41:43, INFO: Removed 1 agencies\n",
            "2025-09-12 04:41:43, INFO: Removed 1,752 shape points\n",
            "2025-09-12 04:41:44, INFO: Removing transit data for agency/agencies: ['SI']\n",
            "2025-09-12 04:41:44, INFO: Removed: 4 routes, 1,049 trips, 11,498 stop_times, 26 stops\n",
            "2025-09-12 04:41:44, INFO: Remaining: 627 routes, 28,148 trips, 19,792 stops\n",
            "2025-09-12 04:41:49, INFO: Removed 1 agencies\n",
            "2025-09-12 04:41:49, INFO: Removed 5,646 shape points\n",
            "2025-09-12 04:41:49, INFO: Removing transit data for agency/agencies: ['EM']\n",
            "2025-09-12 04:41:50, INFO: Removed: 2 routes, 133 trips, 2,860 stop_times, 41 stops\n",
            "2025-09-12 04:41:50, INFO: Remaining: 625 routes, 28,015 trips, 19,751 stops\n",
            "2025-09-12 04:41:56, INFO: Removed 1 agencies\n",
            "2025-09-12 04:41:56, INFO: Removed 1,042 shape points\n",
            "2025-09-12 04:41:57, INFO: Removing transit data for agency/agencies: ['PE']\n",
            "2025-09-12 04:41:57, INFO: Removed: 10 routes, 230 trips, 3,139 stop_times, 150 stops\n",
            "2025-09-12 04:41:57, INFO: Remaining: 615 routes, 27,785 trips, 19,601 stops\n",
            "2025-09-12 04:42:01, INFO: Removed 1 agencies\n",
            "2025-09-12 04:42:02, INFO: Removed 1,908 shape points\n",
            "2025-09-12 04:42:02, INFO: Removing transit data for agency/agencies: ['MV']\n",
            "2025-09-12 04:42:02, INFO: Removed: 8 routes, 79 trips, 718 stop_times, 34 stops\n",
            "2025-09-12 04:42:02, INFO: Remaining: 607 routes, 27,706 trips, 19,567 stops\n",
            "2025-09-12 04:42:09, INFO: Removed 1 agencies\n",
            "2025-09-12 04:42:09, INFO: Removed 4,954 shape points\n",
            "2025-09-12 04:42:10, INFO: Removing transit data for agency/agencies: ['RV']\n",
            "2025-09-12 04:42:10, INFO: Removed: 1 routes, 8 trips, 198 stop_times, 63 stops\n",
            "2025-09-12 04:42:10, INFO: Remaining: 606 routes, 27,698 trips, 19,504 stops\n",
            "2025-09-12 04:42:15, INFO: Removed 1 agencies\n",
            "2025-09-12 04:42:15, INFO: Removed 1,811 shape points\n",
            "2025-09-12 04:42:16, INFO: Removing transit data for agency/agencies: ['TF']\n",
            "2025-09-12 04:42:16, INFO: Removed: 1 routes, 28 trips, 56 stop_times, 2 stops\n",
            "2025-09-12 04:42:16, INFO: Remaining: 605 routes, 27,670 trips, 19,502 stops\n",
            "2025-09-12 04:42:22, INFO: Removed 1 agencies\n",
            "2025-09-12 04:42:22, INFO: Removed 4 shape points\n",
            "2025-09-12 04:42:23, INFO: Removing transit data for agency/agencies: ['DE']\n",
            "2025-09-12 04:42:24, INFO: Removed: 2 routes, 89 trips, 2,250 stop_times, 65 stops\n",
            "2025-09-12 04:42:24, INFO: Remaining: 603 routes, 27,581 trips, 19,437 stops\n",
            "2025-09-12 04:42:28, INFO: Removed 1 agencies\n",
            "2025-09-12 04:42:28, INFO: Removed 5,421 shape points\n",
            "2025-09-12 04:42:29, INFO: Removing transit data for agency/agencies: ['AC']\n",
            "2025-09-12 04:42:29, INFO: Removed: 132 routes, 5,440 trips, 233,851 stop_times, 4,745 stops\n",
            "2025-09-12 04:42:29, INFO: Remaining: 471 routes, 22,141 trips, 14,692 stops\n",
            "2025-09-12 04:42:33, INFO: Removed 1 agencies\n",
            "2025-09-12 04:42:33, INFO: Removed 319,644 shape points\n",
            "2025-09-12 04:42:34, INFO: Removing transit data for agency/agencies: ['SO']\n",
            "2025-09-12 04:42:34, INFO: Removed: 23 routes, 264 trips, 12,570 stop_times, 980 stops\n",
            "2025-09-12 04:42:34, INFO: Remaining: 448 routes, 21,877 trips, 13,712 stops\n",
            "2025-09-12 04:42:39, INFO: Removed 1 agencies\n",
            "2025-09-12 04:42:39, INFO: Removed 30,138 shape points\n",
            "2025-09-12 04:42:40, INFO: Removing transit data for agency/agencies: ['AM']\n",
            "2025-09-12 04:42:40, INFO: Removed: 3 routes, 57 trips, 378 stop_times, 21 stops\n",
            "2025-09-12 04:42:40, INFO: Remaining: 445 routes, 21,820 trips, 13,691 stops\n",
            "2025-09-12 04:42:44, WARNING: Following keys referenced in parent_station but missing in primary key stop_id table:\n",
            "72    mtc:great-america\n",
            "Name: parent_station, dtype: object\n",
            "2025-09-12 04:42:44, ERROR: Following values missing from stops.stop_id that are referenced by ['mtc:great-america']:\n",
            "      stop_id                       stop_name   stop_lat    stop_lon  \\\n",
            "0        POWL                   Powell Street  37.784862 -122.406857   \n",
            "1       16995   Metro Powell Station/Outbound  37.784553 -122.407526   \n",
            "2       15417   Metro Powell Station/Downtown  37.784462 -122.407396   \n",
            "3        FTVL                       Fruitvale  37.774841 -122.224081   \n",
            "4       70011  San Francisco Caltrain Station  37.776390 -122.394992   \n",
            "...       ...                             ...        ...         ...   \n",
            "13707    7111       SMART Santa Rosa Downtown  38.437575 -122.721760   \n",
            "13708    7112          SMART Santa Rosa North  38.455228 -122.736454   \n",
            "13709    7113     SMART Sonoma County Airport  38.509820 -122.784080   \n",
            "13710     578           Sereno Transit Center  38.127967 -122.253426   \n",
            "13711     579          Vallejo Transit Center  38.100219 -122.259190   \n",
            "\n",
            "        zone_id location_type           parent_station  \\\n",
            "0      BA:72035             0               mtc:powell   \n",
            "1          None             0               mtc:powell   \n",
            "2          None             0               mtc:powell   \n",
            "3      BA:72007             0            mtc:fruitvale   \n",
            "4      CT:71825             0  mtc:caltrain-4th-&-king   \n",
            "...         ...           ...                      ...   \n",
            "13707  SA:71817             1                     None   \n",
            "13708  SA:71817             1                     None   \n",
            "13709  SA:71818             1                     None   \n",
            "13710  ST:71688             1                     None   \n",
            "13711  ST:71688             1                     None   \n",
            "\n",
            "                             level_id  \n",
            "0            mtc:powell-bart-platform  \n",
            "1            mtc:powell-muni-platform  \n",
            "2            mtc:powell-muni-platform  \n",
            "3            mtc:fruitvale-bart-level  \n",
            "4      mtc:caltrain-4th-&-king-street  \n",
            "...                               ...  \n",
            "13707                            None  \n",
            "13708                            None  \n",
            "13709                            None  \n",
            "13710                            None  \n",
            "13711                            None  \n",
            "\n",
            "[13712 rows x 8 columns]\n",
            "2025-09-12 04:42:44, INFO: Removed 1 agencies\n",
            "2025-09-12 04:42:44, INFO: Removed 5,193 shape points\n",
            "2025-09-12 04:42:45, INFO: Removing transit data for agency/agencies: ['VC']\n",
            "2025-09-12 04:42:45, INFO: Removed: 5 routes, 132 trips, 3,506 stop_times, 189 stops\n",
            "2025-09-12 04:42:45, INFO: Remaining: 440 routes, 21,688 trips, 13,502 stops\n",
            "2025-09-12 04:42:53, INFO: Removed 1 agencies\n",
            "2025-09-12 04:42:53, INFO: Removed 3,084 shape points\n",
            "2025-09-12 04:42:54, INFO: Removing transit data for agency/agencies: ['AF']\n",
            "2025-09-12 04:42:54, INFO: Removed: 1 routes, 8 trips, 16 stop_times, 2 stops\n",
            "2025-09-12 04:42:54, INFO: Remaining: 439 routes, 21,680 trips, 13,500 stops\n",
            "2025-09-12 04:42:57, INFO: Removed 1 agencies\n",
            "2025-09-12 04:42:57, INFO: Removed 4 shape points\n",
            "2025-09-12 04:42:58, INFO: Removing transit data for agency/agencies: ['WH']\n",
            "2025-09-12 04:42:58, INFO: Removed: 27 routes, 458 trips, 12,603 stop_times, 570 stops\n",
            "2025-09-12 04:42:58, INFO: Remaining: 412 routes, 21,222 trips, 12,930 stops\n",
            "2025-09-12 04:43:01, INFO: Removed 1 agencies\n",
            "2025-09-12 04:43:01, INFO: Removed 36,647 shape points\n",
            "2025-09-12 04:43:02, INFO: Removing transit data for agency/agencies: ['SM']\n",
            "2025-09-12 04:43:02, INFO: Removed: 72 routes, 1,482 trips, 61,202 stop_times, 1,890 stops\n",
            "2025-09-12 04:43:02, INFO: Remaining: 340 routes, 19,740 trips, 11,040 stops\n",
            "2025-09-12 04:43:06, INFO: Removed 1 agencies\n",
            "2025-09-12 04:43:06, INFO: Removed 77,702 shape points\n",
            "2025-09-12 04:43:07, INFO: Removing transit data for agency/agencies: ['GG']\n",
            "2025-09-12 04:43:07, INFO: Removed: 10 routes, 206 trips, 6,435 stop_times, 151 stops\n",
            "2025-09-12 04:43:07, INFO: Remaining: 330 routes, 19,534 trips, 10,889 stops\n",
            "2025-09-12 04:43:11, INFO: Removed 1 agencies\n",
            "2025-09-12 04:43:11, INFO: Removed 39,199 shape points\n",
            "2025-09-12 04:43:11, INFO: Removing transit data for agency/agencies: ['FS']\n",
            "2025-09-12 04:43:12, INFO: Removed: 5 routes, 183 trips, 2,902 stop_times, 124 stops\n",
            "2025-09-12 04:43:12, INFO: Remaining: 325 routes, 19,351 trips, 10,765 stops\n",
            "2025-09-12 04:43:15, INFO: Removed 1 agencies\n",
            "2025-09-12 04:43:15, INFO: Removed 3,219 shape points\n",
            "2025-09-12 04:43:15, INFO: Removing transit data for agency/agencies: ['GF']\n",
            "2025-09-12 04:43:15, INFO: Removed: 4 routes, 64 trips, 128 stop_times, 7 stops\n",
            "2025-09-12 04:43:15, INFO: Remaining: 321 routes, 19,287 trips, 10,758 stops\n",
            "2025-09-12 04:43:18, WARNING: Following keys referenced in parent_station but missing in primary key stop_id table:\n",
            "7      mtc:san-francisco-ferry-terminal\n",
            "118    mtc:san-francisco-ferry-terminal\n",
            "Name: parent_station, dtype: object\n",
            "2025-09-12 04:43:18, ERROR: Following values missing from stops.stop_id that are referenced by ['mtc:san-francisco-ferry-terminal', 'mtc:san-francisco-ferry-terminal']:\n",
            "      stop_id                       stop_name   stop_lat    stop_lon  \\\n",
            "0        POWL                   Powell Street  37.784862 -122.406857   \n",
            "1       16995   Metro Powell Station/Outbound  37.784553 -122.407526   \n",
            "2       15417   Metro Powell Station/Downtown  37.784462 -122.407396   \n",
            "3        FTVL                       Fruitvale  37.774841 -122.224081   \n",
            "4       70011  San Francisco Caltrain Station  37.776390 -122.394992   \n",
            "...       ...                             ...        ...         ...   \n",
            "10760    7111       SMART Santa Rosa Downtown  38.437575 -122.721760   \n",
            "10761    7112          SMART Santa Rosa North  38.455228 -122.736454   \n",
            "10762    7113     SMART Sonoma County Airport  38.509820 -122.784080   \n",
            "10763     578           Sereno Transit Center  38.127967 -122.253426   \n",
            "10764     579          Vallejo Transit Center  38.100219 -122.259190   \n",
            "\n",
            "        zone_id location_type           parent_station  \\\n",
            "0      BA:72035             0               mtc:powell   \n",
            "1          None             0               mtc:powell   \n",
            "2          None             0               mtc:powell   \n",
            "3      BA:72007             0            mtc:fruitvale   \n",
            "4      CT:71825             0  mtc:caltrain-4th-&-king   \n",
            "...         ...           ...                      ...   \n",
            "10760  SA:71817             1                     None   \n",
            "10761  SA:71817             1                     None   \n",
            "10762  SA:71818             1                     None   \n",
            "10763  ST:71688             1                     None   \n",
            "10764  ST:71688             1                     None   \n",
            "\n",
            "                             level_id  \n",
            "0            mtc:powell-bart-platform  \n",
            "1            mtc:powell-muni-platform  \n",
            "2            mtc:powell-muni-platform  \n",
            "3            mtc:fruitvale-bart-level  \n",
            "4      mtc:caltrain-4th-&-king-street  \n",
            "...                               ...  \n",
            "10760                            None  \n",
            "10761                            None  \n",
            "10762                            None  \n",
            "10763                            None  \n",
            "10764                            None  \n",
            "\n",
            "[10765 rows x 8 columns]\n",
            "2025-09-12 04:43:18, INFO: Removed 1 agencies\n",
            "2025-09-12 04:43:18, INFO: Removed 1,300 shape points\n",
            "2025-09-12 04:43:19, INFO: Removing transit data for agency/agencies: ['ST']\n",
            "2025-09-12 04:43:19, INFO: Removed: 17 routes, 409 trips, 6,852 stop_times, 363 stops\n",
            "2025-09-12 04:43:19, INFO: Remaining: 304 routes, 18,878 trips, 10,395 stops\n",
            "2025-09-12 04:43:24, WARNING: Following keys referenced in parent_station but missing in primary key stop_id table:\n",
            "8323    578\n",
            "8324    578\n",
            "8325    578\n",
            "8414    579\n",
            "Name: parent_station, dtype: object\n",
            "2025-09-12 04:43:24, ERROR: Following values missing from stops.stop_id that are referenced by ['578', '578', '578', '579']:\n",
            "      stop_id                       stop_name   stop_lat    stop_lon  \\\n",
            "0        POWL                   Powell Street  37.784862 -122.406857   \n",
            "1       16995   Metro Powell Station/Outbound  37.784553 -122.407526   \n",
            "2       15417   Metro Powell Station/Downtown  37.784462 -122.407396   \n",
            "3        FTVL                       Fruitvale  37.774841 -122.224081   \n",
            "4       70011  San Francisco Caltrain Station  37.776390 -122.394992   \n",
            "...       ...                             ...        ...         ...   \n",
            "10753    7111       SMART Santa Rosa Downtown  38.437575 -122.721760   \n",
            "10754    7112          SMART Santa Rosa North  38.455228 -122.736454   \n",
            "10755    7113     SMART Sonoma County Airport  38.509820 -122.784080   \n",
            "10756     578           Sereno Transit Center  38.127967 -122.253426   \n",
            "10757     579          Vallejo Transit Center  38.100219 -122.259190   \n",
            "\n",
            "        zone_id location_type           parent_station  \\\n",
            "0      BA:72035             0               mtc:powell   \n",
            "1          None             0               mtc:powell   \n",
            "2          None             0               mtc:powell   \n",
            "3      BA:72007             0            mtc:fruitvale   \n",
            "4      CT:71825             0  mtc:caltrain-4th-&-king   \n",
            "...         ...           ...                      ...   \n",
            "10753  SA:71817             1                     None   \n",
            "10754  SA:71817             1                     None   \n",
            "10755  SA:71818             1                     None   \n",
            "10756  ST:71688             1                     None   \n",
            "10757  ST:71688             1                     None   \n",
            "\n",
            "                             level_id  \n",
            "0            mtc:powell-bart-platform  \n",
            "1            mtc:powell-muni-platform  \n",
            "2            mtc:powell-muni-platform  \n",
            "3            mtc:fruitvale-bart-level  \n",
            "4      mtc:caltrain-4th-&-king-street  \n",
            "...                               ...  \n",
            "10753                            None  \n",
            "10754                            None  \n",
            "10755                            None  \n",
            "10756                            None  \n",
            "10757                            None  \n",
            "\n",
            "[10758 rows x 8 columns]\n",
            "2025-09-12 04:43:24, INFO: Removed 1 agencies\n",
            "2025-09-12 04:43:24, INFO: Removed 39,491 shape points\n",
            "2025-09-12 04:43:24, INFO: Removing transit data for agency/agencies: ['3D']\n",
            "2025-09-12 04:43:24, INFO: Removed: 16 routes, 419 trips, 17,764 stop_times, 603 stops\n",
            "2025-09-12 04:43:24, INFO: Remaining: 288 routes, 18,459 trips, 9,792 stops\n",
            "2025-09-12 04:43:27, INFO: Removed 1 agencies\n",
            "2025-09-12 04:43:27, INFO: Removed 20,056 shape points\n",
            "2025-09-12 04:43:28, INFO: Removing transit data for agency/agencies: ['CE']\n",
            "2025-09-12 04:43:28, INFO: Removed: 1 routes, 8 trips, 80 stop_times, 10 stops\n",
            "2025-09-12 04:43:28, INFO: Remaining: 287 routes, 18,451 trips, 9,782 stops\n",
            "2025-09-12 04:43:31, INFO: Removed 1 agencies\n",
            "2025-09-12 04:43:31, INFO: Removed 1,038 shape points\n",
            "2025-09-12 04:43:31, INFO: Removing transit data for agency/agencies: ['VN']\n",
            "2025-09-12 04:43:31, INFO: Removed: 11 routes, 250 trips, 5,887 stop_times, 239 stops\n",
            "2025-09-12 04:43:31, INFO: Remaining: 276 routes, 18,201 trips, 9,543 stops\n",
            "2025-09-12 04:43:35, INFO: Removed 1 agencies\n",
            "2025-09-12 04:43:35, INFO: Removed 16,338 shape points\n",
            "2025-09-12 04:43:36, INFO: Removing transit data for agency/agencies: ['SR']\n",
            "2025-09-12 04:43:36, INFO: Removed: 14 routes, 585 trips, 10,717 stop_times, 385 stops\n",
            "2025-09-12 04:43:36, INFO: Remaining: 262 routes, 17,616 trips, 9,158 stops\n",
            "2025-09-12 04:43:39, INFO: Removed 1 agencies\n",
            "2025-09-12 04:43:39, INFO: Removed 2,338 shape points\n",
            "2025-09-12 04:43:40, INFO: Removing transit data for agency/agencies: ['SC']\n",
            "2025-09-12 04:43:40, INFO: Removed: 69 routes, 3,818 trips, 166,572 stop_times, 3,379 stops\n",
            "2025-09-12 04:43:40, INFO: Remaining: 193 routes, 13,798 trips, 5,779 stops\n",
            "2025-09-12 04:43:42, WARNING: Following keys referenced in parent_station but missing in primary key stop_id table:\n",
            "3875    PS_ALDR\n",
            "3876    PS_ALDR\n",
            "3942    PS_ALUM\n",
            "3943    PS_ALUM\n",
            "3944    PS_ARTC\n",
            "         ...   \n",
            "6800    PS_WHIS\n",
            "6930    PS_WINC\n",
            "6931    PS_WINC\n",
            "6932    PS_WITC\n",
            "6933    PS_WITC\n",
            "Name: parent_station, Length: 154, dtype: object\n",
            "2025-09-12 04:43:42, ERROR: Following values missing from stops.stop_id that are referenced by ['PS_ALDR', 'PS_ALDR', 'PS_ALUM', 'PS_ALUM', 'PS_ARTC', 'PS_ARTC', 'PS_ARTC', 'PS_ARTC', 'PS_BASC', 'PS_BASC', 'PS_BAYP', 'PS_BAYP', 'PS_BAYP', 'PS_BAYP', 'PS_NASA', 'PS_NASA', 'PS_BERR', 'PS_BERR', 'PS_BERR', 'PS_BERR', 'PS_BERR', 'PS_BERR', 'PS_BERR', 'PS_BERR', 'PS_BRRS', 'PS_BRRS', 'PS_BLSM', 'PS_BLSM', 'PS_BONA', 'PS_BONA', 'PS_BORR', 'PS_BORR', 'PS_BRNM', 'PS_BRNM', 'PS_CMBL', 'PS_CMBL', 'PS_CPTL', 'PS_CPTL', 'PS_CALR', 'PS_CHMP', 'PS_CHMP', 'PS_CDMS', 'PS_CDMS', 'PS_CISC', 'PS_CISC', 'PS_CIVC', 'PS_CIVC', 'PS_COMP', 'PS_COMP', 'PS_CONV', 'PS_CONV', 'PS_CTTL', 'PS_CTTL', 'PS_CROP', 'PS_CROP', 'PS_CRSS', 'PS_CRSS', 'PS_CURT', 'PS_CURT', 'PS_CULR', 'PS_CULR', 'PS_ERTC', 'PS_ERTC', 'PS_ERTC', 'PS_ERTC', 'PS_ERTC', 'PS_ERTC', 'PS_ERTC', 'PS_ERTC', 'PS_ERTC', 'PS_FAIR', 'PS_FAIR', 'PS_FRTD', 'PS_FRTD', 'PS_GILR', 'PS_GILR', 'PS_GILR', 'PS_GILR', 'PS_GILR', 'PS_GISH', 'PS_GISH', 'PS_GRAM', 'PS_GRAM', 'PS_GRML', 'PS_GRML', 'PS_HAML', 'PS_HAML', 'PS_HOST', 'PS_HOST', 'PS_JAPN', 'PS_JAPN', 'PS_KRNA', 'PS_KRNA', 'PS_LICK', 'PS_LICK', 'PS_LOCK', 'PS_LOCK', 'PS_LMTC', 'PS_LMTC', 'PS_LMTC', 'PS_MKEE', 'PS_MKEE', 'PS_METR', 'PS_METR', 'PS_MIDD', 'PS_MIDD', 'PS_MOFF', 'PS_MOFF', 'PS_OHLO', 'PS_OHLO', 'PS_OHLN', 'PS_OHLN', 'PS_OLDI', 'PS_OLDI', 'PS_ORCH', 'PS_ORCH', 'PS_PENC', 'PS_PENC', 'PS_RACE', 'PS_RACE', 'PS_REAM', 'PS_REAM', 'PS_ROAK', 'PS_ROAK', 'PS_SFND', 'PS_SFND', 'PS_STLC', 'PS_TRSA', 'PS_STLC', 'PS_TRSA', 'PS_STLC', 'PS_SNLL', 'PS_SNLL', 'PS_SNLS', 'PS_SNLS', 'PS_SNLS', 'PS_TAMN', 'PS_TAMN', 'PS_TASM', 'PS_TASM', 'PS_VIEN', 'PS_VIEN', 'PS_VIRG', 'PS_VIRG', 'PS_WVTC', 'PS_WVTC', 'PS_WVTC', 'PS_WVTC', 'PS_WHIS', 'PS_WHIS', 'PS_WINC', 'PS_WINC', 'PS_WITC', 'PS_WITC']:\n",
            "     stop_id                       stop_name   stop_lat    stop_lon   zone_id  \\\n",
            "0       POWL                   Powell Street  37.784862 -122.406857  BA:72035   \n",
            "1      16995   Metro Powell Station/Outbound  37.784553 -122.407526      None   \n",
            "2      15417   Metro Powell Station/Downtown  37.784462 -122.407396      None   \n",
            "3       FTVL                       Fruitvale  37.774841 -122.224081  BA:72007   \n",
            "4      70011  San Francisco Caltrain Station  37.776390 -122.394992  CT:71825   \n",
            "...      ...                             ...        ...         ...       ...   \n",
            "9153    7107         SMART Petaluma Downtown  38.237251 -122.634827  SA:71814   \n",
            "9154    7110              SMART Rohnert Park  38.347102 -122.701042  SA:71814   \n",
            "9155    7111       SMART Santa Rosa Downtown  38.437575 -122.721760  SA:71817   \n",
            "9156    7112          SMART Santa Rosa North  38.455228 -122.736454  SA:71817   \n",
            "9157    7113     SMART Sonoma County Airport  38.509820 -122.784080  SA:71818   \n",
            "\n",
            "     location_type           parent_station                        level_id  \n",
            "0                0               mtc:powell        mtc:powell-bart-platform  \n",
            "1                0               mtc:powell        mtc:powell-muni-platform  \n",
            "2                0               mtc:powell        mtc:powell-muni-platform  \n",
            "3                0            mtc:fruitvale        mtc:fruitvale-bart-level  \n",
            "4                0  mtc:caltrain-4th-&-king  mtc:caltrain-4th-&-king-street  \n",
            "...            ...                      ...                             ...  \n",
            "9153             1                     None                            None  \n",
            "9154             1                     None                            None  \n",
            "9155             1                     None                            None  \n",
            "9156             1                     None                            None  \n",
            "9157             1                     None                            None  \n",
            "\n",
            "[9158 rows x 8 columns]\n",
            "2025-09-12 04:43:42, INFO: Removed 1 agencies\n",
            "2025-09-12 04:43:42, INFO: Removed 119,653 shape points\n",
            "2025-09-12 04:43:42, INFO: Removing transit data for agency/agencies: ['MB']\n",
            "2025-09-12 04:43:42, INFO: Removed: 4 routes, 110 trips, 834 stop_times, 22 stops\n",
            "2025-09-12 04:43:42, INFO: Remaining: 189 routes, 13,688 trips, 5,757 stops\n",
            "2025-09-12 04:43:44, INFO: Removed 1 agencies\n",
            "2025-09-12 04:43:44, INFO: Removed 1,953 shape points\n",
            "2025-09-12 04:43:44, INFO: Removing transit data for agency/agencies: ['CC']\n",
            "2025-09-12 04:43:45, INFO: Removed: 42 routes, 925 trips, 24,454 stop_times, 1,212 stops\n",
            "2025-09-12 04:43:45, INFO: Remaining: 147 routes, 12,763 trips, 4,545 stops\n",
            "2025-09-12 04:43:47, INFO: Removed 1 agencies\n",
            "2025-09-12 04:43:47, INFO: Removed 102,173 shape points\n",
            "2025-09-12 04:43:47, INFO: Removing transit data for agency/agencies: ['SA']\n",
            "2025-09-12 04:43:47, INFO: Removed: 1 routes, 38 trips, 456 stop_times, 36 stops\n",
            "2025-09-12 04:43:47, INFO: Remaining: 146 routes, 12,725 trips, 4,509 stops\n",
            "2025-09-12 04:43:49, WARNING: Following keys referenced in parent_station but missing in primary key stop_id table:\n",
            "57      mtc:san-rafael-transit-center\n",
            "58      mtc:san-rafael-transit-center\n",
            "3722                             7109\n",
            "3723                             7109\n",
            "3724                             7101\n",
            "3725                             7101\n",
            "3726                             7103\n",
            "3727                             7103\n",
            "3728                             7105\n",
            "3729                             7105\n",
            "3730                             7104\n",
            "3731                             7104\n",
            "3732                             7106\n",
            "3733                             7106\n",
            "3734                             7107\n",
            "3735                             7107\n",
            "3736                             7110\n",
            "3737                             7110\n",
            "3738                             7111\n",
            "3739                             7111\n",
            "3740                             7112\n",
            "3741                             7112\n",
            "3742                             7113\n",
            "3743                             7113\n",
            "Name: parent_station, dtype: object\n",
            "2025-09-12 04:43:49, ERROR: Following values missing from stops.stop_id that are referenced by ['mtc:san-rafael-transit-center', 'mtc:san-rafael-transit-center', '7109', '7109', '7101', '7101', '7103', '7103', '7105', '7105', '7104', '7104', '7106', '7106', '7107', '7107', '7110', '7110', '7111', '7111', '7112', '7112', '7113', '7113']:\n",
            "     stop_id                       stop_name   stop_lat    stop_lon   zone_id  \\\n",
            "0       POWL                   Powell Street  37.784862 -122.406857  BA:72035   \n",
            "1      16995   Metro Powell Station/Outbound  37.784553 -122.407526      None   \n",
            "2      15417   Metro Powell Station/Downtown  37.784462 -122.407396      None   \n",
            "3       FTVL                       Fruitvale  37.774841 -122.224081  BA:72007   \n",
            "4      70011  San Francisco Caltrain Station  37.776390 -122.394992  CT:71825   \n",
            "...      ...                             ...        ...         ...       ...   \n",
            "4540    7107         SMART Petaluma Downtown  38.237251 -122.634827  SA:71814   \n",
            "4541    7110              SMART Rohnert Park  38.347102 -122.701042  SA:71814   \n",
            "4542    7111       SMART Santa Rosa Downtown  38.437575 -122.721760  SA:71817   \n",
            "4543    7112          SMART Santa Rosa North  38.455228 -122.736454  SA:71817   \n",
            "4544    7113     SMART Sonoma County Airport  38.509820 -122.784080  SA:71818   \n",
            "\n",
            "     location_type           parent_station                        level_id  \n",
            "0                0               mtc:powell        mtc:powell-bart-platform  \n",
            "1                0               mtc:powell        mtc:powell-muni-platform  \n",
            "2                0               mtc:powell        mtc:powell-muni-platform  \n",
            "3                0            mtc:fruitvale        mtc:fruitvale-bart-level  \n",
            "4                0  mtc:caltrain-4th-&-king  mtc:caltrain-4th-&-king-street  \n",
            "...            ...                      ...                             ...  \n",
            "4540             1                     None                            None  \n",
            "4541             1                     None                            None  \n",
            "4542             1                     None                            None  \n",
            "4543             1                     None                            None  \n",
            "4544             1                     None                            None  \n",
            "\n",
            "[4545 rows x 8 columns]\n",
            "2025-09-12 04:43:49, INFO: Removed 1 agencies\n",
            "2025-09-12 04:43:49, INFO: Removed 1,910 shape points\n",
            "2025-09-12 04:43:50, INFO: Removing transit data for agency/agencies: ['CM']\n",
            "2025-09-12 04:43:50, INFO: Removed: 23 routes, 321 trips, 3,285 stop_times, 245 stops\n",
            "2025-09-12 04:43:50, INFO: Remaining: 123 routes, 12,404 trips, 4,264 stops\n",
            "2025-09-12 04:43:53, INFO: Removed 1 agencies\n",
            "2025-09-12 04:43:53, INFO: Removed 17,774 shape points\n",
            "2025-09-12 04:43:53, INFO: Removing transit data for agency/agencies: ['WC']\n",
            "2025-09-12 04:43:53, INFO: Removed: 11 routes, 602 trips, 7,233 stop_times, 206 stops\n",
            "2025-09-12 04:43:53, INFO: Remaining: 112 routes, 11,802 trips, 4,058 stops\n",
            "2025-09-12 04:43:55, INFO: Removed 1 agencies\n",
            "2025-09-12 04:43:55, INFO: Removed 16,301 shape points\n",
            "2025-09-12 04:43:55, INFO: Removing transit data for agency/agencies: ['MA']\n",
            "2025-09-12 04:43:55, INFO: Removed: 19 routes, 654 trips, 16,530 stop_times, 548 stops\n",
            "2025-09-12 04:43:55, INFO: Remaining: 93 routes, 11,148 trips, 3,510 stops\n",
            "2025-09-12 04:43:57, INFO: Removed 1 agencies\n",
            "2025-09-12 04:43:57, INFO: Removed 59,117 shape points\n",
            "2025-09-12 04:43:57, INFO: Removing transit data for agency/agencies: ['SS']\n",
            "2025-09-12 04:43:57, INFO: Removed: 2 routes, 28 trips, 688 stop_times, 43 stops\n",
            "2025-09-12 04:43:57, INFO: Remaining: 91 routes, 11,120 trips, 3,467 stops\n",
            "2025-09-12 04:43:59, INFO: Removed 1 agencies\n",
            "2025-09-12 04:43:59, INFO: Removed 373 shape points\n",
            "2025-09-12 04:43:59, INFO: Removing transit data for agency/agencies: ['SB']\n",
            "2025-09-12 04:43:59, INFO: Removed: 6 routes, 152 trips, 332 stop_times, 11 stops\n",
            "2025-09-12 04:43:59, INFO: Remaining: 85 routes, 10,968 trips, 3,456 stops\n",
            "2025-09-12 04:44:01, INFO: Removed 1 agencies\n",
            "2025-09-12 04:44:01, INFO: Removed 1,486 shape points\n",
            "HTTP download failed, trying FTP as fallback...\n",
            "Downloading tl_2010_us_county10.zip from Census FTP...\n",
            "Using FIPS code '06' for input 'CA'\n",
            "2025-09-12 04:46:29, INFO: Filtering transit routes by boundary\n",
            "2025-09-12 04:46:30, INFO: Found 3,276 stops within boundary out of 3,456 total stops\n",
            "2025-09-12 04:46:30, INFO: Keeping 81 routes out of 85 total routes\n",
            "2025-09-12 04:46:30, INFO: Removing 4 routes entirely outside boundary\n",
            "2025-09-12 04:46:30, INFO: Truncating 5 routes at boundary\n",
            "2025-09-12 04:46:32, INFO: Truncating route CT:L3 direction 0 before stop 70021\n",
            "2025-09-12 04:46:32, INFO: Truncated 4 trips\n",
            "2025-09-12 04:46:34, WARNING: Following keys referenced in parent_station but missing in primary key stop_id table:\n",
            "11    mtc:oak\n",
            "Name: parent_station, dtype: object\n",
            "2025-09-12 04:46:34, ERROR: Following values missing from stops.stop_id that are referenced by ['mtc:oak']:\n",
            "         stop_id                             stop_name   stop_lat    stop_lon  \\\n",
            "0           POWL                         Powell Street  37.784862 -122.406857   \n",
            "1          16995         Metro Powell Station/Outbound  37.784553 -122.407526   \n",
            "2          15417         Metro Powell Station/Downtown  37.784462 -122.407396   \n",
            "3           FTVL                             Fruitvale  37.774841 -122.224081   \n",
            "4          70011        San Francisco Caltrain Station  37.776390 -122.394992   \n",
            "...          ...                                   ...        ...         ...   \n",
            "3451  san_martin                            San Martin  37.085984 -121.610480   \n",
            "3452   san_mateo                             San Mateo  37.568240 -122.323900   \n",
            "3453    south_sf  South San Francisco Caltrain Station  37.655941 -122.404979   \n",
            "3454   sunnyvale                             Sunnyvale  37.378934 -122.031500   \n",
            "3455      tamien               Tamien Caltrain Station  37.312690 -121.884700   \n",
            "\n",
            "       zone_id location_type           parent_station  \\\n",
            "0     BA:72035             0               mtc:powell   \n",
            "1         None             0               mtc:powell   \n",
            "2         None             0               mtc:powell   \n",
            "3     BA:72007             0            mtc:fruitvale   \n",
            "4     CT:71825             0  mtc:caltrain-4th-&-king   \n",
            "...        ...           ...                      ...   \n",
            "3451  CT:71824             1                     None   \n",
            "3452  CT:71824             1                     None   \n",
            "3453  CT:71824             1                     None   \n",
            "3454  CT:71824             1                     None   \n",
            "3455  CT:71824             1                     None   \n",
            "\n",
            "                            level_id  \n",
            "0           mtc:powell-bart-platform  \n",
            "1           mtc:powell-muni-platform  \n",
            "2           mtc:powell-muni-platform  \n",
            "3           mtc:fruitvale-bart-level  \n",
            "4     mtc:caltrain-4th-&-king-street  \n",
            "...                              ...  \n",
            "3451                            None  \n",
            "3452                            None  \n",
            "3453                            None  \n",
            "3454                            None  \n",
            "3455                            None  \n",
            "\n",
            "[3456 rows x 8 columns]\n",
            "2025-09-12 04:46:34, INFO: Truncating route CT:L3 direction 1 after stop 70012\n",
            "2025-09-12 04:46:35, INFO: Truncated 7 trips\n",
            "2025-09-12 04:46:38, INFO: Truncating route CT:L5 direction 0 before stop 70021\n",
            "2025-09-12 04:46:38, INFO: Truncated 8 trips\n",
            "2025-09-12 04:46:40, INFO: Truncating route CT:L5 direction 1 after stop 70022\n",
            "2025-09-12 04:46:41, INFO: Truncated 9 trips\n",
            "2025-09-12 04:46:45, INFO: Truncating route CT:B7 direction 0 before stop 70011\n",
            "2025-09-12 04:46:45, INFO: Truncated 6 trips\n",
            "2025-09-12 04:46:47, INFO: Truncating route CT:B7 direction 1 after stop 70022\n",
            "2025-09-12 04:46:47, INFO: Truncated 3 trips\n",
            "2025-09-12 04:46:50, INFO: Truncating route CT:L1 direction 0 before stop 70031\n",
            "2025-09-12 04:46:51, INFO: Truncated 23 trips\n",
            "2025-09-12 04:46:55, INFO: Truncating route CT:L1 direction 1 after stop 70032\n",
            "2025-09-12 04:46:56, INFO: Truncated 23 trips\n",
            "2025-09-12 04:46:59, WARNING: Following keys referenced in parent_station but missing in primary key stop_id table:\n",
            "3348    hayward_park\n",
            "Name: parent_station, dtype: object\n",
            "2025-09-12 04:46:59, ERROR: Following values missing from stops.stop_id that are referenced by ['hayward_park']:\n",
            "         stop_id                             stop_name   stop_lat    stop_lon  \\\n",
            "0           POWL                         Powell Street  37.784862 -122.406857   \n",
            "1          16995         Metro Powell Station/Outbound  37.784553 -122.407526   \n",
            "2          15417         Metro Powell Station/Downtown  37.784462 -122.407396   \n",
            "3           FTVL                             Fruitvale  37.774841 -122.224081   \n",
            "4          70011        San Francisco Caltrain Station  37.776390 -122.394992   \n",
            "...          ...                                   ...        ...         ...   \n",
            "3448  san_martin                            San Martin  37.085984 -121.610480   \n",
            "3449   san_mateo                             San Mateo  37.568240 -122.323900   \n",
            "3450    south_sf  South San Francisco Caltrain Station  37.655941 -122.404979   \n",
            "3451   sunnyvale                             Sunnyvale  37.378934 -122.031500   \n",
            "3452      tamien               Tamien Caltrain Station  37.312690 -121.884700   \n",
            "\n",
            "       zone_id location_type           parent_station  \\\n",
            "0     BA:72035             0               mtc:powell   \n",
            "1         None             0               mtc:powell   \n",
            "2         None             0               mtc:powell   \n",
            "3     BA:72007             0            mtc:fruitvale   \n",
            "4     CT:71825             0  mtc:caltrain-4th-&-king   \n",
            "...        ...           ...                      ...   \n",
            "3448  CT:71824             1                     None   \n",
            "3449  CT:71824             1                     None   \n",
            "3450  CT:71824             1                     None   \n",
            "3451  CT:71824             1                     None   \n",
            "3452  CT:71824             1                     None   \n",
            "\n",
            "                            level_id  \n",
            "0           mtc:powell-bart-platform  \n",
            "1           mtc:powell-muni-platform  \n",
            "2           mtc:powell-muni-platform  \n",
            "3           mtc:fruitvale-bart-level  \n",
            "4     mtc:caltrain-4th-&-king-street  \n",
            "...                              ...  \n",
            "3448                            None  \n",
            "3449                            None  \n",
            "3450                            None  \n",
            "3451                            None  \n",
            "3452                            None  \n",
            "\n",
            "[3453 rows x 8 columns]\n",
            "2025-09-12 04:46:59, INFO: Truncating route CT:L4 direction 1 after stop 70022\n",
            "2025-09-12 04:46:59, INFO: Truncated 7 trips\n",
            "2025-09-12 04:47:01, INFO: Truncating route CT:L4 direction 0 before stop 70021\n",
            "2025-09-12 04:47:01, INFO: Truncated 8 trips\n",
            "2025-09-12 04:47:03, WARNING: Following keys referenced in parent_station but missing in primary key stop_id table:\n",
            "36      mtc:santa-clara-caltrain\n",
            "3335                  burlingame\n",
            "3338                college_park\n",
            "3348                   san_bruno\n",
            "3349                  san_carlos\n",
            "3351                   san_mateo\n",
            "Name: parent_station, dtype: object\n",
            "2025-09-12 04:47:03, ERROR: Following values missing from stops.stop_id that are referenced by ['mtc:santa-clara-caltrain', 'burlingame', 'college_park', 'san_bruno', 'san_carlos', 'san_mateo']:\n",
            "         stop_id                             stop_name   stop_lat    stop_lon  \\\n",
            "0           POWL                         Powell Street  37.784862 -122.406857   \n",
            "1          16995         Metro Powell Station/Outbound  37.784553 -122.407526   \n",
            "2          15417         Metro Powell Station/Downtown  37.784462 -122.407396   \n",
            "3           FTVL                             Fruitvale  37.774841 -122.224081   \n",
            "4          70011        San Francisco Caltrain Station  37.776390 -122.394992   \n",
            "...          ...                                   ...        ...         ...   \n",
            "3427  san_martin                            San Martin  37.085984 -121.610480   \n",
            "3428   san_mateo                             San Mateo  37.568240 -122.323900   \n",
            "3429    south_sf  South San Francisco Caltrain Station  37.655941 -122.404979   \n",
            "3430   sunnyvale                             Sunnyvale  37.378934 -122.031500   \n",
            "3431      tamien               Tamien Caltrain Station  37.312690 -121.884700   \n",
            "\n",
            "       zone_id location_type           parent_station  \\\n",
            "0     BA:72035             0               mtc:powell   \n",
            "1         None             0               mtc:powell   \n",
            "2         None             0               mtc:powell   \n",
            "3     BA:72007             0            mtc:fruitvale   \n",
            "4     CT:71825             0  mtc:caltrain-4th-&-king   \n",
            "...        ...           ...                      ...   \n",
            "3427  CT:71824             1                     None   \n",
            "3428  CT:71824             1                     None   \n",
            "3429  CT:71824             1                     None   \n",
            "3430  CT:71824             1                     None   \n",
            "3431  CT:71824             1                     None   \n",
            "\n",
            "                            level_id  \n",
            "0           mtc:powell-bart-platform  \n",
            "1           mtc:powell-muni-platform  \n",
            "2           mtc:powell-muni-platform  \n",
            "3           mtc:fruitvale-bart-level  \n",
            "4     mtc:caltrain-4th-&-king-street  \n",
            "...                              ...  \n",
            "3427                            None  \n",
            "3428                            None  \n",
            "3429                            None  \n",
            "3430                            None  \n",
            "3431                            None  \n",
            "\n",
            "[3432 rows x 8 columns]\n",
            "2025-09-12 04:47:03, INFO: After filtering: 81 routes, 10,488 trips, 3,420 stops\n",
            "2025-09-12 04:47:12, INFO: Wrote 6 GtfsModel tables to /content/output_SF_OSM/5_gtfs_model_SanFrancisco\n",
            "2025-09-12 04:47:12, INFO: Integrated GTFS data: 81 routes, 3420 stops\n"
          ]
        }
      ]
    },
    {
      "cell_type": "markdown",
      "source": [
        "## Step 6: Create TransitNetwork by integrating GtfsModel with RoadwayNetwork\n",
        "This updates the tables in the [GtfsModel](https://bayareametro.github.io/network_wrangler/main/api_transit/#network_wrangler.models.gtfs.gtfs.GtfsModel) instance so they're wrangler-flavored, where nodes refer to the [RoadwayNetwork](https://bayareametro.github.io/network_wrangler/main/api/#network_wrangler.roadway.network.RoadwayNetwork)  instance. For bus routes, this means \"snapping\" stops to existing nodes; for other types of transit, this means creating nodes and links in the roadway network that transit-specific. With this done, a Wrangler-flavored [Feed](https://bayareametro.github.io/network_wrangler/main/api_transit/#network_wrangler.transit.feed.feed.Feed) instance can be created and incorporated into a [TransitNetwork](https://bayareametro.github.io/network_wrangler/main/api/#network_wrangler.transit.network.TransitNetwork) instance.\n"
      ],
      "metadata": {
        "id": "-IsJj66rG44j"
      }
    },
    {
      "cell_type": "code",
      "source": [
        "transit_network = step6_create_transit_network(\n",
        "    gtfs_model,\n",
        "    roadway_network,\n",
        "    county=\"San Francisco\",\n",
        "    output_dir=OUTPUT_DIR,\n",
        "    output_formats=[\"geojson\"]\n",
        ")"
      ],
      "metadata": {
        "colab": {
          "base_uri": "https://localhost:8080/"
        },
        "id": "Qwrryb_0H945",
        "outputId": "6e7513c5-1327-4b02-96df-4223106425b8"
      },
      "execution_count": 23,
      "outputs": [
        {
          "output_type": "stream",
          "name": "stdout",
          "text": [
            "2025-09-12 04:47:12, INFO: ======= STEP 6: Creating Wrangler-flavored GTFS Feed for San Francisco =======\n",
            "2025-09-12 04:47:16, INFO: Creating frequencies table from feed stop_times data\n",
            "2025-09-12 04:47:16, INFO: There are 315 unique shape_ids.\n",
            "2025-09-12 04:47:16, INFO: These will serve as our new trip_ids.\n",
            "2025-09-12 04:47:21, INFO: Matching stops to shape points using vectorized approach\n",
            "2025-09-12 04:47:21, INFO: Finding stops for 315 unique shape_ids\n",
            "2025-09-12 04:48:15, INFO: Finished adding stop information to shapes\n",
            "2025-09-12 04:48:15, INFO: Matching 3,005 bus stops to roadway nodes\n",
            "2025-09-12 04:48:18, INFO: Found 3,005 valid matches out of 3,005 total bus stops\n",
            "2025-09-12 04:48:19, INFO: Adding transit stations and station-based links to the roadway network\n",
            "2025-09-12 04:48:22, INFO: Adding 415 nodes to roadway network\n",
            "2025-09-12 04:48:24, INFO: Adding 500 links to roadway network\n",
            "2025-09-12 04:48:25, INFO: Adding 500 shapes to roadway network\n",
            "2025-09-12 04:48:25, INFO: Creating bus routes between bus stops\n",
            "2025-09-12 04:48:31, INFO: All bus route shapes mapped to roadway nodes\n",
            "2025-09-12 04:48:31, INFO: Initializing frequencies\n",
            "2025-09-12 04:48:32, INFO: Initializing routes\n",
            "2025-09-12 04:48:32, INFO: Initializing shapes\n",
            "2025-09-12 04:48:32, INFO: Initializing stops\n",
            "2025-09-12 04:48:32, INFO: Initializing trips\n",
            "2025-09-12 04:48:32, INFO: Initializing stop_times\n",
            "2025-09-12 04:48:32, INFO: Initializing agencies\n",
            "2025-09-12 04:48:32, INFO: Successfully created Feed with 7 tables\n",
            "2025-09-12 04:48:32, INFO: Created transit Feed object with stops and links integrated\n",
            "2025-09-12 04:48:43, INFO: Wrote roadway network with transit in geojson format\n",
            "2025-09-12 04:48:44, INFO: Created transit network:\n",
            "<network_wrangler.transit.network.TransitNetwork object at 0x7c648f3addf0>\n",
            "2025-09-12 04:48:45, INFO: Wrote 7 TransitNetwork tables to /content/output_SF_OSM/6_transit_network_SanFrancisco\n",
            "2025-09-12 04:48:45, INFO: Wrote transit network to /content/output_SF_OSM/6_transit_network_SanFrancisco\n"
          ]
        }
      ]
    },
    {
      "cell_type": "markdown",
      "source": [
        "## Step 7: Create [Scenario](https://bayareametro.github.io/network_wrangler/main/api/#network_wrangler.scenario.Scenario)\n",
        "\n",
        "This is ready for for project cards to be applied, so a future scenario (and alternative scenarios) can be created.\n"
      ],
      "metadata": {
        "id": "wRjFCX4SKD9i"
      }
    },
    {
      "cell_type": "code",
      "source": [
        "my_scenario = network_wrangler.scenario.create_scenario(\n",
        "    base_scenario = {\n",
        "        \"road_net\": roadway_network,\n",
        "        \"transit_net\": transit_network,\n",
        "        \"applied_projects\": [],\n",
        "        \"conflicts\": {}\n",
        "    },\n",
        ")\n",
        "\n",
        "# write it to disk\n",
        "scenario_dir = OUTPUT_DIR / \"7_wrangler_scenario\"\n",
        "scenario_dir.mkdir(exist_ok=True)\n",
        "my_scenario.write(\n",
        "    path=scenario_dir,\n",
        "    name=\"mtc_2023\",\n",
        "    roadway_file_format=\"geojson\",\n",
        "    roadway_true_shape=True\n",
        ")\n",
        "WranglerLogger.info(f\"Wrote scenario to {scenario_dir}\")\n"
      ],
      "metadata": {
        "colab": {
          "base_uri": "https://localhost:8080/"
        },
        "id": "Of_Nr9J-KHYG",
        "outputId": "1b284b26-920d-43e1-cfac-7bc2920c0a50"
      },
      "execution_count": 24,
      "outputs": [
        {
          "output_type": "stream",
          "name": "stdout",
          "text": [
            "2025-09-12 04:48:45, INFO: Creating Scenario\n",
            "2025-09-12 04:49:10, INFO: Wrote 7 TransitNetwork tables to /content/output_SF_OSM/7_wrangler_scenario/transit\n",
            "2025-09-12 04:49:10, INFO: Wrote scenario to /content/output_SF_OSM/7_wrangler_scenario\n"
          ]
        }
      ]
    }
  ]
}